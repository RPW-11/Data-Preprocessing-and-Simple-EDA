{
  "nbformat": 4,
  "nbformat_minor": 0,
  "metadata": {
    "colab": {
      "provenance": [],
      "toc_visible": true,
      "authorship_tag": "ABX9TyMZ7OVC7eXr8DerV0szsVAC",
      "include_colab_link": true
    },
    "kernelspec": {
      "name": "python3",
      "display_name": "Python 3"
    },
    "language_info": {
      "name": "python"
    }
  },
  "cells": [
    {
      "cell_type": "markdown",
      "metadata": {
        "id": "view-in-github",
        "colab_type": "text"
      },
      "source": [
        "<a href=\"https://colab.research.google.com/github/RPW-11/Data-Preprocessing-and-Simple-EDA/blob/main/Data_Preprocessing_and_Simple_EDA.ipynb\" target=\"_parent\"><img src=\"https://colab.research.google.com/assets/colab-badge.svg\" alt=\"Open In Colab\"/></a>"
      ]
    },
    {
      "cell_type": "markdown",
      "source": [
        "# Data Preprocessing and Simple EDA\n",
        "*created by: Ida Bagus Kade Rainata Putra Wibawa*\n",
        "\n",
        "In this notebook, I will try to perform data processing and simple exploratory data analysis.\n",
        "\n",
        "The dataset that I will use is from [TMDB 15000 Movies Dataset (with credits)](https://www.kaggle.com/datasets/prabhakarz/tmdb-15000-movies-dataset-with-credits).\n",
        "\n",
        "<b>*Note: I use kaggle API to automatically download the dataset. You will need to upload your account token to be able to use the API* </b>"
      ],
      "metadata": {
        "id": "IXrkvK4duNhA"
      }
    },
    {
      "cell_type": "code",
      "source": [
        "# setting up to use kaggle API\n",
        "!pip install -q kaggle\n",
        "from google.colab import files\n",
        "files.upload()\n",
        "!mkdir ~/.kaggle\n",
        "! cp kaggle.json ~/.kaggle/\n",
        "! chmod 600 ~/.kaggle/kaggle.json\n",
        "! kaggle datasets list"
      ],
      "metadata": {
        "colab": {
          "base_uri": "https://localhost:8080/",
          "height": 487
        },
        "id": "pXGV0ooPE_kX",
        "outputId": "8a78058f-a1ef-4356-bf5c-1a203526830d"
      },
      "execution_count": null,
      "outputs": [
        {
          "output_type": "display_data",
          "data": {
            "text/plain": [
              "<IPython.core.display.HTML object>"
            ],
            "text/html": [
              "\n",
              "     <input type=\"file\" id=\"files-b5754b7c-2341-4d49-9038-6577d0fab756\" name=\"files[]\" multiple disabled\n",
              "        style=\"border:none\" />\n",
              "     <output id=\"result-b5754b7c-2341-4d49-9038-6577d0fab756\">\n",
              "      Upload widget is only available when the cell has been executed in the\n",
              "      current browser session. Please rerun this cell to enable.\n",
              "      </output>\n",
              "      <script>// Copyright 2017 Google LLC\n",
              "//\n",
              "// Licensed under the Apache License, Version 2.0 (the \"License\");\n",
              "// you may not use this file except in compliance with the License.\n",
              "// You may obtain a copy of the License at\n",
              "//\n",
              "//      http://www.apache.org/licenses/LICENSE-2.0\n",
              "//\n",
              "// Unless required by applicable law or agreed to in writing, software\n",
              "// distributed under the License is distributed on an \"AS IS\" BASIS,\n",
              "// WITHOUT WARRANTIES OR CONDITIONS OF ANY KIND, either express or implied.\n",
              "// See the License for the specific language governing permissions and\n",
              "// limitations under the License.\n",
              "\n",
              "/**\n",
              " * @fileoverview Helpers for google.colab Python module.\n",
              " */\n",
              "(function(scope) {\n",
              "function span(text, styleAttributes = {}) {\n",
              "  const element = document.createElement('span');\n",
              "  element.textContent = text;\n",
              "  for (const key of Object.keys(styleAttributes)) {\n",
              "    element.style[key] = styleAttributes[key];\n",
              "  }\n",
              "  return element;\n",
              "}\n",
              "\n",
              "// Max number of bytes which will be uploaded at a time.\n",
              "const MAX_PAYLOAD_SIZE = 100 * 1024;\n",
              "\n",
              "function _uploadFiles(inputId, outputId) {\n",
              "  const steps = uploadFilesStep(inputId, outputId);\n",
              "  const outputElement = document.getElementById(outputId);\n",
              "  // Cache steps on the outputElement to make it available for the next call\n",
              "  // to uploadFilesContinue from Python.\n",
              "  outputElement.steps = steps;\n",
              "\n",
              "  return _uploadFilesContinue(outputId);\n",
              "}\n",
              "\n",
              "// This is roughly an async generator (not supported in the browser yet),\n",
              "// where there are multiple asynchronous steps and the Python side is going\n",
              "// to poll for completion of each step.\n",
              "// This uses a Promise to block the python side on completion of each step,\n",
              "// then passes the result of the previous step as the input to the next step.\n",
              "function _uploadFilesContinue(outputId) {\n",
              "  const outputElement = document.getElementById(outputId);\n",
              "  const steps = outputElement.steps;\n",
              "\n",
              "  const next = steps.next(outputElement.lastPromiseValue);\n",
              "  return Promise.resolve(next.value.promise).then((value) => {\n",
              "    // Cache the last promise value to make it available to the next\n",
              "    // step of the generator.\n",
              "    outputElement.lastPromiseValue = value;\n",
              "    return next.value.response;\n",
              "  });\n",
              "}\n",
              "\n",
              "/**\n",
              " * Generator function which is called between each async step of the upload\n",
              " * process.\n",
              " * @param {string} inputId Element ID of the input file picker element.\n",
              " * @param {string} outputId Element ID of the output display.\n",
              " * @return {!Iterable<!Object>} Iterable of next steps.\n",
              " */\n",
              "function* uploadFilesStep(inputId, outputId) {\n",
              "  const inputElement = document.getElementById(inputId);\n",
              "  inputElement.disabled = false;\n",
              "\n",
              "  const outputElement = document.getElementById(outputId);\n",
              "  outputElement.innerHTML = '';\n",
              "\n",
              "  const pickedPromise = new Promise((resolve) => {\n",
              "    inputElement.addEventListener('change', (e) => {\n",
              "      resolve(e.target.files);\n",
              "    });\n",
              "  });\n",
              "\n",
              "  const cancel = document.createElement('button');\n",
              "  inputElement.parentElement.appendChild(cancel);\n",
              "  cancel.textContent = 'Cancel upload';\n",
              "  const cancelPromise = new Promise((resolve) => {\n",
              "    cancel.onclick = () => {\n",
              "      resolve(null);\n",
              "    };\n",
              "  });\n",
              "\n",
              "  // Wait for the user to pick the files.\n",
              "  const files = yield {\n",
              "    promise: Promise.race([pickedPromise, cancelPromise]),\n",
              "    response: {\n",
              "      action: 'starting',\n",
              "    }\n",
              "  };\n",
              "\n",
              "  cancel.remove();\n",
              "\n",
              "  // Disable the input element since further picks are not allowed.\n",
              "  inputElement.disabled = true;\n",
              "\n",
              "  if (!files) {\n",
              "    return {\n",
              "      response: {\n",
              "        action: 'complete',\n",
              "      }\n",
              "    };\n",
              "  }\n",
              "\n",
              "  for (const file of files) {\n",
              "    const li = document.createElement('li');\n",
              "    li.append(span(file.name, {fontWeight: 'bold'}));\n",
              "    li.append(span(\n",
              "        `(${file.type || 'n/a'}) - ${file.size} bytes, ` +\n",
              "        `last modified: ${\n",
              "            file.lastModifiedDate ? file.lastModifiedDate.toLocaleDateString() :\n",
              "                                    'n/a'} - `));\n",
              "    const percent = span('0% done');\n",
              "    li.appendChild(percent);\n",
              "\n",
              "    outputElement.appendChild(li);\n",
              "\n",
              "    const fileDataPromise = new Promise((resolve) => {\n",
              "      const reader = new FileReader();\n",
              "      reader.onload = (e) => {\n",
              "        resolve(e.target.result);\n",
              "      };\n",
              "      reader.readAsArrayBuffer(file);\n",
              "    });\n",
              "    // Wait for the data to be ready.\n",
              "    let fileData = yield {\n",
              "      promise: fileDataPromise,\n",
              "      response: {\n",
              "        action: 'continue',\n",
              "      }\n",
              "    };\n",
              "\n",
              "    // Use a chunked sending to avoid message size limits. See b/62115660.\n",
              "    let position = 0;\n",
              "    do {\n",
              "      const length = Math.min(fileData.byteLength - position, MAX_PAYLOAD_SIZE);\n",
              "      const chunk = new Uint8Array(fileData, position, length);\n",
              "      position += length;\n",
              "\n",
              "      const base64 = btoa(String.fromCharCode.apply(null, chunk));\n",
              "      yield {\n",
              "        response: {\n",
              "          action: 'append',\n",
              "          file: file.name,\n",
              "          data: base64,\n",
              "        },\n",
              "      };\n",
              "\n",
              "      let percentDone = fileData.byteLength === 0 ?\n",
              "          100 :\n",
              "          Math.round((position / fileData.byteLength) * 100);\n",
              "      percent.textContent = `${percentDone}% done`;\n",
              "\n",
              "    } while (position < fileData.byteLength);\n",
              "  }\n",
              "\n",
              "  // All done.\n",
              "  yield {\n",
              "    response: {\n",
              "      action: 'complete',\n",
              "    }\n",
              "  };\n",
              "}\n",
              "\n",
              "scope.google = scope.google || {};\n",
              "scope.google.colab = scope.google.colab || {};\n",
              "scope.google.colab._files = {\n",
              "  _uploadFiles,\n",
              "  _uploadFilesContinue,\n",
              "};\n",
              "})(self);\n",
              "</script> "
            ]
          },
          "metadata": {}
        },
        {
          "output_type": "stream",
          "name": "stdout",
          "text": [
            "Saving kaggle.json to kaggle.json\n",
            "ref                                                               title                                              size  lastUpdated          downloadCount  voteCount  usabilityRating  \n",
            "----------------------------------------------------------------  ------------------------------------------------  -----  -------------------  -------------  ---------  ---------------  \n",
            "salvatorerastelli/spotify-and-youtube                             Spotify and Youtube                                 9MB  2023-03-20 15:43:25           8593        314  1.0              \n",
            "ppb00x/country-gdp                                                Country_GDP                                         7KB  2023-04-07 06:47:36           1234         37  1.0              \n",
            "erdemtaha/cancer-data                                             Cancer Data                                        49KB  2023-03-22 07:57:00           3853         91  1.0              \n",
            "omartorres25/honda-data                                           Honda Cars Data                                   184KB  2023-03-28 04:19:11           1370         33  1.0              \n",
            "lokeshparab/amazon-products-dataset                               Amazon Products Sales Dataset 2023                 80MB  2023-03-26 10:45:19           4297         88  1.0              \n",
            "ulrikthygepedersen/fastfood-nutrition                             Fastfood Nutrition                                 12KB  2023-03-21 10:02:41           3513         67  1.0              \n",
            "ppb00x/credit-risk-customers                                      credit_risk_customers                              18KB  2023-04-12 08:28:28           1257         38  1.0              \n",
            "arnabchaki/data-science-salaries-2023                             Data Science Salaries 2023  💸                      25KB  2023-04-13 09:55:16           1958         58  1.0              \n",
            "kapturovalexander/nvidia-amd-intel-asus-msi-share-prices          NVIDIA, AMD, Intel, ASUS, MSI share prices (GPU)  902KB  2023-04-13 12:15:18            544         35  1.0              \n",
            "rkiattisak/student-performance-in-mathematics                     Student performance prediction                      9KB  2023-03-12 04:32:56           9273        197  1.0              \n",
            "ashishraut64/internet-users                                       Global Internet users                             163KB  2023-03-29 12:25:13           2330         57  1.0              \n",
            "rkiattisak/smart-watch-prices                                     Smart Watch prices                                  5KB  2023-04-12 06:04:23            675         23  1.0              \n",
            "arnabchaki/popular-video-games-1980-2023                          Popular Video Games 1980 - 2023 🎮                   1MB  2023-03-23 16:16:51           3963        109  1.0              \n",
            "ashishraut64/global-methane-emissions                             Global Emissions.                                  31KB  2023-03-27 09:02:51           2866         57  1.0              \n",
            "tayyarhussain/best-selling-game-consoles-of-all-time              Best-Selling Gaming Consoles Dataset                1KB  2023-04-01 10:59:00           1047         36  1.0              \n",
            "shrutiambekar/smartphone-specifications-and-prices-in-india       Smartphone Specifications and Prices in India      36KB  2023-04-13 06:13:13            507         23  1.0              \n",
            "kapturovalexander/bitcoin-and-ethereum-prices-from-start-to-2023  Bitcoin & Ethereum prices (from start to 2023)    149KB  2023-04-09 06:07:57            868         31  1.0              \n",
            "r1chardson/the-world-university-rankings-2011-2023                THE World University Rankings 2011-2023             1MB  2023-04-03 12:43:37           2102         47  1.0              \n",
            "dgoenrique/netflix-movies-and-tv-shows                            Netflix Movies and TV Shows                         2MB  2023-03-13 18:49:00           4058         98  1.0              \n",
            "dansbecker/melbourne-housing-snapshot                             Melbourne Housing Snapshot                        451KB  2018-06-05 12:52:24         113241       1248  0.7058824        \n"
          ]
        }
      ]
    },
    {
      "cell_type": "code",
      "source": [
        "!kaggle datasets download -d prabhakarz/tmdb-15000-movies-dataset-with-credits"
      ],
      "metadata": {
        "colab": {
          "base_uri": "https://localhost:8080/"
        },
        "id": "yur9gZ76FdIf",
        "outputId": "7d1a863f-75cb-47c9-f294-d555b8bc63f4"
      },
      "execution_count": null,
      "outputs": [
        {
          "output_type": "stream",
          "name": "stdout",
          "text": [
            "Downloading tmdb-15000-movies-dataset-with-credits.zip to /content\n",
            " 92% 52.0M/56.5M [00:02<00:00, 25.8MB/s]\n",
            "100% 56.5M/56.5M [00:02<00:00, 21.2MB/s]\n"
          ]
        }
      ]
    },
    {
      "cell_type": "code",
      "source": [
        "!unzip /content/tmdb-15000-movies-dataset-with-credits.zip"
      ],
      "metadata": {
        "colab": {
          "base_uri": "https://localhost:8080/"
        },
        "id": "W2bkVGJyF7o0",
        "outputId": "b8aba53f-540f-42bc-f422-0d1726278f1f"
      },
      "execution_count": null,
      "outputs": [
        {
          "output_type": "stream",
          "name": "stdout",
          "text": [
            "Archive:  /content/tmdb-15000-movies-dataset-with-credits.zip\n",
            "  inflating: movie_data.csv          \n"
          ]
        }
      ]
    },
    {
      "cell_type": "code",
      "execution_count": null,
      "metadata": {
        "id": "lC2Gos79EEh0"
      },
      "outputs": [],
      "source": [
        "# import libraries\n",
        "import pandas as pd\n",
        "import matplotlib.pyplot as plt\n",
        "import seaborn as sns"
      ]
    },
    {
      "cell_type": "code",
      "source": [
        "import os\n",
        "size = os.path.getsize('movie_data.csv')\n",
        "print(f\"The size of this data set is {size/(10**6):.2f} mb\")"
      ],
      "metadata": {
        "colab": {
          "base_uri": "https://localhost:8080/"
        },
        "id": "4YlTn-lYGEKr",
        "outputId": "557ec7c4-3966-4793-eb8d-8ed27d66c80a"
      },
      "execution_count": null,
      "outputs": [
        {
          "output_type": "stream",
          "name": "stdout",
          "text": [
            "The size of this data set is 305.80 mb\n"
          ]
        }
      ]
    },
    {
      "cell_type": "code",
      "source": [
        "df = pd.read_csv('movie_data.csv', lineterminator='\\n')\n",
        "df.head()"
      ],
      "metadata": {
        "colab": {
          "base_uri": "https://localhost:8080/",
          "height": 722
        },
        "id": "YylRNfK6GORD",
        "outputId": "0dd7d22f-fe6d-42a7-ace2-22b3b52c79c0"
      },
      "execution_count": null,
      "outputs": [
        {
          "output_type": "execute_result",
          "data": {
            "text/plain": [
              "   Unnamed: 0  adult                     backdrop_path  movie_id  \\\n",
              "0           0  False  /kQM7o3NIkruIZLoQ9E2XzZQ8Ujl.jpg    783461   \n",
              "1           1  False  /7w06baRS9VPm5RYz8lawTCLiR4j.jpg    592508   \n",
              "2           2  False  /sP9mRWiCxCuy17tUJfV8TpSZpqc.jpg    864692   \n",
              "3           3  False  /vBmmJYv5asJpdJZsyPPc4MMpfBe.jpg   1018228   \n",
              "4           4  False  /u7kuUaySqXBVAtqEl9vkTkAzHV9.jpg     20453   \n",
              "\n",
              "  original_language    original_title  \\\n",
              "0                hi         लूप लपेटा   \n",
              "1                hi      Sooryavanshi   \n",
              "2                hi              पठान   \n",
              "3                hi  चोर निकल के भागा   \n",
              "4                hi          3 Idiots   \n",
              "\n",
              "                                            overview  popularity  \\\n",
              "0  When her boyfriend loses a mobster's cash, Sav...      56.311   \n",
              "1  A fearless, faithful albeit slightly forgetful...      45.077   \n",
              "2  A soldier caught by enemies and presumed dead ...      47.611   \n",
              "3  A flight attendant and her boyfriend must stea...      43.789   \n",
              "4  Rascal. Joker. Dreamer. Genius... You've never...      37.260   \n",
              "\n",
              "                        poster_path release_date                title  video  \\\n",
              "0  /onGdT8sYi89drvSJyEJnft97rOq.jpg   2022-02-04         Looop Lapeta  False   \n",
              "1  /8p3mhjyLjHKtaAv8tFKfvEBtir0.jpg   2021-11-05         Sooryavanshi  False   \n",
              "2  /m1b9toKYyCujHuLoXB5GSDunO9e.jpg   2023-01-25              Pathaan  False   \n",
              "3  /1MIDERaEUMw1rYDM99tGZPY80Ap.jpg   2023-03-24  Chor Nikal Ke Bhaga  False   \n",
              "4  /66A9MqXOyVFCssoloscw79z8Tew.jpg   2009-12-25             3 Idiots  False   \n",
              "\n",
              "   vote_average  vote_count  \\\n",
              "0           6.2          54   \n",
              "1           5.8         133   \n",
              "2           6.7          70   \n",
              "3           7.2          55   \n",
              "4           8.0        2052   \n",
              "\n",
              "                                              genres  \\\n",
              "0  [{'id': 28, 'name': 'Action'}, {'id': 35, 'nam...   \n",
              "1  [{'id': 28, 'name': 'Action'}, {'id': 80, 'nam...   \n",
              "2  [{'id': 28, 'name': 'Action'}, {'id': 12, 'nam...   \n",
              "3  [{'id': 80, 'name': 'Crime'}, {'id': 53, 'name...   \n",
              "4  [{'id': 18, 'name': 'Drama'}, {'id': 35, 'name...   \n",
              "\n",
              "                                            keywords  \\\n",
              "0          ['remake', 'looop lapeta', 'saade saati']   \n",
              "1  ['police', 'sequel', 'police officer', 'cop un...   \n",
              "2  ['spy', 'fake death', 'spy thriller', 'spy uni...   \n",
              "3                    ['heist', 'airplane hijacking']   \n",
              "4  ['suicide', 'suicide attempt', 'college', 'mus...   \n",
              "\n",
              "                                                cast  \\\n",
              "0  [{'adult': False, 'gender': 1, 'id': 550167, '...   \n",
              "1  [{'adult': False, 'gender': 2, 'id': 35070, 'k...   \n",
              "2  [{'adult': False, 'gender': 2, 'id': 35742, 'k...   \n",
              "3  [{'adult': False, 'gender': 1, 'id': 1115720, ...   \n",
              "4  [{'adult': False, 'gender': 2, 'id': 52763, 'k...   \n",
              "\n",
              "                                                crew  \n",
              "0  [{'adult': False, 'gender': 2, 'id': 1071, 'kn...  \n",
              "1  [{'adult': False, 'gender': 2, 'id': 35070, 'k...  \n",
              "2  [{'adult': False, 'gender': 2, 'id': 35771, 'k...  \n",
              "3  [{'adult': False, 'gender': 2, 'id': 102246, '...  \n",
              "4  [{'adult': False, 'gender': 2, 'id': 35779, 'k...  "
            ],
            "text/html": [
              "\n",
              "  <div id=\"df-ebcc483f-c9cb-4e15-8e1c-4faf3a4b78ab\">\n",
              "    <div class=\"colab-df-container\">\n",
              "      <div>\n",
              "<style scoped>\n",
              "    .dataframe tbody tr th:only-of-type {\n",
              "        vertical-align: middle;\n",
              "    }\n",
              "\n",
              "    .dataframe tbody tr th {\n",
              "        vertical-align: top;\n",
              "    }\n",
              "\n",
              "    .dataframe thead th {\n",
              "        text-align: right;\n",
              "    }\n",
              "</style>\n",
              "<table border=\"1\" class=\"dataframe\">\n",
              "  <thead>\n",
              "    <tr style=\"text-align: right;\">\n",
              "      <th></th>\n",
              "      <th>Unnamed: 0</th>\n",
              "      <th>adult</th>\n",
              "      <th>backdrop_path</th>\n",
              "      <th>movie_id</th>\n",
              "      <th>original_language</th>\n",
              "      <th>original_title</th>\n",
              "      <th>overview</th>\n",
              "      <th>popularity</th>\n",
              "      <th>poster_path</th>\n",
              "      <th>release_date</th>\n",
              "      <th>title</th>\n",
              "      <th>video</th>\n",
              "      <th>vote_average</th>\n",
              "      <th>vote_count</th>\n",
              "      <th>genres</th>\n",
              "      <th>keywords</th>\n",
              "      <th>cast</th>\n",
              "      <th>crew</th>\n",
              "    </tr>\n",
              "  </thead>\n",
              "  <tbody>\n",
              "    <tr>\n",
              "      <th>0</th>\n",
              "      <td>0</td>\n",
              "      <td>False</td>\n",
              "      <td>/kQM7o3NIkruIZLoQ9E2XzZQ8Ujl.jpg</td>\n",
              "      <td>783461</td>\n",
              "      <td>hi</td>\n",
              "      <td>लूप लपेटा</td>\n",
              "      <td>When her boyfriend loses a mobster's cash, Sav...</td>\n",
              "      <td>56.311</td>\n",
              "      <td>/onGdT8sYi89drvSJyEJnft97rOq.jpg</td>\n",
              "      <td>2022-02-04</td>\n",
              "      <td>Looop Lapeta</td>\n",
              "      <td>False</td>\n",
              "      <td>6.2</td>\n",
              "      <td>54</td>\n",
              "      <td>[{'id': 28, 'name': 'Action'}, {'id': 35, 'nam...</td>\n",
              "      <td>['remake', 'looop lapeta', 'saade saati']</td>\n",
              "      <td>[{'adult': False, 'gender': 1, 'id': 550167, '...</td>\n",
              "      <td>[{'adult': False, 'gender': 2, 'id': 1071, 'kn...</td>\n",
              "    </tr>\n",
              "    <tr>\n",
              "      <th>1</th>\n",
              "      <td>1</td>\n",
              "      <td>False</td>\n",
              "      <td>/7w06baRS9VPm5RYz8lawTCLiR4j.jpg</td>\n",
              "      <td>592508</td>\n",
              "      <td>hi</td>\n",
              "      <td>Sooryavanshi</td>\n",
              "      <td>A fearless, faithful albeit slightly forgetful...</td>\n",
              "      <td>45.077</td>\n",
              "      <td>/8p3mhjyLjHKtaAv8tFKfvEBtir0.jpg</td>\n",
              "      <td>2021-11-05</td>\n",
              "      <td>Sooryavanshi</td>\n",
              "      <td>False</td>\n",
              "      <td>5.8</td>\n",
              "      <td>133</td>\n",
              "      <td>[{'id': 28, 'name': 'Action'}, {'id': 80, 'nam...</td>\n",
              "      <td>['police', 'sequel', 'police officer', 'cop un...</td>\n",
              "      <td>[{'adult': False, 'gender': 2, 'id': 35070, 'k...</td>\n",
              "      <td>[{'adult': False, 'gender': 2, 'id': 35070, 'k...</td>\n",
              "    </tr>\n",
              "    <tr>\n",
              "      <th>2</th>\n",
              "      <td>2</td>\n",
              "      <td>False</td>\n",
              "      <td>/sP9mRWiCxCuy17tUJfV8TpSZpqc.jpg</td>\n",
              "      <td>864692</td>\n",
              "      <td>hi</td>\n",
              "      <td>पठान</td>\n",
              "      <td>A soldier caught by enemies and presumed dead ...</td>\n",
              "      <td>47.611</td>\n",
              "      <td>/m1b9toKYyCujHuLoXB5GSDunO9e.jpg</td>\n",
              "      <td>2023-01-25</td>\n",
              "      <td>Pathaan</td>\n",
              "      <td>False</td>\n",
              "      <td>6.7</td>\n",
              "      <td>70</td>\n",
              "      <td>[{'id': 28, 'name': 'Action'}, {'id': 12, 'nam...</td>\n",
              "      <td>['spy', 'fake death', 'spy thriller', 'spy uni...</td>\n",
              "      <td>[{'adult': False, 'gender': 2, 'id': 35742, 'k...</td>\n",
              "      <td>[{'adult': False, 'gender': 2, 'id': 35771, 'k...</td>\n",
              "    </tr>\n",
              "    <tr>\n",
              "      <th>3</th>\n",
              "      <td>3</td>\n",
              "      <td>False</td>\n",
              "      <td>/vBmmJYv5asJpdJZsyPPc4MMpfBe.jpg</td>\n",
              "      <td>1018228</td>\n",
              "      <td>hi</td>\n",
              "      <td>चोर निकल के भागा</td>\n",
              "      <td>A flight attendant and her boyfriend must stea...</td>\n",
              "      <td>43.789</td>\n",
              "      <td>/1MIDERaEUMw1rYDM99tGZPY80Ap.jpg</td>\n",
              "      <td>2023-03-24</td>\n",
              "      <td>Chor Nikal Ke Bhaga</td>\n",
              "      <td>False</td>\n",
              "      <td>7.2</td>\n",
              "      <td>55</td>\n",
              "      <td>[{'id': 80, 'name': 'Crime'}, {'id': 53, 'name...</td>\n",
              "      <td>['heist', 'airplane hijacking']</td>\n",
              "      <td>[{'adult': False, 'gender': 1, 'id': 1115720, ...</td>\n",
              "      <td>[{'adult': False, 'gender': 2, 'id': 102246, '...</td>\n",
              "    </tr>\n",
              "    <tr>\n",
              "      <th>4</th>\n",
              "      <td>4</td>\n",
              "      <td>False</td>\n",
              "      <td>/u7kuUaySqXBVAtqEl9vkTkAzHV9.jpg</td>\n",
              "      <td>20453</td>\n",
              "      <td>hi</td>\n",
              "      <td>3 Idiots</td>\n",
              "      <td>Rascal. Joker. Dreamer. Genius... You've never...</td>\n",
              "      <td>37.260</td>\n",
              "      <td>/66A9MqXOyVFCssoloscw79z8Tew.jpg</td>\n",
              "      <td>2009-12-25</td>\n",
              "      <td>3 Idiots</td>\n",
              "      <td>False</td>\n",
              "      <td>8.0</td>\n",
              "      <td>2052</td>\n",
              "      <td>[{'id': 18, 'name': 'Drama'}, {'id': 35, 'name...</td>\n",
              "      <td>['suicide', 'suicide attempt', 'college', 'mus...</td>\n",
              "      <td>[{'adult': False, 'gender': 2, 'id': 52763, 'k...</td>\n",
              "      <td>[{'adult': False, 'gender': 2, 'id': 35779, 'k...</td>\n",
              "    </tr>\n",
              "  </tbody>\n",
              "</table>\n",
              "</div>\n",
              "      <button class=\"colab-df-convert\" onclick=\"convertToInteractive('df-ebcc483f-c9cb-4e15-8e1c-4faf3a4b78ab')\"\n",
              "              title=\"Convert this dataframe to an interactive table.\"\n",
              "              style=\"display:none;\">\n",
              "        \n",
              "  <svg xmlns=\"http://www.w3.org/2000/svg\" height=\"24px\"viewBox=\"0 0 24 24\"\n",
              "       width=\"24px\">\n",
              "    <path d=\"M0 0h24v24H0V0z\" fill=\"none\"/>\n",
              "    <path d=\"M18.56 5.44l.94 2.06.94-2.06 2.06-.94-2.06-.94-.94-2.06-.94 2.06-2.06.94zm-11 1L8.5 8.5l.94-2.06 2.06-.94-2.06-.94L8.5 2.5l-.94 2.06-2.06.94zm10 10l.94 2.06.94-2.06 2.06-.94-2.06-.94-.94-2.06-.94 2.06-2.06.94z\"/><path d=\"M17.41 7.96l-1.37-1.37c-.4-.4-.92-.59-1.43-.59-.52 0-1.04.2-1.43.59L10.3 9.45l-7.72 7.72c-.78.78-.78 2.05 0 2.83L4 21.41c.39.39.9.59 1.41.59.51 0 1.02-.2 1.41-.59l7.78-7.78 2.81-2.81c.8-.78.8-2.07 0-2.86zM5.41 20L4 18.59l7.72-7.72 1.47 1.35L5.41 20z\"/>\n",
              "  </svg>\n",
              "      </button>\n",
              "      \n",
              "  <style>\n",
              "    .colab-df-container {\n",
              "      display:flex;\n",
              "      flex-wrap:wrap;\n",
              "      gap: 12px;\n",
              "    }\n",
              "\n",
              "    .colab-df-convert {\n",
              "      background-color: #E8F0FE;\n",
              "      border: none;\n",
              "      border-radius: 50%;\n",
              "      cursor: pointer;\n",
              "      display: none;\n",
              "      fill: #1967D2;\n",
              "      height: 32px;\n",
              "      padding: 0 0 0 0;\n",
              "      width: 32px;\n",
              "    }\n",
              "\n",
              "    .colab-df-convert:hover {\n",
              "      background-color: #E2EBFA;\n",
              "      box-shadow: 0px 1px 2px rgba(60, 64, 67, 0.3), 0px 1px 3px 1px rgba(60, 64, 67, 0.15);\n",
              "      fill: #174EA6;\n",
              "    }\n",
              "\n",
              "    [theme=dark] .colab-df-convert {\n",
              "      background-color: #3B4455;\n",
              "      fill: #D2E3FC;\n",
              "    }\n",
              "\n",
              "    [theme=dark] .colab-df-convert:hover {\n",
              "      background-color: #434B5C;\n",
              "      box-shadow: 0px 1px 3px 1px rgba(0, 0, 0, 0.15);\n",
              "      filter: drop-shadow(0px 1px 2px rgba(0, 0, 0, 0.3));\n",
              "      fill: #FFFFFF;\n",
              "    }\n",
              "  </style>\n",
              "\n",
              "      <script>\n",
              "        const buttonEl =\n",
              "          document.querySelector('#df-ebcc483f-c9cb-4e15-8e1c-4faf3a4b78ab button.colab-df-convert');\n",
              "        buttonEl.style.display =\n",
              "          google.colab.kernel.accessAllowed ? 'block' : 'none';\n",
              "\n",
              "        async function convertToInteractive(key) {\n",
              "          const element = document.querySelector('#df-ebcc483f-c9cb-4e15-8e1c-4faf3a4b78ab');\n",
              "          const dataTable =\n",
              "            await google.colab.kernel.invokeFunction('convertToInteractive',\n",
              "                                                     [key], {});\n",
              "          if (!dataTable) return;\n",
              "\n",
              "          const docLinkHtml = 'Like what you see? Visit the ' +\n",
              "            '<a target=\"_blank\" href=https://colab.research.google.com/notebooks/data_table.ipynb>data table notebook</a>'\n",
              "            + ' to learn more about interactive tables.';\n",
              "          element.innerHTML = '';\n",
              "          dataTable['output_type'] = 'display_data';\n",
              "          await google.colab.output.renderOutput(dataTable, element);\n",
              "          const docLink = document.createElement('div');\n",
              "          docLink.innerHTML = docLinkHtml;\n",
              "          element.appendChild(docLink);\n",
              "        }\n",
              "      </script>\n",
              "    </div>\n",
              "  </div>\n",
              "  "
            ]
          },
          "metadata": {},
          "execution_count": 6
        }
      ]
    },
    {
      "cell_type": "markdown",
      "source": [
        "Immediately, we know that the first column which is **Unnamed: 0** is overlapping with the index. We will delete this column"
      ],
      "metadata": {
        "id": "inA8P_7XHcxz"
      }
    },
    {
      "cell_type": "code",
      "source": [
        "df.drop(labels=['Unnamed: 0'], axis=1, inplace=True)"
      ],
      "metadata": {
        "id": "plETT5DKHDEb"
      },
      "execution_count": null,
      "outputs": []
    },
    {
      "cell_type": "markdown",
      "source": [
        "Let's get the general information of this dataset. We'll use `dataframe.info()`"
      ],
      "metadata": {
        "id": "CZqc4R7LIT7t"
      }
    },
    {
      "cell_type": "code",
      "source": [
        "df.info()"
      ],
      "metadata": {
        "colab": {
          "base_uri": "https://localhost:8080/"
        },
        "id": "wf0SzLzeH2za",
        "outputId": "0d7a3fa2-4914-4ab6-ff5a-674531ffdeab"
      },
      "execution_count": null,
      "outputs": [
        {
          "output_type": "stream",
          "name": "stdout",
          "text": [
            "<class 'pandas.core.frame.DataFrame'>\n",
            "RangeIndex: 15871 entries, 0 to 15870\n",
            "Data columns (total 17 columns):\n",
            " #   Column             Non-Null Count  Dtype  \n",
            "---  ------             --------------  -----  \n",
            " 0   adult              15871 non-null  bool   \n",
            " 1   backdrop_path      13020 non-null  object \n",
            " 2   movie_id           15871 non-null  int64  \n",
            " 3   original_language  15871 non-null  object \n",
            " 4   original_title     15871 non-null  object \n",
            " 5   overview           15655 non-null  object \n",
            " 6   popularity         15871 non-null  float64\n",
            " 7   poster_path        15219 non-null  object \n",
            " 8   release_date       15871 non-null  object \n",
            " 9   title              15871 non-null  object \n",
            " 10  video              15871 non-null  bool   \n",
            " 11  vote_average       15871 non-null  float64\n",
            " 12  vote_count         15871 non-null  int64  \n",
            " 13  genres             15871 non-null  object \n",
            " 14  keywords           15871 non-null  object \n",
            " 15  cast               15871 non-null  object \n",
            " 16  crew               15871 non-null  object \n",
            "dtypes: bool(2), float64(2), int64(2), object(11)\n",
            "memory usage: 1.8+ MB\n"
          ]
        }
      ]
    },
    {
      "cell_type": "markdown",
      "source": [
        "As we can see, some columns have null values that we need to handle.\n",
        "Next, we will look at the shape of the dataset. We can use the `.shape` property from the dataframe."
      ],
      "metadata": {
        "id": "yCEItZQBIpsK"
      }
    },
    {
      "cell_type": "code",
      "source": [
        "print(f\"The shape of this data set is {df.shape}\")"
      ],
      "metadata": {
        "colab": {
          "base_uri": "https://localhost:8080/"
        },
        "id": "YakfdVzJIk09",
        "outputId": "40043239-084c-49c7-91ea-f3da6413b7fe"
      },
      "execution_count": null,
      "outputs": [
        {
          "output_type": "stream",
          "name": "stdout",
          "text": [
            "The shape of this data set is (15871, 17)\n"
          ]
        }
      ]
    },
    {
      "cell_type": "markdown",
      "source": [
        "## Handling Missing Values\n",
        "We saw that the dataset has a bunch of missing values. We need to examine those missing values before doing some training for machine learning models.\n",
        "The first step that we can do is to count the percentage of missing values on each column."
      ],
      "metadata": {
        "id": "1fvacpH1JLWj"
      }
    },
    {
      "cell_type": "code",
      "source": [
        "missing_percentage = pd.DataFrame({'amount': df.isnull().sum(), 'percentage': (df.isnull().sum()/df.shape[0]*100).round(2)})\n",
        "missing_percentage = missing_percentage[missing_percentage['amount'] > 0]\n",
        "missing_percentage"
      ],
      "metadata": {
        "colab": {
          "base_uri": "https://localhost:8080/",
          "height": 143
        },
        "id": "4FX93cNxIKeo",
        "outputId": "7c12b9cc-5964-4e60-a78d-79be21e74b9f"
      },
      "execution_count": null,
      "outputs": [
        {
          "output_type": "execute_result",
          "data": {
            "text/plain": [
              "               amount  percentage\n",
              "backdrop_path    2851       17.96\n",
              "overview          216        1.36\n",
              "poster_path       652        4.11"
            ],
            "text/html": [
              "\n",
              "  <div id=\"df-5ff98e21-fd48-483c-83eb-dbb5f428cd9a\">\n",
              "    <div class=\"colab-df-container\">\n",
              "      <div>\n",
              "<style scoped>\n",
              "    .dataframe tbody tr th:only-of-type {\n",
              "        vertical-align: middle;\n",
              "    }\n",
              "\n",
              "    .dataframe tbody tr th {\n",
              "        vertical-align: top;\n",
              "    }\n",
              "\n",
              "    .dataframe thead th {\n",
              "        text-align: right;\n",
              "    }\n",
              "</style>\n",
              "<table border=\"1\" class=\"dataframe\">\n",
              "  <thead>\n",
              "    <tr style=\"text-align: right;\">\n",
              "      <th></th>\n",
              "      <th>amount</th>\n",
              "      <th>percentage</th>\n",
              "    </tr>\n",
              "  </thead>\n",
              "  <tbody>\n",
              "    <tr>\n",
              "      <th>backdrop_path</th>\n",
              "      <td>2851</td>\n",
              "      <td>17.96</td>\n",
              "    </tr>\n",
              "    <tr>\n",
              "      <th>overview</th>\n",
              "      <td>216</td>\n",
              "      <td>1.36</td>\n",
              "    </tr>\n",
              "    <tr>\n",
              "      <th>poster_path</th>\n",
              "      <td>652</td>\n",
              "      <td>4.11</td>\n",
              "    </tr>\n",
              "  </tbody>\n",
              "</table>\n",
              "</div>\n",
              "      <button class=\"colab-df-convert\" onclick=\"convertToInteractive('df-5ff98e21-fd48-483c-83eb-dbb5f428cd9a')\"\n",
              "              title=\"Convert this dataframe to an interactive table.\"\n",
              "              style=\"display:none;\">\n",
              "        \n",
              "  <svg xmlns=\"http://www.w3.org/2000/svg\" height=\"24px\"viewBox=\"0 0 24 24\"\n",
              "       width=\"24px\">\n",
              "    <path d=\"M0 0h24v24H0V0z\" fill=\"none\"/>\n",
              "    <path d=\"M18.56 5.44l.94 2.06.94-2.06 2.06-.94-2.06-.94-.94-2.06-.94 2.06-2.06.94zm-11 1L8.5 8.5l.94-2.06 2.06-.94-2.06-.94L8.5 2.5l-.94 2.06-2.06.94zm10 10l.94 2.06.94-2.06 2.06-.94-2.06-.94-.94-2.06-.94 2.06-2.06.94z\"/><path d=\"M17.41 7.96l-1.37-1.37c-.4-.4-.92-.59-1.43-.59-.52 0-1.04.2-1.43.59L10.3 9.45l-7.72 7.72c-.78.78-.78 2.05 0 2.83L4 21.41c.39.39.9.59 1.41.59.51 0 1.02-.2 1.41-.59l7.78-7.78 2.81-2.81c.8-.78.8-2.07 0-2.86zM5.41 20L4 18.59l7.72-7.72 1.47 1.35L5.41 20z\"/>\n",
              "  </svg>\n",
              "      </button>\n",
              "      \n",
              "  <style>\n",
              "    .colab-df-container {\n",
              "      display:flex;\n",
              "      flex-wrap:wrap;\n",
              "      gap: 12px;\n",
              "    }\n",
              "\n",
              "    .colab-df-convert {\n",
              "      background-color: #E8F0FE;\n",
              "      border: none;\n",
              "      border-radius: 50%;\n",
              "      cursor: pointer;\n",
              "      display: none;\n",
              "      fill: #1967D2;\n",
              "      height: 32px;\n",
              "      padding: 0 0 0 0;\n",
              "      width: 32px;\n",
              "    }\n",
              "\n",
              "    .colab-df-convert:hover {\n",
              "      background-color: #E2EBFA;\n",
              "      box-shadow: 0px 1px 2px rgba(60, 64, 67, 0.3), 0px 1px 3px 1px rgba(60, 64, 67, 0.15);\n",
              "      fill: #174EA6;\n",
              "    }\n",
              "\n",
              "    [theme=dark] .colab-df-convert {\n",
              "      background-color: #3B4455;\n",
              "      fill: #D2E3FC;\n",
              "    }\n",
              "\n",
              "    [theme=dark] .colab-df-convert:hover {\n",
              "      background-color: #434B5C;\n",
              "      box-shadow: 0px 1px 3px 1px rgba(0, 0, 0, 0.15);\n",
              "      filter: drop-shadow(0px 1px 2px rgba(0, 0, 0, 0.3));\n",
              "      fill: #FFFFFF;\n",
              "    }\n",
              "  </style>\n",
              "\n",
              "      <script>\n",
              "        const buttonEl =\n",
              "          document.querySelector('#df-5ff98e21-fd48-483c-83eb-dbb5f428cd9a button.colab-df-convert');\n",
              "        buttonEl.style.display =\n",
              "          google.colab.kernel.accessAllowed ? 'block' : 'none';\n",
              "\n",
              "        async function convertToInteractive(key) {\n",
              "          const element = document.querySelector('#df-5ff98e21-fd48-483c-83eb-dbb5f428cd9a');\n",
              "          const dataTable =\n",
              "            await google.colab.kernel.invokeFunction('convertToInteractive',\n",
              "                                                     [key], {});\n",
              "          if (!dataTable) return;\n",
              "\n",
              "          const docLinkHtml = 'Like what you see? Visit the ' +\n",
              "            '<a target=\"_blank\" href=https://colab.research.google.com/notebooks/data_table.ipynb>data table notebook</a>'\n",
              "            + ' to learn more about interactive tables.';\n",
              "          element.innerHTML = '';\n",
              "          dataTable['output_type'] = 'display_data';\n",
              "          await google.colab.output.renderOutput(dataTable, element);\n",
              "          const docLink = document.createElement('div');\n",
              "          docLink.innerHTML = docLinkHtml;\n",
              "          element.appendChild(docLink);\n",
              "        }\n",
              "      </script>\n",
              "    </div>\n",
              "  </div>\n",
              "  "
            ]
          },
          "metadata": {},
          "execution_count": 10
        }
      ]
    },
    {
      "cell_type": "markdown",
      "source": [
        "Okay, let's try to understand the columns first.\n",
        "\n",
        "\n",
        "1.   **backdrop_path** is basically a file path of the movie's backdrop picture.\n",
        "2.   **overview** is the movie's synopsis.\n",
        "3. **poster_path** is also a file path of the movie's poster.\n",
        "\n",
        "The **path** column type might not be necessary for the analysis since it's just \"a path of the image\", so we'll just drop it.\n",
        "\n",
        "For **overview** column, it would be impractical to fill all the missing values with the appropriate synopsis. We're just going to fill the missing values with \"**Not given**\"\n"
      ],
      "metadata": {
        "id": "ZVtn36K0Nh2a"
      }
    },
    {
      "cell_type": "code",
      "source": [
        "cols = ['backdrop_path','poster_path']\n",
        "df.drop(labels=cols, axis=1, inplace=True)"
      ],
      "metadata": {
        "id": "s0pjEzJDJqDz"
      },
      "execution_count": null,
      "outputs": []
    },
    {
      "cell_type": "code",
      "source": [
        "# print the columns\n",
        "print(f\"These are the new exisiting columns {list(df.columns)}\")"
      ],
      "metadata": {
        "colab": {
          "base_uri": "https://localhost:8080/"
        },
        "id": "96uOA2FQSnxY",
        "outputId": "4f2c3615-9d01-4da9-9e11-c66d2baf3e4f"
      },
      "execution_count": null,
      "outputs": [
        {
          "output_type": "stream",
          "name": "stdout",
          "text": [
            "These are the new exisiting columns ['adult', 'movie_id', 'original_language', 'original_title', 'overview', 'popularity', 'release_date', 'title', 'video', 'vote_average', 'vote_count', 'genres', 'keywords', 'cast', 'crew']\n"
          ]
        }
      ]
    },
    {
      "cell_type": "code",
      "source": [
        "# fill the null values on the column \"overview\" with \"Not given\"\n",
        "indexes = df[df['overview'].isnull()]['overview'].index\n",
        "df.loc[indexes,['overview']] = 'Not given'"
      ],
      "metadata": {
        "id": "jcSSH17PSxr6"
      },
      "execution_count": null,
      "outputs": []
    },
    {
      "cell_type": "code",
      "source": [
        "df[df['overview'] == 'Not given']['overview']"
      ],
      "metadata": {
        "colab": {
          "base_uri": "https://localhost:8080/"
        },
        "id": "DK0xUrR-TFmw",
        "outputId": "d49272dd-e5c3-434f-b095-95f30e88ef7f"
      },
      "execution_count": null,
      "outputs": [
        {
          "output_type": "execute_result",
          "data": {
            "text/plain": [
              "191      Not given\n",
              "731      Not given\n",
              "1043     Not given\n",
              "1066     Not given\n",
              "1230     Not given\n",
              "           ...    \n",
              "5800     Not given\n",
              "5816     Not given\n",
              "5819     Not given\n",
              "15102    Not given\n",
              "15848    Not given\n",
              "Name: overview, Length: 216, dtype: object"
            ]
          },
          "metadata": {},
          "execution_count": 14
        }
      ]
    },
    {
      "cell_type": "markdown",
      "source": [
        "Let's make sure that no column contains null values. We can use `df.isnull().sum()`"
      ],
      "metadata": {
        "id": "EA4xDZmIUU3C"
      }
    },
    {
      "cell_type": "code",
      "source": [
        "df.isnull().sum()"
      ],
      "metadata": {
        "colab": {
          "base_uri": "https://localhost:8080/"
        },
        "id": "8UIlaceYULWp",
        "outputId": "ff924ef3-5595-4413-89dd-4d3769aa0696"
      },
      "execution_count": null,
      "outputs": [
        {
          "output_type": "execute_result",
          "data": {
            "text/plain": [
              "adult                0\n",
              "movie_id             0\n",
              "original_language    0\n",
              "original_title       0\n",
              "overview             0\n",
              "popularity           0\n",
              "release_date         0\n",
              "title                0\n",
              "video                0\n",
              "vote_average         0\n",
              "vote_count           0\n",
              "genres               0\n",
              "keywords             0\n",
              "cast                 0\n",
              "crew                 0\n",
              "dtype: int64"
            ]
          },
          "metadata": {},
          "execution_count": 15
        }
      ]
    },
    {
      "cell_type": "markdown",
      "source": [
        "## Working with date data type\n",
        "\n",
        "You might've noticed that the **release_date** column is in the format of `object`. We need to convert it to **timestamp** type to make it easier to work on. We'll use `pd.to_datetime`"
      ],
      "metadata": {
        "id": "8hJanjHZUumT"
      }
    },
    {
      "cell_type": "code",
      "source": [
        "df['release_date'] = pd.to_datetime(df['release_date'])"
      ],
      "metadata": {
        "id": "2IRLeRe1Ufb-"
      },
      "execution_count": null,
      "outputs": []
    },
    {
      "cell_type": "code",
      "source": [
        "df.dtypes"
      ],
      "metadata": {
        "colab": {
          "base_uri": "https://localhost:8080/"
        },
        "id": "WAOzahI2WExF",
        "outputId": "206fc4d9-ac33-4ea7-bffb-abf03f6e9ff6"
      },
      "execution_count": null,
      "outputs": [
        {
          "output_type": "execute_result",
          "data": {
            "text/plain": [
              "adult                          bool\n",
              "movie_id                      int64\n",
              "original_language            object\n",
              "original_title               object\n",
              "overview                     object\n",
              "popularity                  float64\n",
              "release_date         datetime64[ns]\n",
              "title                        object\n",
              "video                          bool\n",
              "vote_average                float64\n",
              "vote_count                    int64\n",
              "genres                       object\n",
              "keywords                     object\n",
              "cast                         object\n",
              "crew                         object\n",
              "dtype: object"
            ]
          },
          "metadata": {},
          "execution_count": 17
        }
      ]
    },
    {
      "cell_type": "markdown",
      "source": [
        "Now, let's extract the day, month, and year from **release_date** column.  We can use date properties (`df.dt`)"
      ],
      "metadata": {
        "id": "TAG1-LrkXH1E"
      }
    },
    {
      "cell_type": "code",
      "source": [
        "# extract year\n",
        "df['year'] = df['release_date'].dt.year\n",
        "# extract month name\n",
        "df['month'] = df['release_date'].dt.month_name()\n",
        "# extract day name \n",
        "df['day'] = df['release_date'].dt.day_name()\n",
        "df.head()"
      ],
      "metadata": {
        "colab": {
          "base_uri": "https://localhost:8080/",
          "height": 704
        },
        "id": "mQxRa-N_WHiR",
        "outputId": "e1fd0e88-1292-4dd6-8bb2-017260489928"
      },
      "execution_count": null,
      "outputs": [
        {
          "output_type": "execute_result",
          "data": {
            "text/plain": [
              "   adult  movie_id original_language    original_title  \\\n",
              "0  False    783461                hi         लूप लपेटा   \n",
              "1  False    592508                hi      Sooryavanshi   \n",
              "2  False    864692                hi              पठान   \n",
              "3  False   1018228                hi  चोर निकल के भागा   \n",
              "4  False     20453                hi          3 Idiots   \n",
              "\n",
              "                                            overview  popularity release_date  \\\n",
              "0  When her boyfriend loses a mobster's cash, Sav...      56.311   2022-02-04   \n",
              "1  A fearless, faithful albeit slightly forgetful...      45.077   2021-11-05   \n",
              "2  A soldier caught by enemies and presumed dead ...      47.611   2023-01-25   \n",
              "3  A flight attendant and her boyfriend must stea...      43.789   2023-03-24   \n",
              "4  Rascal. Joker. Dreamer. Genius... You've never...      37.260   2009-12-25   \n",
              "\n",
              "                 title  video  vote_average  vote_count  \\\n",
              "0         Looop Lapeta  False           6.2          54   \n",
              "1         Sooryavanshi  False           5.8         133   \n",
              "2              Pathaan  False           6.7          70   \n",
              "3  Chor Nikal Ke Bhaga  False           7.2          55   \n",
              "4             3 Idiots  False           8.0        2052   \n",
              "\n",
              "                                              genres  \\\n",
              "0  [{'id': 28, 'name': 'Action'}, {'id': 35, 'nam...   \n",
              "1  [{'id': 28, 'name': 'Action'}, {'id': 80, 'nam...   \n",
              "2  [{'id': 28, 'name': 'Action'}, {'id': 12, 'nam...   \n",
              "3  [{'id': 80, 'name': 'Crime'}, {'id': 53, 'name...   \n",
              "4  [{'id': 18, 'name': 'Drama'}, {'id': 35, 'name...   \n",
              "\n",
              "                                            keywords  \\\n",
              "0          ['remake', 'looop lapeta', 'saade saati']   \n",
              "1  ['police', 'sequel', 'police officer', 'cop un...   \n",
              "2  ['spy', 'fake death', 'spy thriller', 'spy uni...   \n",
              "3                    ['heist', 'airplane hijacking']   \n",
              "4  ['suicide', 'suicide attempt', 'college', 'mus...   \n",
              "\n",
              "                                                cast  \\\n",
              "0  [{'adult': False, 'gender': 1, 'id': 550167, '...   \n",
              "1  [{'adult': False, 'gender': 2, 'id': 35070, 'k...   \n",
              "2  [{'adult': False, 'gender': 2, 'id': 35742, 'k...   \n",
              "3  [{'adult': False, 'gender': 1, 'id': 1115720, ...   \n",
              "4  [{'adult': False, 'gender': 2, 'id': 52763, 'k...   \n",
              "\n",
              "                                                crew  year     month  \\\n",
              "0  [{'adult': False, 'gender': 2, 'id': 1071, 'kn...  2022  February   \n",
              "1  [{'adult': False, 'gender': 2, 'id': 35070, 'k...  2021  November   \n",
              "2  [{'adult': False, 'gender': 2, 'id': 35771, 'k...  2023   January   \n",
              "3  [{'adult': False, 'gender': 2, 'id': 102246, '...  2023     March   \n",
              "4  [{'adult': False, 'gender': 2, 'id': 35779, 'k...  2009  December   \n",
              "\n",
              "         day  \n",
              "0     Friday  \n",
              "1     Friday  \n",
              "2  Wednesday  \n",
              "3     Friday  \n",
              "4     Friday  "
            ],
            "text/html": [
              "\n",
              "  <div id=\"df-2d5af33d-dcc9-4f91-a4f2-87c27856e72b\">\n",
              "    <div class=\"colab-df-container\">\n",
              "      <div>\n",
              "<style scoped>\n",
              "    .dataframe tbody tr th:only-of-type {\n",
              "        vertical-align: middle;\n",
              "    }\n",
              "\n",
              "    .dataframe tbody tr th {\n",
              "        vertical-align: top;\n",
              "    }\n",
              "\n",
              "    .dataframe thead th {\n",
              "        text-align: right;\n",
              "    }\n",
              "</style>\n",
              "<table border=\"1\" class=\"dataframe\">\n",
              "  <thead>\n",
              "    <tr style=\"text-align: right;\">\n",
              "      <th></th>\n",
              "      <th>adult</th>\n",
              "      <th>movie_id</th>\n",
              "      <th>original_language</th>\n",
              "      <th>original_title</th>\n",
              "      <th>overview</th>\n",
              "      <th>popularity</th>\n",
              "      <th>release_date</th>\n",
              "      <th>title</th>\n",
              "      <th>video</th>\n",
              "      <th>vote_average</th>\n",
              "      <th>vote_count</th>\n",
              "      <th>genres</th>\n",
              "      <th>keywords</th>\n",
              "      <th>cast</th>\n",
              "      <th>crew</th>\n",
              "      <th>year</th>\n",
              "      <th>month</th>\n",
              "      <th>day</th>\n",
              "    </tr>\n",
              "  </thead>\n",
              "  <tbody>\n",
              "    <tr>\n",
              "      <th>0</th>\n",
              "      <td>False</td>\n",
              "      <td>783461</td>\n",
              "      <td>hi</td>\n",
              "      <td>लूप लपेटा</td>\n",
              "      <td>When her boyfriend loses a mobster's cash, Sav...</td>\n",
              "      <td>56.311</td>\n",
              "      <td>2022-02-04</td>\n",
              "      <td>Looop Lapeta</td>\n",
              "      <td>False</td>\n",
              "      <td>6.2</td>\n",
              "      <td>54</td>\n",
              "      <td>[{'id': 28, 'name': 'Action'}, {'id': 35, 'nam...</td>\n",
              "      <td>['remake', 'looop lapeta', 'saade saati']</td>\n",
              "      <td>[{'adult': False, 'gender': 1, 'id': 550167, '...</td>\n",
              "      <td>[{'adult': False, 'gender': 2, 'id': 1071, 'kn...</td>\n",
              "      <td>2022</td>\n",
              "      <td>February</td>\n",
              "      <td>Friday</td>\n",
              "    </tr>\n",
              "    <tr>\n",
              "      <th>1</th>\n",
              "      <td>False</td>\n",
              "      <td>592508</td>\n",
              "      <td>hi</td>\n",
              "      <td>Sooryavanshi</td>\n",
              "      <td>A fearless, faithful albeit slightly forgetful...</td>\n",
              "      <td>45.077</td>\n",
              "      <td>2021-11-05</td>\n",
              "      <td>Sooryavanshi</td>\n",
              "      <td>False</td>\n",
              "      <td>5.8</td>\n",
              "      <td>133</td>\n",
              "      <td>[{'id': 28, 'name': 'Action'}, {'id': 80, 'nam...</td>\n",
              "      <td>['police', 'sequel', 'police officer', 'cop un...</td>\n",
              "      <td>[{'adult': False, 'gender': 2, 'id': 35070, 'k...</td>\n",
              "      <td>[{'adult': False, 'gender': 2, 'id': 35070, 'k...</td>\n",
              "      <td>2021</td>\n",
              "      <td>November</td>\n",
              "      <td>Friday</td>\n",
              "    </tr>\n",
              "    <tr>\n",
              "      <th>2</th>\n",
              "      <td>False</td>\n",
              "      <td>864692</td>\n",
              "      <td>hi</td>\n",
              "      <td>पठान</td>\n",
              "      <td>A soldier caught by enemies and presumed dead ...</td>\n",
              "      <td>47.611</td>\n",
              "      <td>2023-01-25</td>\n",
              "      <td>Pathaan</td>\n",
              "      <td>False</td>\n",
              "      <td>6.7</td>\n",
              "      <td>70</td>\n",
              "      <td>[{'id': 28, 'name': 'Action'}, {'id': 12, 'nam...</td>\n",
              "      <td>['spy', 'fake death', 'spy thriller', 'spy uni...</td>\n",
              "      <td>[{'adult': False, 'gender': 2, 'id': 35742, 'k...</td>\n",
              "      <td>[{'adult': False, 'gender': 2, 'id': 35771, 'k...</td>\n",
              "      <td>2023</td>\n",
              "      <td>January</td>\n",
              "      <td>Wednesday</td>\n",
              "    </tr>\n",
              "    <tr>\n",
              "      <th>3</th>\n",
              "      <td>False</td>\n",
              "      <td>1018228</td>\n",
              "      <td>hi</td>\n",
              "      <td>चोर निकल के भागा</td>\n",
              "      <td>A flight attendant and her boyfriend must stea...</td>\n",
              "      <td>43.789</td>\n",
              "      <td>2023-03-24</td>\n",
              "      <td>Chor Nikal Ke Bhaga</td>\n",
              "      <td>False</td>\n",
              "      <td>7.2</td>\n",
              "      <td>55</td>\n",
              "      <td>[{'id': 80, 'name': 'Crime'}, {'id': 53, 'name...</td>\n",
              "      <td>['heist', 'airplane hijacking']</td>\n",
              "      <td>[{'adult': False, 'gender': 1, 'id': 1115720, ...</td>\n",
              "      <td>[{'adult': False, 'gender': 2, 'id': 102246, '...</td>\n",
              "      <td>2023</td>\n",
              "      <td>March</td>\n",
              "      <td>Friday</td>\n",
              "    </tr>\n",
              "    <tr>\n",
              "      <th>4</th>\n",
              "      <td>False</td>\n",
              "      <td>20453</td>\n",
              "      <td>hi</td>\n",
              "      <td>3 Idiots</td>\n",
              "      <td>Rascal. Joker. Dreamer. Genius... You've never...</td>\n",
              "      <td>37.260</td>\n",
              "      <td>2009-12-25</td>\n",
              "      <td>3 Idiots</td>\n",
              "      <td>False</td>\n",
              "      <td>8.0</td>\n",
              "      <td>2052</td>\n",
              "      <td>[{'id': 18, 'name': 'Drama'}, {'id': 35, 'name...</td>\n",
              "      <td>['suicide', 'suicide attempt', 'college', 'mus...</td>\n",
              "      <td>[{'adult': False, 'gender': 2, 'id': 52763, 'k...</td>\n",
              "      <td>[{'adult': False, 'gender': 2, 'id': 35779, 'k...</td>\n",
              "      <td>2009</td>\n",
              "      <td>December</td>\n",
              "      <td>Friday</td>\n",
              "    </tr>\n",
              "  </tbody>\n",
              "</table>\n",
              "</div>\n",
              "      <button class=\"colab-df-convert\" onclick=\"convertToInteractive('df-2d5af33d-dcc9-4f91-a4f2-87c27856e72b')\"\n",
              "              title=\"Convert this dataframe to an interactive table.\"\n",
              "              style=\"display:none;\">\n",
              "        \n",
              "  <svg xmlns=\"http://www.w3.org/2000/svg\" height=\"24px\"viewBox=\"0 0 24 24\"\n",
              "       width=\"24px\">\n",
              "    <path d=\"M0 0h24v24H0V0z\" fill=\"none\"/>\n",
              "    <path d=\"M18.56 5.44l.94 2.06.94-2.06 2.06-.94-2.06-.94-.94-2.06-.94 2.06-2.06.94zm-11 1L8.5 8.5l.94-2.06 2.06-.94-2.06-.94L8.5 2.5l-.94 2.06-2.06.94zm10 10l.94 2.06.94-2.06 2.06-.94-2.06-.94-.94-2.06-.94 2.06-2.06.94z\"/><path d=\"M17.41 7.96l-1.37-1.37c-.4-.4-.92-.59-1.43-.59-.52 0-1.04.2-1.43.59L10.3 9.45l-7.72 7.72c-.78.78-.78 2.05 0 2.83L4 21.41c.39.39.9.59 1.41.59.51 0 1.02-.2 1.41-.59l7.78-7.78 2.81-2.81c.8-.78.8-2.07 0-2.86zM5.41 20L4 18.59l7.72-7.72 1.47 1.35L5.41 20z\"/>\n",
              "  </svg>\n",
              "      </button>\n",
              "      \n",
              "  <style>\n",
              "    .colab-df-container {\n",
              "      display:flex;\n",
              "      flex-wrap:wrap;\n",
              "      gap: 12px;\n",
              "    }\n",
              "\n",
              "    .colab-df-convert {\n",
              "      background-color: #E8F0FE;\n",
              "      border: none;\n",
              "      border-radius: 50%;\n",
              "      cursor: pointer;\n",
              "      display: none;\n",
              "      fill: #1967D2;\n",
              "      height: 32px;\n",
              "      padding: 0 0 0 0;\n",
              "      width: 32px;\n",
              "    }\n",
              "\n",
              "    .colab-df-convert:hover {\n",
              "      background-color: #E2EBFA;\n",
              "      box-shadow: 0px 1px 2px rgba(60, 64, 67, 0.3), 0px 1px 3px 1px rgba(60, 64, 67, 0.15);\n",
              "      fill: #174EA6;\n",
              "    }\n",
              "\n",
              "    [theme=dark] .colab-df-convert {\n",
              "      background-color: #3B4455;\n",
              "      fill: #D2E3FC;\n",
              "    }\n",
              "\n",
              "    [theme=dark] .colab-df-convert:hover {\n",
              "      background-color: #434B5C;\n",
              "      box-shadow: 0px 1px 3px 1px rgba(0, 0, 0, 0.15);\n",
              "      filter: drop-shadow(0px 1px 2px rgba(0, 0, 0, 0.3));\n",
              "      fill: #FFFFFF;\n",
              "    }\n",
              "  </style>\n",
              "\n",
              "      <script>\n",
              "        const buttonEl =\n",
              "          document.querySelector('#df-2d5af33d-dcc9-4f91-a4f2-87c27856e72b button.colab-df-convert');\n",
              "        buttonEl.style.display =\n",
              "          google.colab.kernel.accessAllowed ? 'block' : 'none';\n",
              "\n",
              "        async function convertToInteractive(key) {\n",
              "          const element = document.querySelector('#df-2d5af33d-dcc9-4f91-a4f2-87c27856e72b');\n",
              "          const dataTable =\n",
              "            await google.colab.kernel.invokeFunction('convertToInteractive',\n",
              "                                                     [key], {});\n",
              "          if (!dataTable) return;\n",
              "\n",
              "          const docLinkHtml = 'Like what you see? Visit the ' +\n",
              "            '<a target=\"_blank\" href=https://colab.research.google.com/notebooks/data_table.ipynb>data table notebook</a>'\n",
              "            + ' to learn more about interactive tables.';\n",
              "          element.innerHTML = '';\n",
              "          dataTable['output_type'] = 'display_data';\n",
              "          await google.colab.output.renderOutput(dataTable, element);\n",
              "          const docLink = document.createElement('div');\n",
              "          docLink.innerHTML = docLinkHtml;\n",
              "          element.appendChild(docLink);\n",
              "        }\n",
              "      </script>\n",
              "    </div>\n",
              "  </div>\n",
              "  "
            ]
          },
          "metadata": {},
          "execution_count": 18
        }
      ]
    },
    {
      "cell_type": "markdown",
      "source": [
        "### Getting insights using dates\n",
        "Let's try to answer these questions:\n",
        "\n",
        "\n",
        "`1.   What are the released years that have the highest number of movies (mention 10)?`\n",
        "\n",
        "`2.   What are the released months that have the highest number of movies?`\n",
        "\n",
        "`3. What are the released days that have the highest number of movies?`\n",
        "\n"
      ],
      "metadata": {
        "id": "3_W2A2YgBhUm"
      }
    },
    {
      "cell_type": "code",
      "source": [
        "# year\n",
        "top_10_years = df.groupby('year')['year'].count().sort_values(ascending=False).head(10).reset_index(name='count')\n",
        "sns.barplot(x='year', y='count', data=top_10_years, order = top_10_years['year'])\n",
        "plt.title('Top 10 years with the highest number of movies released')\n",
        "plt.ylabel('Number of movies released')\n",
        "\n",
        "plt.show()"
      ],
      "metadata": {
        "colab": {
          "base_uri": "https://localhost:8080/",
          "height": 472
        },
        "id": "mangWLEwDLBD",
        "outputId": "0574cbc4-a705-4c29-d735-7ace3475c99b"
      },
      "execution_count": null,
      "outputs": [
        {
          "output_type": "display_data",
          "data": {
            "text/plain": [
              "<Figure size 640x480 with 1 Axes>"
            ],
            "image/png": "[encoded data removed]"
          },
          "metadata": {}
        }
      ]
    },
    {
      "cell_type": "markdown",
      "source": [
        "2019 is the year when a lot of movies were released. Also, the number drops in the next years. I guess this is due to Covid 19 pandemic"
      ],
      "metadata": {
        "id": "MJhPcqHtMkUW"
      }
    },
    {
      "cell_type": "code",
      "source": [
        "# months\n",
        "top_months = df.groupby('month')['month'].count().reset_index(name='count').sort_values(by='count',ascending=False)\n",
        "plt.figure(figsize=(10,8))\n",
        "sns.barplot(x='month', y='count', data=top_months, order = top_months['month'])\n",
        "plt.title('Top months with the highest number of movies released')\n",
        "plt.ylabel('Number of movies released')\n",
        "plt.xticks(rotation=45)\n",
        "\n",
        "plt.show()"
      ],
      "metadata": {
        "colab": {
          "base_uri": "https://localhost:8080/",
          "height": 768
        },
        "id": "kXEQ2Kk4Jxbx",
        "outputId": "1e81178a-d170-4351-e860-350f00166c1d"
      },
      "execution_count": null,
      "outputs": [
        {
          "output_type": "display_data",
          "data": {
            "text/plain": [
              "<Figure size 1000x800 with 1 Axes>"
            ],
            "image/png": "[encoded data removed]"
          },
          "metadata": {}
        }
      ]
    },
    {
      "cell_type": "markdown",
      "source": [
        "January win this! Perhaps the beginning of new year is the right time to release a movie"
      ],
      "metadata": {
        "id": "DRb5zYXFNPsj"
      }
    },
    {
      "cell_type": "code",
      "source": [
        "# day\n",
        "top_days = df.groupby('day')['day'].count().reset_index(name='count').sort_values(by='count', ascending=False)\n",
        "plt.figure(figsize=(8,5))\n",
        "sns.barplot(x='day', y='count', data=top_days, order = top_days['day'])\n",
        "plt.title('Top days with the highest number of movies released')\n",
        "plt.ylabel('Number of movies released')\n",
        "plt.xticks(rotation=45)\n",
        "\n",
        "plt.show()"
      ],
      "metadata": {
        "colab": {
          "base_uri": "https://localhost:8080/",
          "height": 540
        },
        "id": "cqOSyD9PNf00",
        "outputId": "cad47777-a60e-4882-9ad7-5ef9f6b3b658"
      },
      "execution_count": null,
      "outputs": [
        {
          "output_type": "display_data",
          "data": {
            "text/plain": [
              "<Figure size 800x500 with 1 Axes>"
            ],
            "image/png": "[encoded data removed]"
          },
          "metadata": {}
        }
      ]
    },
    {
      "cell_type": "markdown",
      "source": [
        "Okay, Friday win with a significant amount. \n",
        "\n",
        "I wonder if this is because Friday is the end of the weekday. The movies should be available before the weekend (Saturday and Sunday), so releasing them on Friday is probably the right time."
      ],
      "metadata": {
        "id": "7nr2KKflO7pv"
      }
    },
    {
      "cell_type": "markdown",
      "source": [
        "## Check if there's any duplicates in our dataset\n",
        "To do this, you can use `df.duplicated()` and then `sum()` to count the number of duplicated values"
      ],
      "metadata": {
        "id": "yS5Ev-yvAfSu"
      }
    },
    {
      "cell_type": "code",
      "source": [
        "duplicates = df.duplicated().sum()\n",
        "print(f\"The number of duplicated values is {duplicates}\")"
      ],
      "metadata": {
        "colab": {
          "base_uri": "https://localhost:8080/"
        },
        "id": "TE54xmFPYGN0",
        "outputId": "a29d5114-19e4-4bac-c49e-93d8c60d24ec"
      },
      "execution_count": null,
      "outputs": [
        {
          "output_type": "stream",
          "name": "stdout",
          "text": [
            "The number of duplicated values is 0\n"
          ]
        }
      ]
    },
    {
      "cell_type": "markdown",
      "source": [
        "## Invalid format\n",
        "If you look at the genres column. The values are written in a strange format. They're almost like a JSON type format and stored inside a `list`\n",
        "\n",
        "We'll try to change its format by changing it into **each genre** of a movie. There are plenty ways of doing this, but we will use `regex` to make it easier"
      ],
      "metadata": {
        "id": "kkQzPuQKAsW7"
      }
    },
    {
      "cell_type": "code",
      "source": [
        "# overview of the genre column\n",
        "val = df[['genres']].head().iloc[0, 0] # the second '0' is used to display the whole string value\n",
        "print(f\"This is an example of genres of one of the movies\\n{val}\")"
      ],
      "metadata": {
        "colab": {
          "base_uri": "https://localhost:8080/"
        },
        "id": "tRDhBNzOBcyY",
        "outputId": "67cee963-98e7-4d5f-ec1f-e48cf2e026c0"
      },
      "execution_count": null,
      "outputs": [
        {
          "output_type": "stream",
          "name": "stdout",
          "text": [
            "This is an example of genres of one of the movies\n",
            "[{'id': 28, 'name': 'Action'}, {'id': 35, 'name': 'Comedy'}, {'id': 80, 'name': 'Crime'}]\n"
          ]
        }
      ]
    },
    {
      "cell_type": "code",
      "source": [
        "# import regex \n",
        "import re\n",
        "pattern = r\"'name': '([\\w ]*)'\""
      ],
      "metadata": {
        "id": "Uei8KvudBne4"
      },
      "execution_count": null,
      "outputs": []
    },
    {
      "cell_type": "markdown",
      "source": [
        "Now that we already have the pattern for finding the genres only, the next step will be applying it to the dataframe.\n",
        "\n",
        "We will use `re.findall()` to find all of the genres and `df.apply()` + `lambda` to replace the values of the column."
      ],
      "metadata": {
        "id": "lvRgDGiYEofF"
      }
    },
    {
      "cell_type": "code",
      "source": [
        "df['genres'] = df['genres'].apply(lambda x: ', '.join(re.findall(pattern, x)))"
      ],
      "metadata": {
        "id": "ex2mrOZ3EFsP"
      },
      "execution_count": null,
      "outputs": []
    },
    {
      "cell_type": "code",
      "source": [
        "print(\"Here's the new result\")\n",
        "df[['genres']].head()"
      ],
      "metadata": {
        "colab": {
          "base_uri": "https://localhost:8080/",
          "height": 224
        },
        "id": "PVEPK_DOEIWG",
        "outputId": "297f9860-00b9-4b67-82bd-211bdc054202"
      },
      "execution_count": null,
      "outputs": [
        {
          "output_type": "stream",
          "name": "stdout",
          "text": [
            "Here's the new result\n"
          ]
        },
        {
          "output_type": "execute_result",
          "data": {
            "text/plain": [
              "                        genres\n",
              "0        Action, Comedy, Crime\n",
              "1      Action, Crime, Thriller\n",
              "2  Action, Adventure, Thriller\n",
              "3              Crime, Thriller\n",
              "4                Drama, Comedy"
            ],
            "text/html": [
              "\n",
              "  <div id=\"df-47555d51-6621-4ac6-8ebc-9c59ddba1fba\">\n",
              "    <div class=\"colab-df-container\">\n",
              "      <div>\n",
              "<style scoped>\n",
              "    .dataframe tbody tr th:only-of-type {\n",
              "        vertical-align: middle;\n",
              "    }\n",
              "\n",
              "    .dataframe tbody tr th {\n",
              "        vertical-align: top;\n",
              "    }\n",
              "\n",
              "    .dataframe thead th {\n",
              "        text-align: right;\n",
              "    }\n",
              "</style>\n",
              "<table border=\"1\" class=\"dataframe\">\n",
              "  <thead>\n",
              "    <tr style=\"text-align: right;\">\n",
              "      <th></th>\n",
              "      <th>genres</th>\n",
              "    </tr>\n",
              "  </thead>\n",
              "  <tbody>\n",
              "    <tr>\n",
              "      <th>0</th>\n",
              "      <td>Action, Comedy, Crime</td>\n",
              "    </tr>\n",
              "    <tr>\n",
              "      <th>1</th>\n",
              "      <td>Action, Crime, Thriller</td>\n",
              "    </tr>\n",
              "    <tr>\n",
              "      <th>2</th>\n",
              "      <td>Action, Adventure, Thriller</td>\n",
              "    </tr>\n",
              "    <tr>\n",
              "      <th>3</th>\n",
              "      <td>Crime, Thriller</td>\n",
              "    </tr>\n",
              "    <tr>\n",
              "      <th>4</th>\n",
              "      <td>Drama, Comedy</td>\n",
              "    </tr>\n",
              "  </tbody>\n",
              "</table>\n",
              "</div>\n",
              "      <button class=\"colab-df-convert\" onclick=\"convertToInteractive('df-47555d51-6621-4ac6-8ebc-9c59ddba1fba')\"\n",
              "              title=\"Convert this dataframe to an interactive table.\"\n",
              "              style=\"display:none;\">\n",
              "        \n",
              "  <svg xmlns=\"http://www.w3.org/2000/svg\" height=\"24px\"viewBox=\"0 0 24 24\"\n",
              "       width=\"24px\">\n",
              "    <path d=\"M0 0h24v24H0V0z\" fill=\"none\"/>\n",
              "    <path d=\"M18.56 5.44l.94 2.06.94-2.06 2.06-.94-2.06-.94-.94-2.06-.94 2.06-2.06.94zm-11 1L8.5 8.5l.94-2.06 2.06-.94-2.06-.94L8.5 2.5l-.94 2.06-2.06.94zm10 10l.94 2.06.94-2.06 2.06-.94-2.06-.94-.94-2.06-.94 2.06-2.06.94z\"/><path d=\"M17.41 7.96l-1.37-1.37c-.4-.4-.92-.59-1.43-.59-.52 0-1.04.2-1.43.59L10.3 9.45l-7.72 7.72c-.78.78-.78 2.05 0 2.83L4 21.41c.39.39.9.59 1.41.59.51 0 1.02-.2 1.41-.59l7.78-7.78 2.81-2.81c.8-.78.8-2.07 0-2.86zM5.41 20L4 18.59l7.72-7.72 1.47 1.35L5.41 20z\"/>\n",
              "  </svg>\n",
              "      </button>\n",
              "      \n",
              "  <style>\n",
              "    .colab-df-container {\n",
              "      display:flex;\n",
              "      flex-wrap:wrap;\n",
              "      gap: 12px;\n",
              "    }\n",
              "\n",
              "    .colab-df-convert {\n",
              "      background-color: #E8F0FE;\n",
              "      border: none;\n",
              "      border-radius: 50%;\n",
              "      cursor: pointer;\n",
              "      display: none;\n",
              "      fill: #1967D2;\n",
              "      height: 32px;\n",
              "      padding: 0 0 0 0;\n",
              "      width: 32px;\n",
              "    }\n",
              "\n",
              "    .colab-df-convert:hover {\n",
              "      background-color: #E2EBFA;\n",
              "      box-shadow: 0px 1px 2px rgba(60, 64, 67, 0.3), 0px 1px 3px 1px rgba(60, 64, 67, 0.15);\n",
              "      fill: #174EA6;\n",
              "    }\n",
              "\n",
              "    [theme=dark] .colab-df-convert {\n",
              "      background-color: #3B4455;\n",
              "      fill: #D2E3FC;\n",
              "    }\n",
              "\n",
              "    [theme=dark] .colab-df-convert:hover {\n",
              "      background-color: #434B5C;\n",
              "      box-shadow: 0px 1px 3px 1px rgba(0, 0, 0, 0.15);\n",
              "      filter: drop-shadow(0px 1px 2px rgba(0, 0, 0, 0.3));\n",
              "      fill: #FFFFFF;\n",
              "    }\n",
              "  </style>\n",
              "\n",
              "      <script>\n",
              "        const buttonEl =\n",
              "          document.querySelector('#df-47555d51-6621-4ac6-8ebc-9c59ddba1fba button.colab-df-convert');\n",
              "        buttonEl.style.display =\n",
              "          google.colab.kernel.accessAllowed ? 'block' : 'none';\n",
              "\n",
              "        async function convertToInteractive(key) {\n",
              "          const element = document.querySelector('#df-47555d51-6621-4ac6-8ebc-9c59ddba1fba');\n",
              "          const dataTable =\n",
              "            await google.colab.kernel.invokeFunction('convertToInteractive',\n",
              "                                                     [key], {});\n",
              "          if (!dataTable) return;\n",
              "\n",
              "          const docLinkHtml = 'Like what you see? Visit the ' +\n",
              "            '<a target=\"_blank\" href=https://colab.research.google.com/notebooks/data_table.ipynb>data table notebook</a>'\n",
              "            + ' to learn more about interactive tables.';\n",
              "          element.innerHTML = '';\n",
              "          dataTable['output_type'] = 'display_data';\n",
              "          await google.colab.output.renderOutput(dataTable, element);\n",
              "          const docLink = document.createElement('div');\n",
              "          docLink.innerHTML = docLinkHtml;\n",
              "          element.appendChild(docLink);\n",
              "        }\n",
              "      </script>\n",
              "    </div>\n",
              "  </div>\n",
              "  "
            ]
          },
          "metadata": {},
          "execution_count": 26
        }
      ]
    },
    {
      "cell_type": "markdown",
      "source": [
        "### Getting insights from **genres** column\n",
        "\n",
        "Let's try to answer this question.\n",
        "\n",
        "1.   What are the 10 most popular genres?\n",
        "\n",
        "To do this, we can't simply groupby the dataframe based on **genre**. The reason is because it has multiple genres in a single movie. Groupby-ing it by genre will result a multiple genres class.\n",
        "\n"
      ],
      "metadata": {
        "id": "4UenItEYGk-A"
      }
    },
    {
      "cell_type": "code",
      "source": [
        "df.groupby('genres')['genres'].count()"
      ],
      "metadata": {
        "colab": {
          "base_uri": "https://localhost:8080/"
        },
        "id": "pmO4XQr6H7Od",
        "outputId": "e8abfc9b-89bd-4ece-f083-5e33326c6a4d"
      },
      "execution_count": null,
      "outputs": [
        {
          "output_type": "execute_result",
          "data": {
            "text/plain": [
              "genres\n",
              "                                        1230\n",
              "Action                                   170\n",
              "Action, Adventure                         27\n",
              "Action, Adventure, Animation               3\n",
              "Action, Adventure, Animation, Comedy       1\n",
              "                                        ... \n",
              "Western, History, War, Drama               1\n",
              "Western, Horror                            1\n",
              "Western, Horror, Thriller                  1\n",
              "Western, Mystery, Thriller, Drama          1\n",
              "Western, Romance                           1\n",
              "Name: genres, Length: 2441, dtype: int64"
            ]
          },
          "metadata": {},
          "execution_count": 27
        }
      ]
    },
    {
      "cell_type": "markdown",
      "source": [
        "As you can see, it looks weird. What we can do is creating a new data frame and store the occurences for each genre. We need to iterate over the **genres column**"
      ],
      "metadata": {
        "id": "vtqcG2lwIBbS"
      }
    },
    {
      "cell_type": "code",
      "source": [
        "num_genres = {} # new dictionary\n",
        "for i in df.index:\n",
        "  for genre in df['genres'][i].split(','):\n",
        "    genre = genre.strip() # remove trailing space\n",
        "    if genre in num_genres:\n",
        "      num_genres[genre] += 1\n",
        "    else:\n",
        "      num_genres[genre] = 1\n"
      ],
      "metadata": {
        "id": "GU9_m97pFxJJ"
      },
      "execution_count": null,
      "outputs": []
    },
    {
      "cell_type": "code",
      "source": [
        "num_genre_df = pd.DataFrame(num_genres, index=['Counts']).T\n",
        "num_genre_df"
      ],
      "metadata": {
        "colab": {
          "base_uri": "https://localhost:8080/",
          "height": 677
        },
        "id": "mBObFMuZI-bH",
        "outputId": "8eae7cf0-84b2-4389-afaa-520c602b756f"
      },
      "execution_count": null,
      "outputs": [
        {
          "output_type": "execute_result",
          "data": {
            "text/plain": [
              "                 Counts\n",
              "Action             3317\n",
              "Comedy             4691\n",
              "Crime              2074\n",
              "Thriller           3312\n",
              "Adventure          1708\n",
              "Drama              7556\n",
              "Romance            3056\n",
              "Fantasy            1189\n",
              "Family             1493\n",
              "Music               491\n",
              "Science Fiction    1111\n",
              "History             615\n",
              "Mystery            1101\n",
              "Horror             1483\n",
              "War                 373\n",
              "                   1230\n",
              "Western             152\n",
              "Animation          1031\n",
              "Documentary         103\n",
              "TV Movie            161"
            ],
            "text/html": [
              "\n",
              "  <div id=\"df-332a5c4a-c229-42d3-9be9-e62f62a7920c\">\n",
              "    <div class=\"colab-df-container\">\n",
              "      <div>\n",
              "<style scoped>\n",
              "    .dataframe tbody tr th:only-of-type {\n",
              "        vertical-align: middle;\n",
              "    }\n",
              "\n",
              "    .dataframe tbody tr th {\n",
              "        vertical-align: top;\n",
              "    }\n",
              "\n",
              "    .dataframe thead th {\n",
              "        text-align: right;\n",
              "    }\n",
              "</style>\n",
              "<table border=\"1\" class=\"dataframe\">\n",
              "  <thead>\n",
              "    <tr style=\"text-align: right;\">\n",
              "      <th></th>\n",
              "      <th>Counts</th>\n",
              "    </tr>\n",
              "  </thead>\n",
              "  <tbody>\n",
              "    <tr>\n",
              "      <th>Action</th>\n",
              "      <td>3317</td>\n",
              "    </tr>\n",
              "    <tr>\n",
              "      <th>Comedy</th>\n",
              "      <td>4691</td>\n",
              "    </tr>\n",
              "    <tr>\n",
              "      <th>Crime</th>\n",
              "      <td>2074</td>\n",
              "    </tr>\n",
              "    <tr>\n",
              "      <th>Thriller</th>\n",
              "      <td>3312</td>\n",
              "    </tr>\n",
              "    <tr>\n",
              "      <th>Adventure</th>\n",
              "      <td>1708</td>\n",
              "    </tr>\n",
              "    <tr>\n",
              "      <th>Drama</th>\n",
              "      <td>7556</td>\n",
              "    </tr>\n",
              "    <tr>\n",
              "      <th>Romance</th>\n",
              "      <td>3056</td>\n",
              "    </tr>\n",
              "    <tr>\n",
              "      <th>Fantasy</th>\n",
              "      <td>1189</td>\n",
              "    </tr>\n",
              "    <tr>\n",
              "      <th>Family</th>\n",
              "      <td>1493</td>\n",
              "    </tr>\n",
              "    <tr>\n",
              "      <th>Music</th>\n",
              "      <td>491</td>\n",
              "    </tr>\n",
              "    <tr>\n",
              "      <th>Science Fiction</th>\n",
              "      <td>1111</td>\n",
              "    </tr>\n",
              "    <tr>\n",
              "      <th>History</th>\n",
              "      <td>615</td>\n",
              "    </tr>\n",
              "    <tr>\n",
              "      <th>Mystery</th>\n",
              "      <td>1101</td>\n",
              "    </tr>\n",
              "    <tr>\n",
              "      <th>Horror</th>\n",
              "      <td>1483</td>\n",
              "    </tr>\n",
              "    <tr>\n",
              "      <th>War</th>\n",
              "      <td>373</td>\n",
              "    </tr>\n",
              "    <tr>\n",
              "      <th></th>\n",
              "      <td>1230</td>\n",
              "    </tr>\n",
              "    <tr>\n",
              "      <th>Western</th>\n",
              "      <td>152</td>\n",
              "    </tr>\n",
              "    <tr>\n",
              "      <th>Animation</th>\n",
              "      <td>1031</td>\n",
              "    </tr>\n",
              "    <tr>\n",
              "      <th>Documentary</th>\n",
              "      <td>103</td>\n",
              "    </tr>\n",
              "    <tr>\n",
              "      <th>TV Movie</th>\n",
              "      <td>161</td>\n",
              "    </tr>\n",
              "  </tbody>\n",
              "</table>\n",
              "</div>\n",
              "      <button class=\"colab-df-convert\" onclick=\"convertToInteractive('df-332a5c4a-c229-42d3-9be9-e62f62a7920c')\"\n",
              "              title=\"Convert this dataframe to an interactive table.\"\n",
              "              style=\"display:none;\">\n",
              "        \n",
              "  <svg xmlns=\"http://www.w3.org/2000/svg\" height=\"24px\"viewBox=\"0 0 24 24\"\n",
              "       width=\"24px\">\n",
              "    <path d=\"M0 0h24v24H0V0z\" fill=\"none\"/>\n",
              "    <path d=\"M18.56 5.44l.94 2.06.94-2.06 2.06-.94-2.06-.94-.94-2.06-.94 2.06-2.06.94zm-11 1L8.5 8.5l.94-2.06 2.06-.94-2.06-.94L8.5 2.5l-.94 2.06-2.06.94zm10 10l.94 2.06.94-2.06 2.06-.94-2.06-.94-.94-2.06-.94 2.06-2.06.94z\"/><path d=\"M17.41 7.96l-1.37-1.37c-.4-.4-.92-.59-1.43-.59-.52 0-1.04.2-1.43.59L10.3 9.45l-7.72 7.72c-.78.78-.78 2.05 0 2.83L4 21.41c.39.39.9.59 1.41.59.51 0 1.02-.2 1.41-.59l7.78-7.78 2.81-2.81c.8-.78.8-2.07 0-2.86zM5.41 20L4 18.59l7.72-7.72 1.47 1.35L5.41 20z\"/>\n",
              "  </svg>\n",
              "      </button>\n",
              "      \n",
              "  <style>\n",
              "    .colab-df-container {\n",
              "      display:flex;\n",
              "      flex-wrap:wrap;\n",
              "      gap: 12px;\n",
              "    }\n",
              "\n",
              "    .colab-df-convert {\n",
              "      background-color: #E8F0FE;\n",
              "      border: none;\n",
              "      border-radius: 50%;\n",
              "      cursor: pointer;\n",
              "      display: none;\n",
              "      fill: #1967D2;\n",
              "      height: 32px;\n",
              "      padding: 0 0 0 0;\n",
              "      width: 32px;\n",
              "    }\n",
              "\n",
              "    .colab-df-convert:hover {\n",
              "      background-color: #E2EBFA;\n",
              "      box-shadow: 0px 1px 2px rgba(60, 64, 67, 0.3), 0px 1px 3px 1px rgba(60, 64, 67, 0.15);\n",
              "      fill: #174EA6;\n",
              "    }\n",
              "\n",
              "    [theme=dark] .colab-df-convert {\n",
              "      background-color: #3B4455;\n",
              "      fill: #D2E3FC;\n",
              "    }\n",
              "\n",
              "    [theme=dark] .colab-df-convert:hover {\n",
              "      background-color: #434B5C;\n",
              "      box-shadow: 0px 1px 3px 1px rgba(0, 0, 0, 0.15);\n",
              "      filter: drop-shadow(0px 1px 2px rgba(0, 0, 0, 0.3));\n",
              "      fill: #FFFFFF;\n",
              "    }\n",
              "  </style>\n",
              "\n",
              "      <script>\n",
              "        const buttonEl =\n",
              "          document.querySelector('#df-332a5c4a-c229-42d3-9be9-e62f62a7920c button.colab-df-convert');\n",
              "        buttonEl.style.display =\n",
              "          google.colab.kernel.accessAllowed ? 'block' : 'none';\n",
              "\n",
              "        async function convertToInteractive(key) {\n",
              "          const element = document.querySelector('#df-332a5c4a-c229-42d3-9be9-e62f62a7920c');\n",
              "          const dataTable =\n",
              "            await google.colab.kernel.invokeFunction('convertToInteractive',\n",
              "                                                     [key], {});\n",
              "          if (!dataTable) return;\n",
              "\n",
              "          const docLinkHtml = 'Like what you see? Visit the ' +\n",
              "            '<a target=\"_blank\" href=https://colab.research.google.com/notebooks/data_table.ipynb>data table notebook</a>'\n",
              "            + ' to learn more about interactive tables.';\n",
              "          element.innerHTML = '';\n",
              "          dataTable['output_type'] = 'display_data';\n",
              "          await google.colab.output.renderOutput(dataTable, element);\n",
              "          const docLink = document.createElement('div');\n",
              "          docLink.innerHTML = docLinkHtml;\n",
              "          element.appendChild(docLink);\n",
              "        }\n",
              "      </script>\n",
              "    </div>\n",
              "  </div>\n",
              "  "
            ]
          },
          "metadata": {},
          "execution_count": 29
        }
      ]
    },
    {
      "cell_type": "markdown",
      "source": [
        "Oops. We got a problem here.\n",
        "\n",
        "There's 1230 movies that registered with 'empty' genre. Let's see some of those movies."
      ],
      "metadata": {
        "id": "Cg2pNwdz7xvm"
      }
    },
    {
      "cell_type": "code",
      "source": [
        "df[df['genres'] == ''].head()"
      ],
      "metadata": {
        "colab": {
          "base_uri": "https://localhost:8080/",
          "height": 704
        },
        "id": "xiFNtEZz8cV-",
        "outputId": "c56749de-964a-4578-9bb9-87986c05355d"
      },
      "execution_count": null,
      "outputs": [
        {
          "output_type": "execute_result",
          "data": {
            "text/plain": [
              "     adult  movie_id original_language  original_title  \\\n",
              "143  False    669583                hi  Did It Happen?   \n",
              "593  False    658767                hi     Intercourse   \n",
              "611  False    158780                hi             Run   \n",
              "630  False    357131                hi      विश्वात्मा   \n",
              "736  False    143881                hi          Suhaag   \n",
              "\n",
              "                                              overview  popularity  \\\n",
              "143  In A not-so- typical scenario, Ishan a young, ...      10.563   \n",
              "593  A story of a Horny couple that always wants to...       6.244   \n",
              "611  This action movie is filled with romance and a...       3.826   \n",
              "630  Two brave and smart young men: namely Police i...       4.604   \n",
              "736  Collegian Ajay Sharma was born on 2nd April 19...       3.339   \n",
              "\n",
              "    release_date           title  video  vote_average  vote_count genres  \\\n",
              "143   2020-02-02  Did It Happen?  False           6.4           5          \n",
              "593   2019-12-25     Intercourse  False           0.0           0          \n",
              "611   2004-01-29             Run  False           5.4          12          \n",
              "630   1992-01-24       Vishwatma  False           6.4           5          \n",
              "736   1994-10-20          Suhaag  False           5.6           7          \n",
              "\n",
              "    keywords                                               cast  \\\n",
              "143       []  [{'adult': False, 'gender': 0, 'id': 2528817, ...   \n",
              "593       []  [{'adult': False, 'gender': 1, 'id': 2492365, ...   \n",
              "611       []  [{'adult': False, 'gender': 2, 'id': 35793, 'k...   \n",
              "630       []  [{'adult': False, 'gender': 2, 'id': 6497, 'kn...   \n",
              "736       []  [{'adult': False, 'gender': 2, 'id': 42803, 'k...   \n",
              "\n",
              "                                                  crew  year     month  \\\n",
              "143                                                 []  2020  February   \n",
              "593  [{'adult': True, 'gender': 2, 'id': 3036485, '...  2019  December   \n",
              "611  [{'adult': False, 'gender': 2, 'id': 88596, 'k...  2004   January   \n",
              "630  [{'adult': False, 'gender': 2, 'id': 583607, '...  1992   January   \n",
              "736  [{'adult': False, 'gender': 2, 'id': 105448, '...  1994   October   \n",
              "\n",
              "           day  \n",
              "143     Sunday  \n",
              "593  Wednesday  \n",
              "611   Thursday  \n",
              "630     Friday  \n",
              "736   Thursday  "
            ],
            "text/html": [
              "\n",
              "  <div id=\"df-c610d175-cd8b-4034-be6b-6670fa087124\">\n",
              "    <div class=\"colab-df-container\">\n",
              "      <div>\n",
              "<style scoped>\n",
              "    .dataframe tbody tr th:only-of-type {\n",
              "        vertical-align: middle;\n",
              "    }\n",
              "\n",
              "    .dataframe tbody tr th {\n",
              "        vertical-align: top;\n",
              "    }\n",
              "\n",
              "    .dataframe thead th {\n",
              "        text-align: right;\n",
              "    }\n",
              "</style>\n",
              "<table border=\"1\" class=\"dataframe\">\n",
              "  <thead>\n",
              "    <tr style=\"text-align: right;\">\n",
              "      <th></th>\n",
              "      <th>adult</th>\n",
              "      <th>movie_id</th>\n",
              "      <th>original_language</th>\n",
              "      <th>original_title</th>\n",
              "      <th>overview</th>\n",
              "      <th>popularity</th>\n",
              "      <th>release_date</th>\n",
              "      <th>title</th>\n",
              "      <th>video</th>\n",
              "      <th>vote_average</th>\n",
              "      <th>vote_count</th>\n",
              "      <th>genres</th>\n",
              "      <th>keywords</th>\n",
              "      <th>cast</th>\n",
              "      <th>crew</th>\n",
              "      <th>year</th>\n",
              "      <th>month</th>\n",
              "      <th>day</th>\n",
              "    </tr>\n",
              "  </thead>\n",
              "  <tbody>\n",
              "    <tr>\n",
              "      <th>143</th>\n",
              "      <td>False</td>\n",
              "      <td>669583</td>\n",
              "      <td>hi</td>\n",
              "      <td>Did It Happen?</td>\n",
              "      <td>In A not-so- typical scenario, Ishan a young, ...</td>\n",
              "      <td>10.563</td>\n",
              "      <td>2020-02-02</td>\n",
              "      <td>Did It Happen?</td>\n",
              "      <td>False</td>\n",
              "      <td>6.4</td>\n",
              "      <td>5</td>\n",
              "      <td></td>\n",
              "      <td>[]</td>\n",
              "      <td>[{'adult': False, 'gender': 0, 'id': 2528817, ...</td>\n",
              "      <td>[]</td>\n",
              "      <td>2020</td>\n",
              "      <td>February</td>\n",
              "      <td>Sunday</td>\n",
              "    </tr>\n",
              "    <tr>\n",
              "      <th>593</th>\n",
              "      <td>False</td>\n",
              "      <td>658767</td>\n",
              "      <td>hi</td>\n",
              "      <td>Intercourse</td>\n",
              "      <td>A story of a Horny couple that always wants to...</td>\n",
              "      <td>6.244</td>\n",
              "      <td>2019-12-25</td>\n",
              "      <td>Intercourse</td>\n",
              "      <td>False</td>\n",
              "      <td>0.0</td>\n",
              "      <td>0</td>\n",
              "      <td></td>\n",
              "      <td>[]</td>\n",
              "      <td>[{'adult': False, 'gender': 1, 'id': 2492365, ...</td>\n",
              "      <td>[{'adult': True, 'gender': 2, 'id': 3036485, '...</td>\n",
              "      <td>2019</td>\n",
              "      <td>December</td>\n",
              "      <td>Wednesday</td>\n",
              "    </tr>\n",
              "    <tr>\n",
              "      <th>611</th>\n",
              "      <td>False</td>\n",
              "      <td>158780</td>\n",
              "      <td>hi</td>\n",
              "      <td>Run</td>\n",
              "      <td>This action movie is filled with romance and a...</td>\n",
              "      <td>3.826</td>\n",
              "      <td>2004-01-29</td>\n",
              "      <td>Run</td>\n",
              "      <td>False</td>\n",
              "      <td>5.4</td>\n",
              "      <td>12</td>\n",
              "      <td></td>\n",
              "      <td>[]</td>\n",
              "      <td>[{'adult': False, 'gender': 2, 'id': 35793, 'k...</td>\n",
              "      <td>[{'adult': False, 'gender': 2, 'id': 88596, 'k...</td>\n",
              "      <td>2004</td>\n",
              "      <td>January</td>\n",
              "      <td>Thursday</td>\n",
              "    </tr>\n",
              "    <tr>\n",
              "      <th>630</th>\n",
              "      <td>False</td>\n",
              "      <td>357131</td>\n",
              "      <td>hi</td>\n",
              "      <td>विश्वात्मा</td>\n",
              "      <td>Two brave and smart young men: namely Police i...</td>\n",
              "      <td>4.604</td>\n",
              "      <td>1992-01-24</td>\n",
              "      <td>Vishwatma</td>\n",
              "      <td>False</td>\n",
              "      <td>6.4</td>\n",
              "      <td>5</td>\n",
              "      <td></td>\n",
              "      <td>[]</td>\n",
              "      <td>[{'adult': False, 'gender': 2, 'id': 6497, 'kn...</td>\n",
              "      <td>[{'adult': False, 'gender': 2, 'id': 583607, '...</td>\n",
              "      <td>1992</td>\n",
              "      <td>January</td>\n",
              "      <td>Friday</td>\n",
              "    </tr>\n",
              "    <tr>\n",
              "      <th>736</th>\n",
              "      <td>False</td>\n",
              "      <td>143881</td>\n",
              "      <td>hi</td>\n",
              "      <td>Suhaag</td>\n",
              "      <td>Collegian Ajay Sharma was born on 2nd April 19...</td>\n",
              "      <td>3.339</td>\n",
              "      <td>1994-10-20</td>\n",
              "      <td>Suhaag</td>\n",
              "      <td>False</td>\n",
              "      <td>5.6</td>\n",
              "      <td>7</td>\n",
              "      <td></td>\n",
              "      <td>[]</td>\n",
              "      <td>[{'adult': False, 'gender': 2, 'id': 42803, 'k...</td>\n",
              "      <td>[{'adult': False, 'gender': 2, 'id': 105448, '...</td>\n",
              "      <td>1994</td>\n",
              "      <td>October</td>\n",
              "      <td>Thursday</td>\n",
              "    </tr>\n",
              "  </tbody>\n",
              "</table>\n",
              "</div>\n",
              "      <button class=\"colab-df-convert\" onclick=\"convertToInteractive('df-c610d175-cd8b-4034-be6b-6670fa087124')\"\n",
              "              title=\"Convert this dataframe to an interactive table.\"\n",
              "              style=\"display:none;\">\n",
              "        \n",
              "  <svg xmlns=\"http://www.w3.org/2000/svg\" height=\"24px\"viewBox=\"0 0 24 24\"\n",
              "       width=\"24px\">\n",
              "    <path d=\"M0 0h24v24H0V0z\" fill=\"none\"/>\n",
              "    <path d=\"M18.56 5.44l.94 2.06.94-2.06 2.06-.94-2.06-.94-.94-2.06-.94 2.06-2.06.94zm-11 1L8.5 8.5l.94-2.06 2.06-.94-2.06-.94L8.5 2.5l-.94 2.06-2.06.94zm10 10l.94 2.06.94-2.06 2.06-.94-2.06-.94-.94-2.06-.94 2.06-2.06.94z\"/><path d=\"M17.41 7.96l-1.37-1.37c-.4-.4-.92-.59-1.43-.59-.52 0-1.04.2-1.43.59L10.3 9.45l-7.72 7.72c-.78.78-.78 2.05 0 2.83L4 21.41c.39.39.9.59 1.41.59.51 0 1.02-.2 1.41-.59l7.78-7.78 2.81-2.81c.8-.78.8-2.07 0-2.86zM5.41 20L4 18.59l7.72-7.72 1.47 1.35L5.41 20z\"/>\n",
              "  </svg>\n",
              "      </button>\n",
              "      \n",
              "  <style>\n",
              "    .colab-df-container {\n",
              "      display:flex;\n",
              "      flex-wrap:wrap;\n",
              "      gap: 12px;\n",
              "    }\n",
              "\n",
              "    .colab-df-convert {\n",
              "      background-color: #E8F0FE;\n",
              "      border: none;\n",
              "      border-radius: 50%;\n",
              "      cursor: pointer;\n",
              "      display: none;\n",
              "      fill: #1967D2;\n",
              "      height: 32px;\n",
              "      padding: 0 0 0 0;\n",
              "      width: 32px;\n",
              "    }\n",
              "\n",
              "    .colab-df-convert:hover {\n",
              "      background-color: #E2EBFA;\n",
              "      box-shadow: 0px 1px 2px rgba(60, 64, 67, 0.3), 0px 1px 3px 1px rgba(60, 64, 67, 0.15);\n",
              "      fill: #174EA6;\n",
              "    }\n",
              "\n",
              "    [theme=dark] .colab-df-convert {\n",
              "      background-color: #3B4455;\n",
              "      fill: #D2E3FC;\n",
              "    }\n",
              "\n",
              "    [theme=dark] .colab-df-convert:hover {\n",
              "      background-color: #434B5C;\n",
              "      box-shadow: 0px 1px 3px 1px rgba(0, 0, 0, 0.15);\n",
              "      filter: drop-shadow(0px 1px 2px rgba(0, 0, 0, 0.3));\n",
              "      fill: #FFFFFF;\n",
              "    }\n",
              "  </style>\n",
              "\n",
              "      <script>\n",
              "        const buttonEl =\n",
              "          document.querySelector('#df-c610d175-cd8b-4034-be6b-6670fa087124 button.colab-df-convert');\n",
              "        buttonEl.style.display =\n",
              "          google.colab.kernel.accessAllowed ? 'block' : 'none';\n",
              "\n",
              "        async function convertToInteractive(key) {\n",
              "          const element = document.querySelector('#df-c610d175-cd8b-4034-be6b-6670fa087124');\n",
              "          const dataTable =\n",
              "            await google.colab.kernel.invokeFunction('convertToInteractive',\n",
              "                                                     [key], {});\n",
              "          if (!dataTable) return;\n",
              "\n",
              "          const docLinkHtml = 'Like what you see? Visit the ' +\n",
              "            '<a target=\"_blank\" href=https://colab.research.google.com/notebooks/data_table.ipynb>data table notebook</a>'\n",
              "            + ' to learn more about interactive tables.';\n",
              "          element.innerHTML = '';\n",
              "          dataTable['output_type'] = 'display_data';\n",
              "          await google.colab.output.renderOutput(dataTable, element);\n",
              "          const docLink = document.createElement('div');\n",
              "          docLink.innerHTML = docLinkHtml;\n",
              "          element.appendChild(docLink);\n",
              "        }\n",
              "      </script>\n",
              "    </div>\n",
              "  </div>\n",
              "  "
            ]
          },
          "metadata": {},
          "execution_count": 30
        }
      ]
    },
    {
      "cell_type": "markdown",
      "source": [
        "For this case, we're going to put **'Not given'** for the genre fo movies that are empty. We can use the `df.apply()` function."
      ],
      "metadata": {
        "id": "i7-zRYJM-OvI"
      }
    },
    {
      "cell_type": "code",
      "source": [
        "df['genres'] = df['genres'].apply(lambda x: 'Not given' if x == '' else x)"
      ],
      "metadata": {
        "id": "jdXgBRs09Gqm"
      },
      "execution_count": null,
      "outputs": []
    },
    {
      "cell_type": "code",
      "source": [
        "# storing the genres into dictionary\n",
        "num_genres = {} # new dictionary\n",
        "for i in df.index:\n",
        "  for genre in df['genres'][i].split(','):\n",
        "    genre = genre.strip() # remove trailing space\n",
        "    if genre in num_genres:\n",
        "      num_genres[genre] += 1\n",
        "    else:\n",
        "      num_genres[genre] = 1"
      ],
      "metadata": {
        "id": "-evRSVsu_Uy7"
      },
      "execution_count": null,
      "outputs": []
    },
    {
      "cell_type": "code",
      "source": [
        "\n",
        "num_genre_df = pd.DataFrame(num_genres, index=['count']).T\n",
        "num_genre_df"
      ],
      "metadata": {
        "colab": {
          "base_uri": "https://localhost:8080/",
          "height": 677
        },
        "id": "304USW9C9ONb",
        "outputId": "361ba5d3-2dce-4461-8bcf-1d0ebd8411e8"
      },
      "execution_count": null,
      "outputs": [
        {
          "output_type": "execute_result",
          "data": {
            "text/plain": [
              "                 count\n",
              "Action            3317\n",
              "Comedy            4691\n",
              "Crime             2074\n",
              "Thriller          3312\n",
              "Adventure         1708\n",
              "Drama             7556\n",
              "Romance           3056\n",
              "Fantasy           1189\n",
              "Family            1493\n",
              "Music              491\n",
              "Science Fiction   1111\n",
              "History            615\n",
              "Mystery           1101\n",
              "Horror            1483\n",
              "War                373\n",
              "Not given         1230\n",
              "Western            152\n",
              "Animation         1031\n",
              "Documentary        103\n",
              "TV Movie           161"
            ],
            "text/html": [
              "\n",
              "  <div id=\"df-e0130db9-c31b-4187-8f4b-6774e50a4b1f\">\n",
              "    <div class=\"colab-df-container\">\n",
              "      <div>\n",
              "<style scoped>\n",
              "    .dataframe tbody tr th:only-of-type {\n",
              "        vertical-align: middle;\n",
              "    }\n",
              "\n",
              "    .dataframe tbody tr th {\n",
              "        vertical-align: top;\n",
              "    }\n",
              "\n",
              "    .dataframe thead th {\n",
              "        text-align: right;\n",
              "    }\n",
              "</style>\n",
              "<table border=\"1\" class=\"dataframe\">\n",
              "  <thead>\n",
              "    <tr style=\"text-align: right;\">\n",
              "      <th></th>\n",
              "      <th>count</th>\n",
              "    </tr>\n",
              "  </thead>\n",
              "  <tbody>\n",
              "    <tr>\n",
              "      <th>Action</th>\n",
              "      <td>3317</td>\n",
              "    </tr>\n",
              "    <tr>\n",
              "      <th>Comedy</th>\n",
              "      <td>4691</td>\n",
              "    </tr>\n",
              "    <tr>\n",
              "      <th>Crime</th>\n",
              "      <td>2074</td>\n",
              "    </tr>\n",
              "    <tr>\n",
              "      <th>Thriller</th>\n",
              "      <td>3312</td>\n",
              "    </tr>\n",
              "    <tr>\n",
              "      <th>Adventure</th>\n",
              "      <td>1708</td>\n",
              "    </tr>\n",
              "    <tr>\n",
              "      <th>Drama</th>\n",
              "      <td>7556</td>\n",
              "    </tr>\n",
              "    <tr>\n",
              "      <th>Romance</th>\n",
              "      <td>3056</td>\n",
              "    </tr>\n",
              "    <tr>\n",
              "      <th>Fantasy</th>\n",
              "      <td>1189</td>\n",
              "    </tr>\n",
              "    <tr>\n",
              "      <th>Family</th>\n",
              "      <td>1493</td>\n",
              "    </tr>\n",
              "    <tr>\n",
              "      <th>Music</th>\n",
              "      <td>491</td>\n",
              "    </tr>\n",
              "    <tr>\n",
              "      <th>Science Fiction</th>\n",
              "      <td>1111</td>\n",
              "    </tr>\n",
              "    <tr>\n",
              "      <th>History</th>\n",
              "      <td>615</td>\n",
              "    </tr>\n",
              "    <tr>\n",
              "      <th>Mystery</th>\n",
              "      <td>1101</td>\n",
              "    </tr>\n",
              "    <tr>\n",
              "      <th>Horror</th>\n",
              "      <td>1483</td>\n",
              "    </tr>\n",
              "    <tr>\n",
              "      <th>War</th>\n",
              "      <td>373</td>\n",
              "    </tr>\n",
              "    <tr>\n",
              "      <th>Not given</th>\n",
              "      <td>1230</td>\n",
              "    </tr>\n",
              "    <tr>\n",
              "      <th>Western</th>\n",
              "      <td>152</td>\n",
              "    </tr>\n",
              "    <tr>\n",
              "      <th>Animation</th>\n",
              "      <td>1031</td>\n",
              "    </tr>\n",
              "    <tr>\n",
              "      <th>Documentary</th>\n",
              "      <td>103</td>\n",
              "    </tr>\n",
              "    <tr>\n",
              "      <th>TV Movie</th>\n",
              "      <td>161</td>\n",
              "    </tr>\n",
              "  </tbody>\n",
              "</table>\n",
              "</div>\n",
              "      <button class=\"colab-df-convert\" onclick=\"convertToInteractive('df-e0130db9-c31b-4187-8f4b-6774e50a4b1f')\"\n",
              "              title=\"Convert this dataframe to an interactive table.\"\n",
              "              style=\"display:none;\">\n",
              "        \n",
              "  <svg xmlns=\"http://www.w3.org/2000/svg\" height=\"24px\"viewBox=\"0 0 24 24\"\n",
              "       width=\"24px\">\n",
              "    <path d=\"M0 0h24v24H0V0z\" fill=\"none\"/>\n",
              "    <path d=\"M18.56 5.44l.94 2.06.94-2.06 2.06-.94-2.06-.94-.94-2.06-.94 2.06-2.06.94zm-11 1L8.5 8.5l.94-2.06 2.06-.94-2.06-.94L8.5 2.5l-.94 2.06-2.06.94zm10 10l.94 2.06.94-2.06 2.06-.94-2.06-.94-.94-2.06-.94 2.06-2.06.94z\"/><path d=\"M17.41 7.96l-1.37-1.37c-.4-.4-.92-.59-1.43-.59-.52 0-1.04.2-1.43.59L10.3 9.45l-7.72 7.72c-.78.78-.78 2.05 0 2.83L4 21.41c.39.39.9.59 1.41.59.51 0 1.02-.2 1.41-.59l7.78-7.78 2.81-2.81c.8-.78.8-2.07 0-2.86zM5.41 20L4 18.59l7.72-7.72 1.47 1.35L5.41 20z\"/>\n",
              "  </svg>\n",
              "      </button>\n",
              "      \n",
              "  <style>\n",
              "    .colab-df-container {\n",
              "      display:flex;\n",
              "      flex-wrap:wrap;\n",
              "      gap: 12px;\n",
              "    }\n",
              "\n",
              "    .colab-df-convert {\n",
              "      background-color: #E8F0FE;\n",
              "      border: none;\n",
              "      border-radius: 50%;\n",
              "      cursor: pointer;\n",
              "      display: none;\n",
              "      fill: #1967D2;\n",
              "      height: 32px;\n",
              "      padding: 0 0 0 0;\n",
              "      width: 32px;\n",
              "    }\n",
              "\n",
              "    .colab-df-convert:hover {\n",
              "      background-color: #E2EBFA;\n",
              "      box-shadow: 0px 1px 2px rgba(60, 64, 67, 0.3), 0px 1px 3px 1px rgba(60, 64, 67, 0.15);\n",
              "      fill: #174EA6;\n",
              "    }\n",
              "\n",
              "    [theme=dark] .colab-df-convert {\n",
              "      background-color: #3B4455;\n",
              "      fill: #D2E3FC;\n",
              "    }\n",
              "\n",
              "    [theme=dark] .colab-df-convert:hover {\n",
              "      background-color: #434B5C;\n",
              "      box-shadow: 0px 1px 3px 1px rgba(0, 0, 0, 0.15);\n",
              "      filter: drop-shadow(0px 1px 2px rgba(0, 0, 0, 0.3));\n",
              "      fill: #FFFFFF;\n",
              "    }\n",
              "  </style>\n",
              "\n",
              "      <script>\n",
              "        const buttonEl =\n",
              "          document.querySelector('#df-e0130db9-c31b-4187-8f4b-6774e50a4b1f button.colab-df-convert');\n",
              "        buttonEl.style.display =\n",
              "          google.colab.kernel.accessAllowed ? 'block' : 'none';\n",
              "\n",
              "        async function convertToInteractive(key) {\n",
              "          const element = document.querySelector('#df-e0130db9-c31b-4187-8f4b-6774e50a4b1f');\n",
              "          const dataTable =\n",
              "            await google.colab.kernel.invokeFunction('convertToInteractive',\n",
              "                                                     [key], {});\n",
              "          if (!dataTable) return;\n",
              "\n",
              "          const docLinkHtml = 'Like what you see? Visit the ' +\n",
              "            '<a target=\"_blank\" href=https://colab.research.google.com/notebooks/data_table.ipynb>data table notebook</a>'\n",
              "            + ' to learn more about interactive tables.';\n",
              "          element.innerHTML = '';\n",
              "          dataTable['output_type'] = 'display_data';\n",
              "          await google.colab.output.renderOutput(dataTable, element);\n",
              "          const docLink = document.createElement('div');\n",
              "          docLink.innerHTML = docLinkHtml;\n",
              "          element.appendChild(docLink);\n",
              "        }\n",
              "      </script>\n",
              "    </div>\n",
              "  </div>\n",
              "  "
            ]
          },
          "metadata": {},
          "execution_count": 33
        }
      ]
    },
    {
      "cell_type": "markdown",
      "source": [
        "There you go, a clean dataframe for the genres.\n",
        "\n",
        "Let's now plot the top 10 most popular genre."
      ],
      "metadata": {
        "id": "XOv_L_Ww_i3b"
      }
    },
    {
      "cell_type": "code",
      "source": [
        "top_10_genre = num_genre_df.sort_values(by='count', ascending=False).head(10)\n",
        "plt.figure(figsize=(8,5))\n",
        "sns.barplot(x=top_10_genre.index, y='count', data=top_10_genre)\n",
        "plt.title('Top 10 most popular genre')\n",
        "plt.ylabel('Number of movies with the genre')\n",
        "plt.xticks(rotation=45)\n",
        "\n",
        "plt.show()"
      ],
      "metadata": {
        "colab": {
          "base_uri": "https://localhost:8080/",
          "height": 514
        },
        "id": "OV2Iztz3JVWC",
        "outputId": "3b9baa82-0fe8-4e75-d0dc-bfaa42462391"
      },
      "execution_count": null,
      "outputs": [
        {
          "output_type": "display_data",
          "data": {
            "text/plain": [
              "<Figure size 800x500 with 1 Axes>"
            ],
            "image/png": "[encoded data removed]"
          },
          "metadata": {}
        }
      ]
    },
    {
      "cell_type": "markdown",
      "source": [
        "You can definitely apply the same technique for the column **cast** and **crew** to get cleaner values."
      ],
      "metadata": {
        "id": "Fy2a2TQtCJzM"
      }
    },
    {
      "cell_type": "markdown",
      "source": [
        "## The Outliers\n",
        "\n",
        "There are many ways to find the outliers for numerical variables. Let's first boxplot all of the numerical variables. We can use `sns.boxplot`"
      ],
      "metadata": {
        "id": "wD0aazB5CZ-N"
      }
    },
    {
      "cell_type": "code",
      "source": [
        "numeric_cols = df.columns[(df.dtypes == 'int64') | (df.dtypes =='float64')]\n",
        "plt.figure(figsize=(10,10))\n",
        "i = 1\n",
        "for col in numeric_cols:\n",
        "  plt.subplot(5,2, i)\n",
        "  i += 1\n",
        "  sns.boxplot(x=df[col])\n",
        "\n",
        "plt.tight_layout()\n",
        "plt.show()"
      ],
      "metadata": {
        "colab": {
          "base_uri": "https://localhost:8080/",
          "height": 638
        },
        "id": "QSriblIp6s1T",
        "outputId": "3a8f8c6d-a72d-47a8-c9d9-d29fd08e98aa"
      },
      "execution_count": null,
      "outputs": [
        {
          "output_type": "display_data",
          "data": {
            "text/plain": [
              "<Figure size 1000x1000 with 5 Axes>"
            ],
            "image/png": "[encoded data removed]"
          },
          "metadata": {}
        }
      ]
    },
    {
      "cell_type": "markdown",
      "source": [
        "Let's inspect **popularity** column first since it might have an outliers in it. We can use `describe` to see the maximum value from values of the column."
      ],
      "metadata": {
        "id": "NBsJwTZID_ZV"
      }
    },
    {
      "cell_type": "code",
      "source": [
        "df['popularity'].describe()"
      ],
      "metadata": {
        "colab": {
          "base_uri": "https://localhost:8080/"
        },
        "id": "-Hz_xXGPD5WD",
        "outputId": "21c5cdce-0303-4693-de2d-2ccfdea18b0d"
      },
      "execution_count": null,
      "outputs": [
        {
          "output_type": "execute_result",
          "data": {
            "text/plain": [
              "count    15871.000000\n",
              "mean        18.090328\n",
              "std        114.493915\n",
              "min          0.600000\n",
              "25%          1.738500\n",
              "50%         10.094000\n",
              "75%         17.209500\n",
              "max       9065.306000\n",
              "Name: popularity, dtype: float64"
            ]
          },
          "metadata": {},
          "execution_count": 36
        }
      ]
    },
    {
      "cell_type": "markdown",
      "source": [
        "We can see the maximum value, which is **9065**, is really far away from the mean, **18**. I personally don't know how this movie popularity was measured. But, let's try to see the movie that has the highest popularity."
      ],
      "metadata": {
        "id": "FxUYJcTbEuvk"
      }
    },
    {
      "cell_type": "code",
      "source": [
        "df.sort_values(by='popularity', ascending=False).head(1)"
      ],
      "metadata": {
        "colab": {
          "base_uri": "https://localhost:8080/",
          "height": 232
        },
        "id": "b_O8i37iET_9",
        "outputId": "5f2025b2-2f06-4046-f85f-999f9feeca94"
      },
      "execution_count": null,
      "outputs": [
        {
          "output_type": "execute_result",
          "data": {
            "text/plain": [
              "      adult  movie_id original_language               original_title  \\\n",
              "7141  False    502356                en  The Super Mario Bros. Movie   \n",
              "\n",
              "                                               overview  popularity  \\\n",
              "7141  While working underground to fix a water main,...    9065.306   \n",
              "\n",
              "     release_date                        title  video  vote_average  \\\n",
              "7141   2023-04-05  The Super Mario Bros. Movie  False           7.5   \n",
              "\n",
              "      vote_count                                         genres  \\\n",
              "7141         631  Animation, Adventure, Family, Fantasy, Comedy   \n",
              "\n",
              "                                               keywords  \\\n",
              "7141  ['video game', 'plumber', 'magic mushroom', 'b...   \n",
              "\n",
              "                                                   cast  \\\n",
              "7141  [{'adult': False, 'gender': 2, 'id': 73457, 'k...   \n",
              "\n",
              "                                                   crew  year  month  \\\n",
              "7141  [{'adult': False, 'gender': 2, 'id': 5720, 'kn...  2023  April   \n",
              "\n",
              "            day  \n",
              "7141  Wednesday  "
            ],
            "text/html": [
              "\n",
              "  <div id=\"df-3a4fbeb2-1cb1-4f99-b347-92445dfeae03\">\n",
              "    <div class=\"colab-df-container\">\n",
              "      <div>\n",
              "<style scoped>\n",
              "    .dataframe tbody tr th:only-of-type {\n",
              "        vertical-align: middle;\n",
              "    }\n",
              "\n",
              "    .dataframe tbody tr th {\n",
              "        vertical-align: top;\n",
              "    }\n",
              "\n",
              "    .dataframe thead th {\n",
              "        text-align: right;\n",
              "    }\n",
              "</style>\n",
              "<table border=\"1\" class=\"dataframe\">\n",
              "  <thead>\n",
              "    <tr style=\"text-align: right;\">\n",
              "      <th></th>\n",
              "      <th>adult</th>\n",
              "      <th>movie_id</th>\n",
              "      <th>original_language</th>\n",
              "      <th>original_title</th>\n",
              "      <th>overview</th>\n",
              "      <th>popularity</th>\n",
              "      <th>release_date</th>\n",
              "      <th>title</th>\n",
              "      <th>video</th>\n",
              "      <th>vote_average</th>\n",
              "      <th>vote_count</th>\n",
              "      <th>genres</th>\n",
              "      <th>keywords</th>\n",
              "      <th>cast</th>\n",
              "      <th>crew</th>\n",
              "      <th>year</th>\n",
              "      <th>month</th>\n",
              "      <th>day</th>\n",
              "    </tr>\n",
              "  </thead>\n",
              "  <tbody>\n",
              "    <tr>\n",
              "      <th>7141</th>\n",
              "      <td>False</td>\n",
              "      <td>502356</td>\n",
              "      <td>en</td>\n",
              "      <td>The Super Mario Bros. Movie</td>\n",
              "      <td>While working underground to fix a water main,...</td>\n",
              "      <td>9065.306</td>\n",
              "      <td>2023-04-05</td>\n",
              "      <td>The Super Mario Bros. Movie</td>\n",
              "      <td>False</td>\n",
              "      <td>7.5</td>\n",
              "      <td>631</td>\n",
              "      <td>Animation, Adventure, Family, Fantasy, Comedy</td>\n",
              "      <td>['video game', 'plumber', 'magic mushroom', 'b...</td>\n",
              "      <td>[{'adult': False, 'gender': 2, 'id': 73457, 'k...</td>\n",
              "      <td>[{'adult': False, 'gender': 2, 'id': 5720, 'kn...</td>\n",
              "      <td>2023</td>\n",
              "      <td>April</td>\n",
              "      <td>Wednesday</td>\n",
              "    </tr>\n",
              "  </tbody>\n",
              "</table>\n",
              "</div>\n",
              "      <button class=\"colab-df-convert\" onclick=\"convertToInteractive('df-3a4fbeb2-1cb1-4f99-b347-92445dfeae03')\"\n",
              "              title=\"Convert this dataframe to an interactive table.\"\n",
              "              style=\"display:none;\">\n",
              "        \n",
              "  <svg xmlns=\"http://www.w3.org/2000/svg\" height=\"24px\"viewBox=\"0 0 24 24\"\n",
              "       width=\"24px\">\n",
              "    <path d=\"M0 0h24v24H0V0z\" fill=\"none\"/>\n",
              "    <path d=\"M18.56 5.44l.94 2.06.94-2.06 2.06-.94-2.06-.94-.94-2.06-.94 2.06-2.06.94zm-11 1L8.5 8.5l.94-2.06 2.06-.94-2.06-.94L8.5 2.5l-.94 2.06-2.06.94zm10 10l.94 2.06.94-2.06 2.06-.94-2.06-.94-.94-2.06-.94 2.06-2.06.94z\"/><path d=\"M17.41 7.96l-1.37-1.37c-.4-.4-.92-.59-1.43-.59-.52 0-1.04.2-1.43.59L10.3 9.45l-7.72 7.72c-.78.78-.78 2.05 0 2.83L4 21.41c.39.39.9.59 1.41.59.51 0 1.02-.2 1.41-.59l7.78-7.78 2.81-2.81c.8-.78.8-2.07 0-2.86zM5.41 20L4 18.59l7.72-7.72 1.47 1.35L5.41 20z\"/>\n",
              "  </svg>\n",
              "      </button>\n",
              "      \n",
              "  <style>\n",
              "    .colab-df-container {\n",
              "      display:flex;\n",
              "      flex-wrap:wrap;\n",
              "      gap: 12px;\n",
              "    }\n",
              "\n",
              "    .colab-df-convert {\n",
              "      background-color: #E8F0FE;\n",
              "      border: none;\n",
              "      border-radius: 50%;\n",
              "      cursor: pointer;\n",
              "      display: none;\n",
              "      fill: #1967D2;\n",
              "      height: 32px;\n",
              "      padding: 0 0 0 0;\n",
              "      width: 32px;\n",
              "    }\n",
              "\n",
              "    .colab-df-convert:hover {\n",
              "      background-color: #E2EBFA;\n",
              "      box-shadow: 0px 1px 2px rgba(60, 64, 67, 0.3), 0px 1px 3px 1px rgba(60, 64, 67, 0.15);\n",
              "      fill: #174EA6;\n",
              "    }\n",
              "\n",
              "    [theme=dark] .colab-df-convert {\n",
              "      background-color: #3B4455;\n",
              "      fill: #D2E3FC;\n",
              "    }\n",
              "\n",
              "    [theme=dark] .colab-df-convert:hover {\n",
              "      background-color: #434B5C;\n",
              "      box-shadow: 0px 1px 3px 1px rgba(0, 0, 0, 0.15);\n",
              "      filter: drop-shadow(0px 1px 2px rgba(0, 0, 0, 0.3));\n",
              "      fill: #FFFFFF;\n",
              "    }\n",
              "  </style>\n",
              "\n",
              "      <script>\n",
              "        const buttonEl =\n",
              "          document.querySelector('#df-3a4fbeb2-1cb1-4f99-b347-92445dfeae03 button.colab-df-convert');\n",
              "        buttonEl.style.display =\n",
              "          google.colab.kernel.accessAllowed ? 'block' : 'none';\n",
              "\n",
              "        async function convertToInteractive(key) {\n",
              "          const element = document.querySelector('#df-3a4fbeb2-1cb1-4f99-b347-92445dfeae03');\n",
              "          const dataTable =\n",
              "            await google.colab.kernel.invokeFunction('convertToInteractive',\n",
              "                                                     [key], {});\n",
              "          if (!dataTable) return;\n",
              "\n",
              "          const docLinkHtml = 'Like what you see? Visit the ' +\n",
              "            '<a target=\"_blank\" href=https://colab.research.google.com/notebooks/data_table.ipynb>data table notebook</a>'\n",
              "            + ' to learn more about interactive tables.';\n",
              "          element.innerHTML = '';\n",
              "          dataTable['output_type'] = 'display_data';\n",
              "          await google.colab.output.renderOutput(dataTable, element);\n",
              "          const docLink = document.createElement('div');\n",
              "          docLink.innerHTML = docLinkHtml;\n",
              "          element.appendChild(docLink);\n",
              "        }\n",
              "      </script>\n",
              "    </div>\n",
              "  </div>\n",
              "  "
            ]
          },
          "metadata": {},
          "execution_count": 37
        }
      ]
    },
    {
      "cell_type": "markdown",
      "source": [
        "The movie is **The Super Mario Bros. Movie** and was released on April 2023, which was very recent. \n",
        "\n",
        "I think it makes a lot of sense why the movie has such a high popularity. I'm also pretty sure that the movies which release date is before the emergence of technology would have a lower popularity. \n",
        "\n",
        "To prove this, let's try to group the data by its year and compute the mean of popularity for each year and plot them."
      ],
      "metadata": {
        "id": "qYbm8rRbGv4D"
      }
    },
    {
      "cell_type": "code",
      "source": [
        "year_pop_mean = df.groupby('year')['popularity'].mean().reset_index()\n",
        "sns.lineplot(x='year', y='popularity', data=year_pop_mean)\n",
        "plt.ylabel('Mean of popularity')\n",
        "plt.title('Average Popularity of Movies Throughout the Year')\n",
        "\n",
        "plt.show()"
      ],
      "metadata": {
        "colab": {
          "base_uri": "https://localhost:8080/",
          "height": 472
        },
        "id": "hogUJlznFe6y",
        "outputId": "894cfea0-6252-42ba-9ef6-1929771313a4"
      },
      "execution_count": null,
      "outputs": [
        {
          "output_type": "display_data",
          "data": {
            "text/plain": [
              "<Figure size 640x480 with 1 Axes>"
            ],
            "image/png": "[encoded data removed]"
          },
          "metadata": {}
        }
      ]
    },
    {
      "cell_type": "markdown",
      "source": [
        "As you can see, starting from 2020, movies popularity rose up massively."
      ],
      "metadata": {
        "id": "8sAK7CC8I5aO"
      }
    },
    {
      "cell_type": "markdown",
      "source": [
        "### Identifying Outliers Using 3 Standard Deviation Method or Z-score method\n",
        "\n",
        "We can identify the outliers by setting 2 threshold values which are the `upper limit` and the `lower limit`. Then, any data that falls above the **upper limit** or under the **lower limit** will be set as outliers.\n",
        "\n",
        "The upper limit and lower limit are defined as:\n",
        "\n",
        "`upper limit` = `mean + 3*std`\n",
        "\n",
        "`lower limit` = `mean - 3*std`\n",
        "\n",
        "If we were to use `z-score`, the upper limit and lower limit will be defined as:\n",
        "\n",
        "`upper limit` = `3`\n",
        "\n",
        "`lower limit` = `-3`\n",
        "\n",
        "Let's try it out with these 2 methods for the column **popularity**"
      ],
      "metadata": {
        "id": "CNNVCcZw6Hp6"
      }
    },
    {
      "cell_type": "code",
      "source": [
        "# with 3 std\n",
        "up_lim = df['popularity'].mean() + 3*df['popularity'].std()\n",
        "low_lim = df['popularity'].mean() - 3*df['popularity'].std()\n",
        "print(f\"The upper limit value is {up_lim}\\nThe lower limit value is {low_lim}\")"
      ],
      "metadata": {
        "colab": {
          "base_uri": "https://localhost:8080/"
        },
        "id": "hOHocXn9HyfW",
        "outputId": "10467beb-fd39-439e-8a15-27f024493d35"
      },
      "execution_count": null,
      "outputs": [
        {
          "output_type": "stream",
          "name": "stdout",
          "text": [
            "The upper limit value is 361.57207436217044\n",
            "The lower limit value is -325.39141807082143\n"
          ]
        }
      ]
    },
    {
      "cell_type": "code",
      "source": [
        "outliers = df[(df['popularity'] > up_lim) | (df['popularity'] < low_lim)]\n",
        "print(f\"There are {outliers.shape[0]} outliers\")\n",
        "#outliers"
      ],
      "metadata": {
        "colab": {
          "base_uri": "https://localhost:8080/"
        },
        "id": "wFi17iDeKPXr",
        "outputId": "5b27b076-02ea-4069-8c4b-cb53059d4692"
      },
      "execution_count": null,
      "outputs": [
        {
          "output_type": "stream",
          "name": "stdout",
          "text": [
            "There are 28 outliers\n"
          ]
        }
      ]
    },
    {
      "cell_type": "code",
      "source": [
        "# with the z score\n",
        "zscore_df = pd.DataFrame({'movie_name': df['title'], 'z-score': (df['popularity']- df['popularity'].mean())/df['popularity'].std()})\n",
        "zscore_df.head()"
      ],
      "metadata": {
        "colab": {
          "base_uri": "https://localhost:8080/",
          "height": 206
        },
        "id": "g0Etd9nh9OMB",
        "outputId": "22fd45e5-6cce-4273-efcf-e6c21698be9f"
      },
      "execution_count": null,
      "outputs": [
        {
          "output_type": "execute_result",
          "data": {
            "text/plain": [
              "            movie_name   z-score\n",
              "0         Looop Lapeta  0.333823\n",
              "1         Sooryavanshi  0.235704\n",
              "2              Pathaan  0.257836\n",
              "3  Chor Nikal Ke Bhaga  0.224454\n",
              "4             3 Idiots  0.167430"
            ],
            "text/html": [
              "\n",
              "  <div id=\"df-9705b1e2-0d3d-4926-98dd-7714b235246d\">\n",
              "    <div class=\"colab-df-container\">\n",
              "      <div>\n",
              "<style scoped>\n",
              "    .dataframe tbody tr th:only-of-type {\n",
              "        vertical-align: middle;\n",
              "    }\n",
              "\n",
              "    .dataframe tbody tr th {\n",
              "        vertical-align: top;\n",
              "    }\n",
              "\n",
              "    .dataframe thead th {\n",
              "        text-align: right;\n",
              "    }\n",
              "</style>\n",
              "<table border=\"1\" class=\"dataframe\">\n",
              "  <thead>\n",
              "    <tr style=\"text-align: right;\">\n",
              "      <th></th>\n",
              "      <th>movie_name</th>\n",
              "      <th>z-score</th>\n",
              "    </tr>\n",
              "  </thead>\n",
              "  <tbody>\n",
              "    <tr>\n",
              "      <th>0</th>\n",
              "      <td>Looop Lapeta</td>\n",
              "      <td>0.333823</td>\n",
              "    </tr>\n",
              "    <tr>\n",
              "      <th>1</th>\n",
              "      <td>Sooryavanshi</td>\n",
              "      <td>0.235704</td>\n",
              "    </tr>\n",
              "    <tr>\n",
              "      <th>2</th>\n",
              "      <td>Pathaan</td>\n",
              "      <td>0.257836</td>\n",
              "    </tr>\n",
              "    <tr>\n",
              "      <th>3</th>\n",
              "      <td>Chor Nikal Ke Bhaga</td>\n",
              "      <td>0.224454</td>\n",
              "    </tr>\n",
              "    <tr>\n",
              "      <th>4</th>\n",
              "      <td>3 Idiots</td>\n",
              "      <td>0.167430</td>\n",
              "    </tr>\n",
              "  </tbody>\n",
              "</table>\n",
              "</div>\n",
              "      <button class=\"colab-df-convert\" onclick=\"convertToInteractive('df-9705b1e2-0d3d-4926-98dd-7714b235246d')\"\n",
              "              title=\"Convert this dataframe to an interactive table.\"\n",
              "              style=\"display:none;\">\n",
              "        \n",
              "  <svg xmlns=\"http://www.w3.org/2000/svg\" height=\"24px\"viewBox=\"0 0 24 24\"\n",
              "       width=\"24px\">\n",
              "    <path d=\"M0 0h24v24H0V0z\" fill=\"none\"/>\n",
              "    <path d=\"M18.56 5.44l.94 2.06.94-2.06 2.06-.94-2.06-.94-.94-2.06-.94 2.06-2.06.94zm-11 1L8.5 8.5l.94-2.06 2.06-.94-2.06-.94L8.5 2.5l-.94 2.06-2.06.94zm10 10l.94 2.06.94-2.06 2.06-.94-2.06-.94-.94-2.06-.94 2.06-2.06.94z\"/><path d=\"M17.41 7.96l-1.37-1.37c-.4-.4-.92-.59-1.43-.59-.52 0-1.04.2-1.43.59L10.3 9.45l-7.72 7.72c-.78.78-.78 2.05 0 2.83L4 21.41c.39.39.9.59 1.41.59.51 0 1.02-.2 1.41-.59l7.78-7.78 2.81-2.81c.8-.78.8-2.07 0-2.86zM5.41 20L4 18.59l7.72-7.72 1.47 1.35L5.41 20z\"/>\n",
              "  </svg>\n",
              "      </button>\n",
              "      \n",
              "  <style>\n",
              "    .colab-df-container {\n",
              "      display:flex;\n",
              "      flex-wrap:wrap;\n",
              "      gap: 12px;\n",
              "    }\n",
              "\n",
              "    .colab-df-convert {\n",
              "      background-color: #E8F0FE;\n",
              "      border: none;\n",
              "      border-radius: 50%;\n",
              "      cursor: pointer;\n",
              "      display: none;\n",
              "      fill: #1967D2;\n",
              "      height: 32px;\n",
              "      padding: 0 0 0 0;\n",
              "      width: 32px;\n",
              "    }\n",
              "\n",
              "    .colab-df-convert:hover {\n",
              "      background-color: #E2EBFA;\n",
              "      box-shadow: 0px 1px 2px rgba(60, 64, 67, 0.3), 0px 1px 3px 1px rgba(60, 64, 67, 0.15);\n",
              "      fill: #174EA6;\n",
              "    }\n",
              "\n",
              "    [theme=dark] .colab-df-convert {\n",
              "      background-color: #3B4455;\n",
              "      fill: #D2E3FC;\n",
              "    }\n",
              "\n",
              "    [theme=dark] .colab-df-convert:hover {\n",
              "      background-color: #434B5C;\n",
              "      box-shadow: 0px 1px 3px 1px rgba(0, 0, 0, 0.15);\n",
              "      filter: drop-shadow(0px 1px 2px rgba(0, 0, 0, 0.3));\n",
              "      fill: #FFFFFF;\n",
              "    }\n",
              "  </style>\n",
              "\n",
              "      <script>\n",
              "        const buttonEl =\n",
              "          document.querySelector('#df-9705b1e2-0d3d-4926-98dd-7714b235246d button.colab-df-convert');\n",
              "        buttonEl.style.display =\n",
              "          google.colab.kernel.accessAllowed ? 'block' : 'none';\n",
              "\n",
              "        async function convertToInteractive(key) {\n",
              "          const element = document.querySelector('#df-9705b1e2-0d3d-4926-98dd-7714b235246d');\n",
              "          const dataTable =\n",
              "            await google.colab.kernel.invokeFunction('convertToInteractive',\n",
              "                                                     [key], {});\n",
              "          if (!dataTable) return;\n",
              "\n",
              "          const docLinkHtml = 'Like what you see? Visit the ' +\n",
              "            '<a target=\"_blank\" href=https://colab.research.google.com/notebooks/data_table.ipynb>data table notebook</a>'\n",
              "            + ' to learn more about interactive tables.';\n",
              "          element.innerHTML = '';\n",
              "          dataTable['output_type'] = 'display_data';\n",
              "          await google.colab.output.renderOutput(dataTable, element);\n",
              "          const docLink = document.createElement('div');\n",
              "          docLink.innerHTML = docLinkHtml;\n",
              "          element.appendChild(docLink);\n",
              "        }\n",
              "      </script>\n",
              "    </div>\n",
              "  </div>\n",
              "  "
            ]
          },
          "metadata": {},
          "execution_count": 41
        }
      ]
    },
    {
      "cell_type": "code",
      "source": [
        "outliers = zscore_df[(zscore_df['z-score'] > 3) |(zscore_df['z-score'] < -3)]\n",
        "print(f\"There are {outliers.shape[0]} outliers\")\n",
        "#outliers"
      ],
      "metadata": {
        "colab": {
          "base_uri": "https://localhost:8080/"
        },
        "id": "5f-N30eB-pFD",
        "outputId": "7a3e9833-9ba1-497f-b852-5f264ac50d00"
      },
      "execution_count": null,
      "outputs": [
        {
          "output_type": "stream",
          "name": "stdout",
          "text": [
            "There are 28 outliers\n"
          ]
        }
      ]
    },
    {
      "cell_type": "markdown",
      "source": [
        "Both methods result in the same number of outliers because they are actually the same."
      ],
      "metadata": {
        "id": "Rgf3NL-j_HKj"
      }
    },
    {
      "cell_type": "markdown",
      "source": [
        "### Identifying Outliers Using 1.5 IQR (Inter Quartile Range)\n",
        "You can also identify outliers by using **Inter Quartile Range (IQR)**. The concept is actually the same as the 3 Standard Deviation, that is by setting the upper limit and lower limit and then filter the data based on those values.\n",
        "The upper limit and lower limit are formulated as follows:\n",
        "\n",
        "\n",
        "1.   `upper limit = Q3 + 1.5 * IQR `\n",
        "2.   `lower limit = Q1 - 1.5 * IQR`\n",
        "\n",
        "and `IQR` is defined as\n",
        "\n",
        "\n",
        "1.   `IQR = Q3 - Q1`\n",
        "\n",
        "\n",
        "\n"
      ],
      "metadata": {
        "id": "gTVtpDPuA2VL"
      }
    },
    {
      "cell_type": "code",
      "source": [
        "q3, q1 = (df['popularity'].quantile(.75), df['popularity'].quantile(.25))\n",
        "iqr = q3 - q1\n",
        "up_lim = q3 + 1.5 * iqr\n",
        "low_lim = q1 - 1.5 * iqr"
      ],
      "metadata": {
        "id": "tWKGhLo9-_OH"
      },
      "execution_count": null,
      "outputs": []
    },
    {
      "cell_type": "code",
      "source": [
        "outliers = df[(df['popularity'] > up_lim) | (df['popularity'] < low_lim)]\n",
        "print(f\"There are {outliers.shape[0]} found\")\n",
        "# outliers"
      ],
      "metadata": {
        "colab": {
          "base_uri": "https://localhost:8080/"
        },
        "id": "wbFfl5VOz41y",
        "outputId": "8afd7e34-d35d-4d67-f04f-bd2ffd976794"
      },
      "execution_count": null,
      "outputs": [
        {
          "output_type": "stream",
          "name": "stdout",
          "text": [
            "There are 1115 found\n"
          ]
        }
      ]
    },
    {
      "cell_type": "markdown",
      "source": [
        "Each method can give a different value of outliers. But, really the way how we treat outliers is what matters"
      ],
      "metadata": {
        "id": "TtlBMK_W1yLI"
      }
    },
    {
      "cell_type": "markdown",
      "source": [
        "### Handling Outliers\n",
        "There are many ways to deal with outliers. I found an article from Medium that might be helpful. Here's the link to it [4 Easy Ways to Handle Outliers in Your Data](https://medium.com/mlearning-ai/4-easy-ways-to-handle-outliers-in-your-data-47f125a3f779).\n",
        "\n",
        "You also need to see the value found as an outlier is reasonable or not and see if it affects your analysis."
      ],
      "metadata": {
        "id": "DcDmHl8o2mSQ"
      }
    },
    {
      "cell_type": "markdown",
      "source": [
        "## Cleaning the rest of the data\n",
        "\n",
        "Let's make the data cleaner. **keywords, cast, and crew** are still in a poor format."
      ],
      "metadata": {
        "id": "acmr1yPkrLtw"
      }
    },
    {
      "cell_type": "code",
      "source": [
        "# inspect keywords col\n",
        "print(df['keywords'][0], type(df['keywords'][0]))"
      ],
      "metadata": {
        "colab": {
          "base_uri": "https://localhost:8080/"
        },
        "id": "A6sZSRiu1QgP",
        "outputId": "aa8e7e7f-7b82-48d2-b6bc-9fb4fff75166"
      },
      "execution_count": null,
      "outputs": [
        {
          "output_type": "stream",
          "name": "stdout",
          "text": [
            "['remake', 'looop lapeta', 'saade saati'] <class 'str'>\n"
          ]
        }
      ]
    },
    {
      "cell_type": "code",
      "source": [
        "# let's use regex to exclude the unecessary characters such as square brackets, and single quote\n",
        "# I came up with this pattern through few tries\n",
        "patt = r\"'([\\w ]+)'\"\n",
        "df['keywords'] = df['keywords'].apply(lambda x: \", \".join(re.findall(patt, x)))"
      ],
      "metadata": {
        "id": "JqHtH_TErYFT"
      },
      "execution_count": null,
      "outputs": []
    },
    {
      "cell_type": "code",
      "source": [
        "# here's the result\n",
        "df[['keywords']].head()"
      ],
      "metadata": {
        "colab": {
          "base_uri": "https://localhost:8080/",
          "height": 206
        },
        "id": "c3NGATDFsRxr",
        "outputId": "87785236-64fb-464c-a80d-36a596b2fd64"
      },
      "execution_count": null,
      "outputs": [
        {
          "output_type": "execute_result",
          "data": {
            "text/plain": [
              "                                            keywords\n",
              "0                  remake, looop lapeta, saade saati\n",
              "1       police, sequel, police officer, cop universe\n",
              "2  spy, fake death, spy thriller, spy universe, y...\n",
              "3                          heist, airplane hijacking\n",
              "4  suicide, suicide attempt, college, musical, sl..."
            ],
            "text/html": [
              "\n",
              "  <div id=\"df-1b11179d-b2f5-4023-b32b-c45886a55c25\">\n",
              "    <div class=\"colab-df-container\">\n",
              "      <div>\n",
              "<style scoped>\n",
              "    .dataframe tbody tr th:only-of-type {\n",
              "        vertical-align: middle;\n",
              "    }\n",
              "\n",
              "    .dataframe tbody tr th {\n",
              "        vertical-align: top;\n",
              "    }\n",
              "\n",
              "    .dataframe thead th {\n",
              "        text-align: right;\n",
              "    }\n",
              "</style>\n",
              "<table border=\"1\" class=\"dataframe\">\n",
              "  <thead>\n",
              "    <tr style=\"text-align: right;\">\n",
              "      <th></th>\n",
              "      <th>keywords</th>\n",
              "    </tr>\n",
              "  </thead>\n",
              "  <tbody>\n",
              "    <tr>\n",
              "      <th>0</th>\n",
              "      <td>remake, looop lapeta, saade saati</td>\n",
              "    </tr>\n",
              "    <tr>\n",
              "      <th>1</th>\n",
              "      <td>police, sequel, police officer, cop universe</td>\n",
              "    </tr>\n",
              "    <tr>\n",
              "      <th>2</th>\n",
              "      <td>spy, fake death, spy thriller, spy universe, y...</td>\n",
              "    </tr>\n",
              "    <tr>\n",
              "      <th>3</th>\n",
              "      <td>heist, airplane hijacking</td>\n",
              "    </tr>\n",
              "    <tr>\n",
              "      <th>4</th>\n",
              "      <td>suicide, suicide attempt, college, musical, sl...</td>\n",
              "    </tr>\n",
              "  </tbody>\n",
              "</table>\n",
              "</div>\n",
              "      <button class=\"colab-df-convert\" onclick=\"convertToInteractive('df-1b11179d-b2f5-4023-b32b-c45886a55c25')\"\n",
              "              title=\"Convert this dataframe to an interactive table.\"\n",
              "              style=\"display:none;\">\n",
              "        \n",
              "  <svg xmlns=\"http://www.w3.org/2000/svg\" height=\"24px\"viewBox=\"0 0 24 24\"\n",
              "       width=\"24px\">\n",
              "    <path d=\"M0 0h24v24H0V0z\" fill=\"none\"/>\n",
              "    <path d=\"M18.56 5.44l.94 2.06.94-2.06 2.06-.94-2.06-.94-.94-2.06-.94 2.06-2.06.94zm-11 1L8.5 8.5l.94-2.06 2.06-.94-2.06-.94L8.5 2.5l-.94 2.06-2.06.94zm10 10l.94 2.06.94-2.06 2.06-.94-2.06-.94-.94-2.06-.94 2.06-2.06.94z\"/><path d=\"M17.41 7.96l-1.37-1.37c-.4-.4-.92-.59-1.43-.59-.52 0-1.04.2-1.43.59L10.3 9.45l-7.72 7.72c-.78.78-.78 2.05 0 2.83L4 21.41c.39.39.9.59 1.41.59.51 0 1.02-.2 1.41-.59l7.78-7.78 2.81-2.81c.8-.78.8-2.07 0-2.86zM5.41 20L4 18.59l7.72-7.72 1.47 1.35L5.41 20z\"/>\n",
              "  </svg>\n",
              "      </button>\n",
              "      \n",
              "  <style>\n",
              "    .colab-df-container {\n",
              "      display:flex;\n",
              "      flex-wrap:wrap;\n",
              "      gap: 12px;\n",
              "    }\n",
              "\n",
              "    .colab-df-convert {\n",
              "      background-color: #E8F0FE;\n",
              "      border: none;\n",
              "      border-radius: 50%;\n",
              "      cursor: pointer;\n",
              "      display: none;\n",
              "      fill: #1967D2;\n",
              "      height: 32px;\n",
              "      padding: 0 0 0 0;\n",
              "      width: 32px;\n",
              "    }\n",
              "\n",
              "    .colab-df-convert:hover {\n",
              "      background-color: #E2EBFA;\n",
              "      box-shadow: 0px 1px 2px rgba(60, 64, 67, 0.3), 0px 1px 3px 1px rgba(60, 64, 67, 0.15);\n",
              "      fill: #174EA6;\n",
              "    }\n",
              "\n",
              "    [theme=dark] .colab-df-convert {\n",
              "      background-color: #3B4455;\n",
              "      fill: #D2E3FC;\n",
              "    }\n",
              "\n",
              "    [theme=dark] .colab-df-convert:hover {\n",
              "      background-color: #434B5C;\n",
              "      box-shadow: 0px 1px 3px 1px rgba(0, 0, 0, 0.15);\n",
              "      filter: drop-shadow(0px 1px 2px rgba(0, 0, 0, 0.3));\n",
              "      fill: #FFFFFF;\n",
              "    }\n",
              "  </style>\n",
              "\n",
              "      <script>\n",
              "        const buttonEl =\n",
              "          document.querySelector('#df-1b11179d-b2f5-4023-b32b-c45886a55c25 button.colab-df-convert');\n",
              "        buttonEl.style.display =\n",
              "          google.colab.kernel.accessAllowed ? 'block' : 'none';\n",
              "\n",
              "        async function convertToInteractive(key) {\n",
              "          const element = document.querySelector('#df-1b11179d-b2f5-4023-b32b-c45886a55c25');\n",
              "          const dataTable =\n",
              "            await google.colab.kernel.invokeFunction('convertToInteractive',\n",
              "                                                     [key], {});\n",
              "          if (!dataTable) return;\n",
              "\n",
              "          const docLinkHtml = 'Like what you see? Visit the ' +\n",
              "            '<a target=\"_blank\" href=https://colab.research.google.com/notebooks/data_table.ipynb>data table notebook</a>'\n",
              "            + ' to learn more about interactive tables.';\n",
              "          element.innerHTML = '';\n",
              "          dataTable['output_type'] = 'display_data';\n",
              "          await google.colab.output.renderOutput(dataTable, element);\n",
              "          const docLink = document.createElement('div');\n",
              "          docLink.innerHTML = docLinkHtml;\n",
              "          element.appendChild(docLink);\n",
              "        }\n",
              "      </script>\n",
              "    </div>\n",
              "  </div>\n",
              "  "
            ]
          },
          "metadata": {},
          "execution_count": 66
        }
      ]
    },
    {
      "cell_type": "code",
      "source": [
        "# inspect cast col\n",
        "print(df['cast'][0], type(df['cast'][0]))"
      ],
      "metadata": {
        "colab": {
          "base_uri": "https://localhost:8080/"
        },
        "id": "Fa9ZbtbmwyVt",
        "outputId": "b9dac99c-c3d6-4219-db2a-5276e993cca7"
      },
      "execution_count": null,
      "outputs": [
        {
          "output_type": "stream",
          "name": "stdout",
          "text": [
            "[{'adult': False, 'gender': 1, 'id': 550167, 'known_for_department': 'Acting', 'name': 'Taapsee Pannu', 'original_name': 'Taapsee Pannu', 'popularity': 6.156, 'profile_path': '/u9Gwg3J0bdczTPunP8qoWK2Vhu4.jpg', 'cast_id': 1, 'character': 'Savi', 'credit_id': '5ff5b30128723c0040af9605', 'order': 0}, {'adult': False, 'gender': 2, 'id': 1714229, 'known_for_department': 'Acting', 'name': 'Tahir Raj Bhasin', 'original_name': 'Tahir Raj Bhasin', 'popularity': 2.203, 'profile_path': '/A4ylMYWj8IqnmX74Two8c4Lp8jY.jpg', 'cast_id': 3, 'character': 'Satya', 'credit_id': '5ff5b31dd38b580043cb4047', 'order': 1}, {'adult': False, 'gender': 1, 'id': 2092738, 'known_for_department': 'Acting', 'name': 'Shreya Dhanwanthary', 'original_name': 'Shreya Dhanwanthary', 'popularity': 8.802, 'profile_path': '/dSWHYuEWjPzczAzdLFgYHt3Y5Dd.jpg', 'cast_id': 15, 'character': 'Julia', 'credit_id': '6136133e2cde980089dc0082', 'order': 2}, {'adult': False, 'gender': 2, 'id': 101823, 'known_for_department': 'Acting', 'name': 'Dibyendu Bhattacharya', 'original_name': 'Dibyendu Bhattacharya', 'popularity': 6.209, 'profile_path': '/uLlGKCL9y5CFBwcAafTDQhupz5h.jpg', 'cast_id': 22, 'character': 'Victor', 'credit_id': '61d91fac33a53300415c3d18', 'order': 3}, {'adult': False, 'gender': 0, 'id': 1252843, 'known_for_department': 'Acting', 'name': 'Rajendra Chawla', 'original_name': 'Rajendra Chawla', 'popularity': 1.108, 'profile_path': '/rwldmP0tneEflAVgOaQsYmvTZju.jpg', 'cast_id': 21, 'character': 'Mamlesh Charan Chaddha', 'credit_id': '61d91fa2a6fdaa009333e436', 'order': 4}, {'adult': False, 'gender': 2, 'id': 2365591, 'known_for_department': 'Acting', 'name': 'K.C. Shankar', 'original_name': 'K.C. Shankar', 'popularity': 2.075, 'profile_path': '/fbxJMM6YZGl3OLHhnqISzPjbSpB.jpg', 'cast_id': 23, 'character': 'Atul Borkar', 'credit_id': '61d91fb833a53300415c3d36', 'order': 5}, {'adult': False, 'gender': 2, 'id': 1927085, 'known_for_department': 'Directing', 'name': 'Suresh Triveni', 'original_name': 'Suresh Triveni', 'popularity': 0.98, 'profile_path': None, 'cast_id': 34, 'character': 'Gangster Pedro', 'credit_id': '61e2f1d4ffd44d006bd2b773', 'order': 6}, {'adult': False, 'gender': 2, 'id': 2967857, 'known_for_department': 'Acting', 'name': 'Manik Papneja', 'original_name': 'Manik Papneja', 'popularity': 1.177, 'profile_path': '/bjVqyExEk5n1qHLuOnbR8UbPLpY.jpg', 'cast_id': 24, 'character': 'Appu', 'credit_id': '61d91fc9293835009569944f', 'order': 7}, {'adult': False, 'gender': 2, 'id': 2400790, 'known_for_department': 'Acting', 'name': 'Raghav Raj Kakker', 'original_name': 'Raghav Raj Kakker', 'popularity': 1.22, 'profile_path': '/p4TqLqcbyZWryGGDJjMaYL89CfU.jpg', 'cast_id': 25, 'character': 'Gappu', 'credit_id': '61d91fe09824c8004140a205', 'order': 8}, {'adult': False, 'gender': 2, 'id': 1951414, 'known_for_department': 'Acting', 'name': 'Sameer Kevin Roy', 'original_name': 'Sameer Kevin Roy', 'popularity': 1.38, 'profile_path': None, 'cast_id': 26, 'character': 'Jacob', 'credit_id': '61d91fea5ed8e9001d41c9e2', 'order': 9}, {'adult': False, 'gender': 2, 'id': 3373394, 'known_for_department': 'Acting', 'name': 'Bhupesh Bandekar', 'original_name': 'Bhupesh Bandekar', 'popularity': 0.98, 'profile_path': None, 'cast_id': 27, 'character': 'Inspector David Colaco', 'credit_id': '61d91ff70e5aba0042ffb116', 'order': 10}, {'adult': False, 'gender': 2, 'id': 3412117, 'known_for_department': 'Acting', 'name': 'Alistar Bennis', 'original_name': 'Alistar Bennis', 'popularity': 0.98, 'profile_path': None, 'cast_id': 49, 'character': 'Robert', 'credit_id': '61fce7ee1e259a0113e2778e', 'order': 11}, {'adult': False, 'gender': 2, 'id': 3412118, 'known_for_department': 'Acting', 'name': 'Varun Pande', 'original_name': 'Varun Pande', 'popularity': 0.6, 'profile_path': None, 'cast_id': 50, 'character': 'Yash', 'credit_id': '61fce7fadfaae9009c588c3f', 'order': 12}, {'adult': False, 'gender': 0, 'id': 3412128, 'known_for_department': 'Acting', 'name': 'Babajaan Devaraya', 'original_name': 'Babajaan Devaraya', 'popularity': 0.6, 'profile_path': None, 'cast_id': 60, 'character': 'Rastafarian', 'credit_id': '61fcea25eee18600cd3e95d0', 'order': 13}, {'adult': False, 'gender': 0, 'id': 3412129, 'known_for_department': 'Acting', 'name': 'Guia Bianchi', 'original_name': 'Guia Bianchi', 'popularity': 0.6, 'profile_path': None, 'cast_id': 61, 'character': 'Lola', 'credit_id': '61fcea3d7a97ab00732bb9e9', 'order': 14}, {'adult': False, 'gender': 1, 'id': 3565643, 'known_for_department': 'Acting', 'name': 'Priya Paramita Paul', 'original_name': 'Priya Paramita Paul', 'popularity': 0.6, 'profile_path': '/zTRyZGrYPMEWXXCw2NBGzupvAqL.jpg', 'cast_id': 62, 'character': 'zoya', 'credit_id': '62906bf3a24232009b59114b', 'order': 15}] <class 'str'>\n"
          ]
        }
      ]
    },
    {
      "cell_type": "code",
      "source": [
        "# let's get only the names of the cast\n",
        "patt = r\"'name': '([\\w ]*)'\"\n",
        "df['cast'] = df['cast'].apply(lambda x: \", \".join(re.findall(patt, x)))"
      ],
      "metadata": {
        "id": "2Op6eFp2xNdG"
      },
      "execution_count": null,
      "outputs": []
    },
    {
      "cell_type": "code",
      "source": [
        "# result\n",
        "df[['cast']].head()"
      ],
      "metadata": {
        "colab": {
          "base_uri": "https://localhost:8080/",
          "height": 206
        },
        "id": "1hTAqd3Tx5OR",
        "outputId": "6530bea4-30f7-4b81-9c78-51b039967a52"
      },
      "execution_count": null,
      "outputs": [
        {
          "output_type": "execute_result",
          "data": {
            "text/plain": [
              "                                                cast\n",
              "0  Taapsee Pannu, Tahir Raj Bhasin, Shreya Dhanwa...\n",
              "1  Akshay Kumar, Katrina Kaif, Ajay Devgn, Ranvee...\n",
              "2  Shah Rukh Khan, Deepika Padukone, John Abraham...\n",
              "3  Yami Gautam, Sunny Kaushal, Sharad Kelkar, Ind...\n",
              "4  Aamir Khan, Sharman Joshi, Kareena Kapoor Khan..."
            ],
            "text/html": [
              "\n",
              "  <div id=\"df-fc070190-1b52-4ab3-be6c-2f5a6eeea09d\">\n",
              "    <div class=\"colab-df-container\">\n",
              "      <div>\n",
              "<style scoped>\n",
              "    .dataframe tbody tr th:only-of-type {\n",
              "        vertical-align: middle;\n",
              "    }\n",
              "\n",
              "    .dataframe tbody tr th {\n",
              "        vertical-align: top;\n",
              "    }\n",
              "\n",
              "    .dataframe thead th {\n",
              "        text-align: right;\n",
              "    }\n",
              "</style>\n",
              "<table border=\"1\" class=\"dataframe\">\n",
              "  <thead>\n",
              "    <tr style=\"text-align: right;\">\n",
              "      <th></th>\n",
              "      <th>cast</th>\n",
              "    </tr>\n",
              "  </thead>\n",
              "  <tbody>\n",
              "    <tr>\n",
              "      <th>0</th>\n",
              "      <td>Taapsee Pannu, Tahir Raj Bhasin, Shreya Dhanwa...</td>\n",
              "    </tr>\n",
              "    <tr>\n",
              "      <th>1</th>\n",
              "      <td>Akshay Kumar, Katrina Kaif, Ajay Devgn, Ranvee...</td>\n",
              "    </tr>\n",
              "    <tr>\n",
              "      <th>2</th>\n",
              "      <td>Shah Rukh Khan, Deepika Padukone, John Abraham...</td>\n",
              "    </tr>\n",
              "    <tr>\n",
              "      <th>3</th>\n",
              "      <td>Yami Gautam, Sunny Kaushal, Sharad Kelkar, Ind...</td>\n",
              "    </tr>\n",
              "    <tr>\n",
              "      <th>4</th>\n",
              "      <td>Aamir Khan, Sharman Joshi, Kareena Kapoor Khan...</td>\n",
              "    </tr>\n",
              "  </tbody>\n",
              "</table>\n",
              "</div>\n",
              "      <button class=\"colab-df-convert\" onclick=\"convertToInteractive('df-fc070190-1b52-4ab3-be6c-2f5a6eeea09d')\"\n",
              "              title=\"Convert this dataframe to an interactive table.\"\n",
              "              style=\"display:none;\">\n",
              "        \n",
              "  <svg xmlns=\"http://www.w3.org/2000/svg\" height=\"24px\"viewBox=\"0 0 24 24\"\n",
              "       width=\"24px\">\n",
              "    <path d=\"M0 0h24v24H0V0z\" fill=\"none\"/>\n",
              "    <path d=\"M18.56 5.44l.94 2.06.94-2.06 2.06-.94-2.06-.94-.94-2.06-.94 2.06-2.06.94zm-11 1L8.5 8.5l.94-2.06 2.06-.94-2.06-.94L8.5 2.5l-.94 2.06-2.06.94zm10 10l.94 2.06.94-2.06 2.06-.94-2.06-.94-.94-2.06-.94 2.06-2.06.94z\"/><path d=\"M17.41 7.96l-1.37-1.37c-.4-.4-.92-.59-1.43-.59-.52 0-1.04.2-1.43.59L10.3 9.45l-7.72 7.72c-.78.78-.78 2.05 0 2.83L4 21.41c.39.39.9.59 1.41.59.51 0 1.02-.2 1.41-.59l7.78-7.78 2.81-2.81c.8-.78.8-2.07 0-2.86zM5.41 20L4 18.59l7.72-7.72 1.47 1.35L5.41 20z\"/>\n",
              "  </svg>\n",
              "      </button>\n",
              "      \n",
              "  <style>\n",
              "    .colab-df-container {\n",
              "      display:flex;\n",
              "      flex-wrap:wrap;\n",
              "      gap: 12px;\n",
              "    }\n",
              "\n",
              "    .colab-df-convert {\n",
              "      background-color: #E8F0FE;\n",
              "      border: none;\n",
              "      border-radius: 50%;\n",
              "      cursor: pointer;\n",
              "      display: none;\n",
              "      fill: #1967D2;\n",
              "      height: 32px;\n",
              "      padding: 0 0 0 0;\n",
              "      width: 32px;\n",
              "    }\n",
              "\n",
              "    .colab-df-convert:hover {\n",
              "      background-color: #E2EBFA;\n",
              "      box-shadow: 0px 1px 2px rgba(60, 64, 67, 0.3), 0px 1px 3px 1px rgba(60, 64, 67, 0.15);\n",
              "      fill: #174EA6;\n",
              "    }\n",
              "\n",
              "    [theme=dark] .colab-df-convert {\n",
              "      background-color: #3B4455;\n",
              "      fill: #D2E3FC;\n",
              "    }\n",
              "\n",
              "    [theme=dark] .colab-df-convert:hover {\n",
              "      background-color: #434B5C;\n",
              "      box-shadow: 0px 1px 3px 1px rgba(0, 0, 0, 0.15);\n",
              "      filter: drop-shadow(0px 1px 2px rgba(0, 0, 0, 0.3));\n",
              "      fill: #FFFFFF;\n",
              "    }\n",
              "  </style>\n",
              "\n",
              "      <script>\n",
              "        const buttonEl =\n",
              "          document.querySelector('#df-fc070190-1b52-4ab3-be6c-2f5a6eeea09d button.colab-df-convert');\n",
              "        buttonEl.style.display =\n",
              "          google.colab.kernel.accessAllowed ? 'block' : 'none';\n",
              "\n",
              "        async function convertToInteractive(key) {\n",
              "          const element = document.querySelector('#df-fc070190-1b52-4ab3-be6c-2f5a6eeea09d');\n",
              "          const dataTable =\n",
              "            await google.colab.kernel.invokeFunction('convertToInteractive',\n",
              "                                                     [key], {});\n",
              "          if (!dataTable) return;\n",
              "\n",
              "          const docLinkHtml = 'Like what you see? Visit the ' +\n",
              "            '<a target=\"_blank\" href=https://colab.research.google.com/notebooks/data_table.ipynb>data table notebook</a>'\n",
              "            + ' to learn more about interactive tables.';\n",
              "          element.innerHTML = '';\n",
              "          dataTable['output_type'] = 'display_data';\n",
              "          await google.colab.output.renderOutput(dataTable, element);\n",
              "          const docLink = document.createElement('div');\n",
              "          docLink.innerHTML = docLinkHtml;\n",
              "          element.appendChild(docLink);\n",
              "        }\n",
              "      </script>\n",
              "    </div>\n",
              "  </div>\n",
              "  "
            ]
          },
          "metadata": {},
          "execution_count": 72
        }
      ]
    },
    {
      "cell_type": "code",
      "source": [
        "# inspect crew column\n",
        "print(df['crew'][0], type(df['crew'][0]))"
      ],
      "metadata": {
        "colab": {
          "base_uri": "https://localhost:8080/"
        },
        "id": "uI8MdqCayPef",
        "outputId": "3dd1a347-54ca-4c5b-ec9d-c27335bc3fc7"
      },
      "execution_count": null,
      "outputs": [
        {
          "output_type": "stream",
          "name": "stdout",
          "text": [
            "[{'adult': False, 'gender': 2, 'id': 1071, 'known_for_department': 'Directing', 'name': 'Tom Tykwer', 'original_name': 'Tom Tykwer', 'popularity': 4.312, 'profile_path': '/cu7F4AulzRbj0dZH9s5pRM61w64.jpg', 'credit_id': '617796df9ee0ef008c45483e', 'department': 'Writing', 'job': 'Original Story'}, {'adult': False, 'gender': 2, 'id': 1108802, 'known_for_department': 'Production', 'name': 'Mukesh Chhabra', 'original_name': 'Mukesh Chhabra', 'popularity': 2.972, 'profile_path': '/f5XI2wJs2JPcd5FSECsdcnkyOMW.jpg', 'credit_id': '61e09db05bce9e0041751368', 'department': 'Production', 'job': 'Casting Director'}, {'adult': False, 'gender': 0, 'id': 1208683, 'known_for_department': 'Production', 'name': 'Tanuj Garg', 'original_name': 'Tanuj Garg', 'popularity': 0.6, 'profile_path': None, 'credit_id': '5ff5b40d245dbe003d301373', 'department': 'Production', 'job': 'Producer'}, {'adult': False, 'gender': 0, 'id': 1376941, 'known_for_department': 'Production', 'name': 'Siddharth Atha', 'original_name': 'Siddharth Atha', 'popularity': 0.6, 'profile_path': None, 'credit_id': '61fce8f26f31af008f869555', 'department': 'Production', 'job': 'Executive Producer'}, {'adult': False, 'gender': 2, 'id': 1434492, 'known_for_department': 'Crew', 'name': 'Ejaz Gulab', 'original_name': 'Ejaz Gulab', 'popularity': 0.98, 'profile_path': None, 'credit_id': '61fce8915c3247009504c450', 'department': 'Crew', 'job': 'Stunt Coordinator'}, {'adult': False, 'gender': 0, 'id': 1561318, 'known_for_department': 'Production', 'name': 'Atul Kasbekar', 'original_name': 'Atul Kasbekar', 'popularity': 0.6, 'profile_path': None, 'credit_id': '5ff5b4267e9d5f004032ac2b', 'department': 'Production', 'job': 'Producer'}, {'adult': False, 'gender': 0, 'id': 1561320, 'known_for_department': 'Production', 'name': 'Shanti Sivaram Maini', 'original_name': 'Shanti Sivaram Maini', 'popularity': 0.6, 'profile_path': None, 'credit_id': '61fce92364de35004421dedd', 'department': 'Production', 'job': 'Co-Producer'}, {'adult': False, 'gender': 0, 'id': 1682059, 'known_for_department': 'Art', 'name': 'Aashish Porwal', 'original_name': 'Aashish Porwal', 'popularity': 0.6, 'profile_path': None, 'credit_id': '5ff5b46ab865eb003cb1ef68', 'department': 'Art', 'job': 'Art Direction'}, {'adult': False, 'gender': 0, 'id': 1730578, 'known_for_department': 'Lighting', 'name': 'Yash Khanna', 'original_name': 'Yash Khanna', 'popularity': 0.6, 'profile_path': None, 'credit_id': '6177964fa579f90027164d8c', 'department': 'Camera', 'job': 'Director of Photography'}, {'adult': False, 'gender': 0, 'id': 1860546, 'known_for_department': 'Production', 'name': 'Simran Sawhney', 'original_name': 'Simran Sawhney', 'popularity': 0.6, 'profile_path': None, 'credit_id': '5ff5b44cd38b580041cbc125', 'department': 'Production', 'job': 'Producer'}, {'adult': False, 'gender': 0, 'id': 1985232, 'known_for_department': 'Sound', 'name': 'Gautam Nair', 'original_name': 'Gautam Nair', 'popularity': 0.6, 'profile_path': None, 'credit_id': '61fce869ce997a010f725729', 'department': 'Sound', 'job': 'Sound Designer'}, {'adult': False, 'gender': 0, 'id': 2035070, 'known_for_department': 'Costume & Make-Up', 'name': 'Indrakshi Pattanaik', 'original_name': 'Indrakshi Pattanaik', 'popularity': 0.6, 'profile_path': None, 'credit_id': '61e08aa31511aa001c122ad5', 'department': 'Costume & Make-Up', 'job': 'Costume Designer'}, {'adult': False, 'gender': 0, 'id': 2036033, 'known_for_department': 'Editing', 'name': 'Priyank Prem Kumar', 'original_name': 'Priyank Prem Kumar', 'popularity': 0.6, 'profile_path': None, 'credit_id': '617797016e0d720063599cec', 'department': 'Editing', 'job': 'Editor'}, {'adult': False, 'gender': 0, 'id': 2266291, 'known_for_department': 'Art', 'name': 'Pradeep Paul Francis', 'original_name': 'Pradeep Paul Francis', 'popularity': 0.6, 'profile_path': None, 'credit_id': '61fce8b05c324700ddac68aa', 'department': 'Art', 'job': 'Production Design'}, {'adult': False, 'gender': 0, 'id': 2266293, 'known_for_department': 'Art', 'name': 'Diya Mukerjea', 'original_name': 'Diya Mukerjea', 'popularity': 0.6, 'profile_path': None, 'credit_id': '61fce8c56f31af00ba036b8b', 'department': 'Art', 'job': 'Production Design'}, {'adult': False, 'gender': 0, 'id': 2329287, 'known_for_department': 'Writing', 'name': 'Vinay Chhawal', 'original_name': 'Vinay Chhawal', 'popularity': 0.98, 'profile_path': None, 'credit_id': '61d9201f6331b200990b4acb', 'department': 'Writing', 'job': 'Writer'}, {'adult': False, 'gender': 0, 'id': 2542498, 'known_for_department': 'Production', 'name': 'Aakash Bhatia', 'original_name': 'Aakash Bhatia', 'popularity': 1.38, 'profile_path': None, 'credit_id': '617797a8894ed60064768a3b', 'department': 'Directing', 'job': 'Director'}, {'adult': False, 'gender': 0, 'id': 2542498, 'known_for_department': 'Production', 'name': 'Aakash Bhatia', 'original_name': 'Aakash Bhatia', 'popularity': 1.38, 'profile_path': None, 'credit_id': '61d920446dea3a001f020890', 'department': 'Writing', 'job': 'Writer'}, {'adult': False, 'gender': 0, 'id': 2553014, 'known_for_department': 'Sound', 'name': 'Sharvi Yadav', 'original_name': 'Sharvi Yadav', 'popularity': 0.6, 'profile_path': None, 'credit_id': '61e6904ac613ce008cefbfe5', 'department': 'Sound', 'job': 'Playback Singer'}, {'adult': False, 'gender': 0, 'id': 2680859, 'known_for_department': 'Writing', 'name': 'Puneet Chadha', 'original_name': 'Puneet Chadha', 'popularity': 0.6, 'profile_path': None, 'credit_id': '61fce90d64de35004421ded5', 'department': 'Crew', 'job': 'Additional Dialogue'}, {'adult': False, 'gender': 0, 'id': 2783444, 'known_for_department': 'Writing', 'name': 'Siddhant Kaushal', 'original_name': 'Siddhant Kaushal', 'popularity': 0.6, 'profile_path': None, 'credit_id': '61e690617d2bc1009fd31847', 'department': 'Writing', 'job': 'Lyricist'}, {'adult': False, 'gender': 0, 'id': 2925506, 'known_for_department': 'Production', 'name': 'Aayush Maheshwari', 'original_name': 'Aayush Maheshwari', 'popularity': 0.6, 'profile_path': None, 'credit_id': '5ff5b43a7e9d5f003e325971', 'department': 'Production', 'job': 'Producer'}, {'adult': False, 'gender': 0, 'id': 2925509, 'known_for_department': 'Production', 'name': 'Rohit Chandaliya', 'original_name': 'Rohit Chandaliya', 'popularity': 0.6, 'profile_path': None, 'credit_id': '5ff5b4b0f48e0d004172b353', 'department': 'Production', 'job': 'Production Manager'}, {'adult': False, 'gender': 0, 'id': 3139446, 'known_for_department': 'Writing', 'name': 'Sidhant Mago', 'original_name': 'Sidhant Mago', 'popularity': 0.98, 'profile_path': None, 'credit_id': '61e68f84a402c1001c119804', 'department': 'Sound', 'job': 'Original Music Composer'}, {'adult': False, 'gender': 0, 'id': 3139446, 'known_for_department': 'Writing', 'name': 'Sidhant Mago', 'original_name': 'Sidhant Mago', 'popularity': 0.98, 'profile_path': None, 'credit_id': '61e68f8e2d93750066f4b059', 'department': 'Sound', 'job': 'Playback Singer'}, {'adult': False, 'gender': 0, 'id': 3139446, 'known_for_department': 'Writing', 'name': 'Sidhant Mago', 'original_name': 'Sidhant Mago', 'popularity': 0.98, 'profile_path': None, 'credit_id': '61e68fa2a402c10042e9419c', 'department': 'Writing', 'job': 'Lyricist'}, {'adult': False, 'gender': 0, 'id': 3220399, 'known_for_department': 'Production', 'name': 'Vivek Krishnani', 'original_name': 'Vivek Krishnani', 'popularity': 0.6, 'profile_path': None, 'credit_id': '61d91f885ed8e9001d41c8bf', 'department': 'Production', 'job': 'Producer'}, {'adult': False, 'gender': 0, 'id': 3340143, 'known_for_department': 'Sound', 'name': 'Ronkini Gupta', 'original_name': 'Ronkini Gupta', 'popularity': 0.6, 'profile_path': None, 'credit_id': '61e53cff0cd32a0042fa6941', 'department': 'Sound', 'job': 'Playback Singer'}, {'adult': False, 'gender': 0, 'id': 3357290, 'known_for_department': 'Acting', 'name': 'Santanu Ghatak', 'original_name': 'Santanu Ghatak', 'popularity': 0.98, 'profile_path': None, 'credit_id': '61e53cdd7d2bc10041e8919a', 'department': 'Sound', 'job': 'Original Music Composer'}, {'adult': False, 'gender': 0, 'id': 3357290, 'known_for_department': 'Acting', 'name': 'Santanu Ghatak', 'original_name': 'Santanu Ghatak', 'popularity': 0.98, 'profile_path': None, 'credit_id': '61e53ceb2d93750041a5bbca', 'department': 'Writing', 'job': 'Lyricist'}, {'adult': False, 'gender': 0, 'id': 3373395, 'known_for_department': 'Writing', 'name': 'Ketan Pedgaonkar', 'original_name': 'Ketan Pedgaonkar', 'popularity': 0.98, 'profile_path': None, 'credit_id': '61d920363faba00041f7b438', 'department': 'Writing', 'job': 'Writer'}, {'adult': False, 'gender': 0, 'id': 3373396, 'known_for_department': 'Writing', 'name': 'Arnav Vepa Nanduri', 'original_name': 'Arnav Vepa Nanduri', 'popularity': 0.98, 'profile_path': None, 'credit_id': '61d9206097fdec0041035a24', 'department': 'Writing', 'job': 'Writer'}, {'adult': False, 'gender': 0, 'id': 3386264, 'known_for_department': 'Sound', 'name': 'Raghav Kaushik', 'original_name': 'Raghav Kaushik', 'popularity': 0.6, 'profile_path': None, 'credit_id': '61e53d0b6aa8e0008cc281c5', 'department': 'Sound', 'job': 'Playback Singer'}, {'adult': False, 'gender': 0, 'id': 3387728, 'known_for_department': 'Sound', 'name': 'Mayank Mehra', 'original_name': 'Mayank Mehra', 'popularity': 0.6, 'profile_path': None, 'credit_id': '61e68f746840cc0067eba773', 'department': 'Sound', 'job': 'Original Music Composer'}, {'adult': False, 'gender': 0, 'id': 3387729, 'known_for_department': 'Sound', 'name': 'Jay Anand', 'original_name': 'Jay Anand', 'popularity': 0.6, 'profile_path': None, 'credit_id': '61e68fb9f3b49a001c026418', 'department': 'Sound', 'job': 'Playback Singer'}, {'adult': False, 'gender': 0, 'id': 3387731, 'known_for_department': 'Sound', 'name': 'Harshal Vyas', 'original_name': 'Harshal Vyas', 'popularity': 0.98, 'profile_path': None, 'credit_id': '61e6900b07a8080067841de4', 'department': 'Sound', 'job': 'Playback Singer'}, {'adult': False, 'gender': 0, 'id': 3387732, 'known_for_department': 'Sound', 'name': 'Rahul Pais', 'original_name': 'Rahul Pais', 'popularity': 0.6, 'profile_path': None, 'credit_id': '61e69029b7abb50041006b2a', 'department': 'Sound', 'job': 'Original Music Composer'}, {'adult': False, 'gender': 0, 'id': 3387733, 'known_for_department': 'Sound', 'name': 'Nariman Khambata', 'original_name': 'Nariman Khambata', 'popularity': 0.6, 'profile_path': None, 'credit_id': '61e690362d93750041a91342', 'department': 'Sound', 'job': 'Original Music Composer'}, {'adult': False, 'gender': 0, 'id': 3412122, 'known_for_department': 'Production', 'name': 'Swati Iyer Chawla', 'original_name': 'Swati Iyer Chawla', 'popularity': 0.6, 'profile_path': None, 'credit_id': '61fce937ce997a006bbfd0f3', 'department': 'Production', 'job': 'Co-Producer'}, {'adult': False, 'gender': 0, 'id': 3412123, 'known_for_department': 'Production', 'name': 'Piya Sawhney', 'original_name': 'Piya Sawhney', 'popularity': 0.6, 'profile_path': None, 'credit_id': '61fce955bf0f6300a2e985ec', 'department': 'Production', 'job': 'Co-Producer'}, {'adult': False, 'gender': 0, 'id': 3865885, 'known_for_department': 'Sound', 'name': 'Shahbad Karan', 'original_name': 'Shahbad Karan', 'popularity': 0.6, 'profile_path': '/cBPJ5o4rTfe5IMuDbLty8BpXX1k.jpg', 'credit_id': '63f0ca37a6725400a3a2783a', 'department': 'Sound', 'job': 'Musician'}] <class 'str'>\n"
          ]
        }
      ]
    },
    {
      "cell_type": "code",
      "source": [
        "# we'll use the same regex pattern from the column cast since the format for the column crew is the same\n",
        "df['crew'] = df['crew'].apply(lambda x: \", \".join(re.findall(patt, x)))"
      ],
      "metadata": {
        "id": "g6kXVYrPy9sm"
      },
      "execution_count": null,
      "outputs": []
    },
    {
      "cell_type": "code",
      "source": [
        "# result\n",
        "df[['crew']].head()"
      ],
      "metadata": {
        "colab": {
          "base_uri": "https://localhost:8080/",
          "height": 206
        },
        "id": "Z1VO9EwozVIa",
        "outputId": "b365ef5b-48a8-4b00-e672-6bee0a04d4cc"
      },
      "execution_count": null,
      "outputs": [
        {
          "output_type": "execute_result",
          "data": {
            "text/plain": [
              "                                                crew\n",
              "0  Tom Tykwer, Mukesh Chhabra, Tanuj Garg, Siddha...\n",
              "1  Akshay Kumar, Karan Johar, Bunty Nagi, Hiroo J...\n",
              "2  Aditya Chopra, Siddharth Anand, Siddharth Anan...\n",
              "3  Dinesh Vijan, Raj Kumar Gupta, Ajay Singh, Man...\n",
              "4  Boman Irani, Kareena Kapoor Khan, Manish Malho..."
            ],
            "text/html": [
              "\n",
              "  <div id=\"df-7adc4a98-d412-4656-8296-14592d850718\">\n",
              "    <div class=\"colab-df-container\">\n",
              "      <div>\n",
              "<style scoped>\n",
              "    .dataframe tbody tr th:only-of-type {\n",
              "        vertical-align: middle;\n",
              "    }\n",
              "\n",
              "    .dataframe tbody tr th {\n",
              "        vertical-align: top;\n",
              "    }\n",
              "\n",
              "    .dataframe thead th {\n",
              "        text-align: right;\n",
              "    }\n",
              "</style>\n",
              "<table border=\"1\" class=\"dataframe\">\n",
              "  <thead>\n",
              "    <tr style=\"text-align: right;\">\n",
              "      <th></th>\n",
              "      <th>crew</th>\n",
              "    </tr>\n",
              "  </thead>\n",
              "  <tbody>\n",
              "    <tr>\n",
              "      <th>0</th>\n",
              "      <td>Tom Tykwer, Mukesh Chhabra, Tanuj Garg, Siddha...</td>\n",
              "    </tr>\n",
              "    <tr>\n",
              "      <th>1</th>\n",
              "      <td>Akshay Kumar, Karan Johar, Bunty Nagi, Hiroo J...</td>\n",
              "    </tr>\n",
              "    <tr>\n",
              "      <th>2</th>\n",
              "      <td>Aditya Chopra, Siddharth Anand, Siddharth Anan...</td>\n",
              "    </tr>\n",
              "    <tr>\n",
              "      <th>3</th>\n",
              "      <td>Dinesh Vijan, Raj Kumar Gupta, Ajay Singh, Man...</td>\n",
              "    </tr>\n",
              "    <tr>\n",
              "      <th>4</th>\n",
              "      <td>Boman Irani, Kareena Kapoor Khan, Manish Malho...</td>\n",
              "    </tr>\n",
              "  </tbody>\n",
              "</table>\n",
              "</div>\n",
              "      <button class=\"colab-df-convert\" onclick=\"convertToInteractive('df-7adc4a98-d412-4656-8296-14592d850718')\"\n",
              "              title=\"Convert this dataframe to an interactive table.\"\n",
              "              style=\"display:none;\">\n",
              "        \n",
              "  <svg xmlns=\"http://www.w3.org/2000/svg\" height=\"24px\"viewBox=\"0 0 24 24\"\n",
              "       width=\"24px\">\n",
              "    <path d=\"M0 0h24v24H0V0z\" fill=\"none\"/>\n",
              "    <path d=\"M18.56 5.44l.94 2.06.94-2.06 2.06-.94-2.06-.94-.94-2.06-.94 2.06-2.06.94zm-11 1L8.5 8.5l.94-2.06 2.06-.94-2.06-.94L8.5 2.5l-.94 2.06-2.06.94zm10 10l.94 2.06.94-2.06 2.06-.94-2.06-.94-.94-2.06-.94 2.06-2.06.94z\"/><path d=\"M17.41 7.96l-1.37-1.37c-.4-.4-.92-.59-1.43-.59-.52 0-1.04.2-1.43.59L10.3 9.45l-7.72 7.72c-.78.78-.78 2.05 0 2.83L4 21.41c.39.39.9.59 1.41.59.51 0 1.02-.2 1.41-.59l7.78-7.78 2.81-2.81c.8-.78.8-2.07 0-2.86zM5.41 20L4 18.59l7.72-7.72 1.47 1.35L5.41 20z\"/>\n",
              "  </svg>\n",
              "      </button>\n",
              "      \n",
              "  <style>\n",
              "    .colab-df-container {\n",
              "      display:flex;\n",
              "      flex-wrap:wrap;\n",
              "      gap: 12px;\n",
              "    }\n",
              "\n",
              "    .colab-df-convert {\n",
              "      background-color: #E8F0FE;\n",
              "      border: none;\n",
              "      border-radius: 50%;\n",
              "      cursor: pointer;\n",
              "      display: none;\n",
              "      fill: #1967D2;\n",
              "      height: 32px;\n",
              "      padding: 0 0 0 0;\n",
              "      width: 32px;\n",
              "    }\n",
              "\n",
              "    .colab-df-convert:hover {\n",
              "      background-color: #E2EBFA;\n",
              "      box-shadow: 0px 1px 2px rgba(60, 64, 67, 0.3), 0px 1px 3px 1px rgba(60, 64, 67, 0.15);\n",
              "      fill: #174EA6;\n",
              "    }\n",
              "\n",
              "    [theme=dark] .colab-df-convert {\n",
              "      background-color: #3B4455;\n",
              "      fill: #D2E3FC;\n",
              "    }\n",
              "\n",
              "    [theme=dark] .colab-df-convert:hover {\n",
              "      background-color: #434B5C;\n",
              "      box-shadow: 0px 1px 3px 1px rgba(0, 0, 0, 0.15);\n",
              "      filter: drop-shadow(0px 1px 2px rgba(0, 0, 0, 0.3));\n",
              "      fill: #FFFFFF;\n",
              "    }\n",
              "  </style>\n",
              "\n",
              "      <script>\n",
              "        const buttonEl =\n",
              "          document.querySelector('#df-7adc4a98-d412-4656-8296-14592d850718 button.colab-df-convert');\n",
              "        buttonEl.style.display =\n",
              "          google.colab.kernel.accessAllowed ? 'block' : 'none';\n",
              "\n",
              "        async function convertToInteractive(key) {\n",
              "          const element = document.querySelector('#df-7adc4a98-d412-4656-8296-14592d850718');\n",
              "          const dataTable =\n",
              "            await google.colab.kernel.invokeFunction('convertToInteractive',\n",
              "                                                     [key], {});\n",
              "          if (!dataTable) return;\n",
              "\n",
              "          const docLinkHtml = 'Like what you see? Visit the ' +\n",
              "            '<a target=\"_blank\" href=https://colab.research.google.com/notebooks/data_table.ipynb>data table notebook</a>'\n",
              "            + ' to learn more about interactive tables.';\n",
              "          element.innerHTML = '';\n",
              "          dataTable['output_type'] = 'display_data';\n",
              "          await google.colab.output.renderOutput(dataTable, element);\n",
              "          const docLink = document.createElement('div');\n",
              "          docLink.innerHTML = docLinkHtml;\n",
              "          element.appendChild(docLink);\n",
              "        }\n",
              "      </script>\n",
              "    </div>\n",
              "  </div>\n",
              "  "
            ]
          },
          "metadata": {},
          "execution_count": 75
        }
      ]
    },
    {
      "cell_type": "code",
      "source": [
        "# make sure there are no empty string value for columns keyword, crew, and cast\n",
        "empty_val = df[(df['keywords'] == '') | (df['crew'] == '') | (df['cast'] == '')].shape[0]\n",
        "print(f\"There are {empty_val} movies that have an empty value for either of the columns mentioned\")"
      ],
      "metadata": {
        "colab": {
          "base_uri": "https://localhost:8080/"
        },
        "id": "d3GBpfXTzgqj",
        "outputId": "5f017ff3-0e59-4875-9b96-f6ac89fa94dd"
      },
      "execution_count": null,
      "outputs": [
        {
          "output_type": "stream",
          "name": "stdout",
          "text": [
            "There are 5342 movies that have an empty value for either of the columns mentioned\n"
          ]
        }
      ]
    },
    {
      "cell_type": "markdown",
      "source": [
        "There are still empty values for these colummn. Let's replace those empty value with 'Not given'. We can do this by looping through each column and use `lambda` function to give a value"
      ],
      "metadata": {
        "id": "OhoVlhQA0sr-"
      }
    },
    {
      "cell_type": "code",
      "source": [
        "for col in ['keywords', 'crew', 'cast']:\n",
        "  df[col] = df[col].apply(lambda x: 'Not given' if x == '' else x)"
      ],
      "metadata": {
        "id": "mNntO7H90I6b"
      },
      "execution_count": null,
      "outputs": []
    },
    {
      "cell_type": "code",
      "source": [
        "# check the result\n",
        "empty_val = df[(df['keywords'] == '') | (df['crew'] == '') | (df['cast'] == '')].shape[0]\n",
        "print(f\"There are {empty_val} movies that have an empty value for either of the columns mentioned\")"
      ],
      "metadata": {
        "colab": {
          "base_uri": "https://localhost:8080/"
        },
        "id": "VvbtwWB01wka",
        "outputId": "c22d7c65-25b9-4dd8-8a4b-d713b16e19d1"
      },
      "execution_count": null,
      "outputs": [
        {
          "output_type": "stream",
          "name": "stdout",
          "text": [
            "There are 0 movies that have an empty value for either of the columns mentioned\n"
          ]
        }
      ]
    },
    {
      "cell_type": "markdown",
      "source": [
        "### Top 10 Most Popular Actor\n",
        "Their popularity is measured by the number of movies in which the person is a cast."
      ],
      "metadata": {
        "id": "Po9JB0cB2lN5"
      }
    },
    {
      "cell_type": "code",
      "source": [
        "cast_dic = {}\n",
        "for i in range(df.shape[0]):\n",
        "  for cast in df['cast'][i].split(', '):\n",
        "    temp = cast.strip()\n",
        "    if temp in cast_dic:\n",
        "      cast_dic[temp] += 1\n",
        "    else:\n",
        "      cast_dic[temp] = 1\n",
        "\n",
        "# create the data frame\n",
        "cast_df = pd.DataFrame(cast_dic, index=['count'])"
      ],
      "metadata": {
        "id": "_MVxeWS23ue7"
      },
      "execution_count": null,
      "outputs": []
    },
    {
      "cell_type": "code",
      "source": [
        "# transpose the cast data frame\n",
        "cast_df = cast_df.T\n",
        "cast_df.head()"
      ],
      "metadata": {
        "colab": {
          "base_uri": "https://localhost:8080/",
          "height": 206
        },
        "id": "OBZLC9G04g6p",
        "outputId": "a6e6905a-ac69-46b0-af95-5cafcc6e01c4"
      },
      "execution_count": null,
      "outputs": [
        {
          "output_type": "execute_result",
          "data": {
            "text/plain": [
              "                       count\n",
              "Taapsee Pannu             25\n",
              "Tahir Raj Bhasin           9\n",
              "Shreya Dhanwanthary        3\n",
              "Dibyendu Bhattacharya     15\n",
              "Rajendra Chawla            7"
            ],
            "text/html": [
              "\n",
              "  <div id=\"df-74476d6e-4146-401f-af46-782feef011c7\">\n",
              "    <div class=\"colab-df-container\">\n",
              "      <div>\n",
              "<style scoped>\n",
              "    .dataframe tbody tr th:only-of-type {\n",
              "        vertical-align: middle;\n",
              "    }\n",
              "\n",
              "    .dataframe tbody tr th {\n",
              "        vertical-align: top;\n",
              "    }\n",
              "\n",
              "    .dataframe thead th {\n",
              "        text-align: right;\n",
              "    }\n",
              "</style>\n",
              "<table border=\"1\" class=\"dataframe\">\n",
              "  <thead>\n",
              "    <tr style=\"text-align: right;\">\n",
              "      <th></th>\n",
              "      <th>count</th>\n",
              "    </tr>\n",
              "  </thead>\n",
              "  <tbody>\n",
              "    <tr>\n",
              "      <th>Taapsee Pannu</th>\n",
              "      <td>25</td>\n",
              "    </tr>\n",
              "    <tr>\n",
              "      <th>Tahir Raj Bhasin</th>\n",
              "      <td>9</td>\n",
              "    </tr>\n",
              "    <tr>\n",
              "      <th>Shreya Dhanwanthary</th>\n",
              "      <td>3</td>\n",
              "    </tr>\n",
              "    <tr>\n",
              "      <th>Dibyendu Bhattacharya</th>\n",
              "      <td>15</td>\n",
              "    </tr>\n",
              "    <tr>\n",
              "      <th>Rajendra Chawla</th>\n",
              "      <td>7</td>\n",
              "    </tr>\n",
              "  </tbody>\n",
              "</table>\n",
              "</div>\n",
              "      <button class=\"colab-df-convert\" onclick=\"convertToInteractive('df-74476d6e-4146-401f-af46-782feef011c7')\"\n",
              "              title=\"Convert this dataframe to an interactive table.\"\n",
              "              style=\"display:none;\">\n",
              "        \n",
              "  <svg xmlns=\"http://www.w3.org/2000/svg\" height=\"24px\"viewBox=\"0 0 24 24\"\n",
              "       width=\"24px\">\n",
              "    <path d=\"M0 0h24v24H0V0z\" fill=\"none\"/>\n",
              "    <path d=\"M18.56 5.44l.94 2.06.94-2.06 2.06-.94-2.06-.94-.94-2.06-.94 2.06-2.06.94zm-11 1L8.5 8.5l.94-2.06 2.06-.94-2.06-.94L8.5 2.5l-.94 2.06-2.06.94zm10 10l.94 2.06.94-2.06 2.06-.94-2.06-.94-.94-2.06-.94 2.06-2.06.94z\"/><path d=\"M17.41 7.96l-1.37-1.37c-.4-.4-.92-.59-1.43-.59-.52 0-1.04.2-1.43.59L10.3 9.45l-7.72 7.72c-.78.78-.78 2.05 0 2.83L4 21.41c.39.39.9.59 1.41.59.51 0 1.02-.2 1.41-.59l7.78-7.78 2.81-2.81c.8-.78.8-2.07 0-2.86zM5.41 20L4 18.59l7.72-7.72 1.47 1.35L5.41 20z\"/>\n",
              "  </svg>\n",
              "      </button>\n",
              "      \n",
              "  <style>\n",
              "    .colab-df-container {\n",
              "      display:flex;\n",
              "      flex-wrap:wrap;\n",
              "      gap: 12px;\n",
              "    }\n",
              "\n",
              "    .colab-df-convert {\n",
              "      background-color: #E8F0FE;\n",
              "      border: none;\n",
              "      border-radius: 50%;\n",
              "      cursor: pointer;\n",
              "      display: none;\n",
              "      fill: #1967D2;\n",
              "      height: 32px;\n",
              "      padding: 0 0 0 0;\n",
              "      width: 32px;\n",
              "    }\n",
              "\n",
              "    .colab-df-convert:hover {\n",
              "      background-color: #E2EBFA;\n",
              "      box-shadow: 0px 1px 2px rgba(60, 64, 67, 0.3), 0px 1px 3px 1px rgba(60, 64, 67, 0.15);\n",
              "      fill: #174EA6;\n",
              "    }\n",
              "\n",
              "    [theme=dark] .colab-df-convert {\n",
              "      background-color: #3B4455;\n",
              "      fill: #D2E3FC;\n",
              "    }\n",
              "\n",
              "    [theme=dark] .colab-df-convert:hover {\n",
              "      background-color: #434B5C;\n",
              "      box-shadow: 0px 1px 3px 1px rgba(0, 0, 0, 0.15);\n",
              "      filter: drop-shadow(0px 1px 2px rgba(0, 0, 0, 0.3));\n",
              "      fill: #FFFFFF;\n",
              "    }\n",
              "  </style>\n",
              "\n",
              "      <script>\n",
              "        const buttonEl =\n",
              "          document.querySelector('#df-74476d6e-4146-401f-af46-782feef011c7 button.colab-df-convert');\n",
              "        buttonEl.style.display =\n",
              "          google.colab.kernel.accessAllowed ? 'block' : 'none';\n",
              "\n",
              "        async function convertToInteractive(key) {\n",
              "          const element = document.querySelector('#df-74476d6e-4146-401f-af46-782feef011c7');\n",
              "          const dataTable =\n",
              "            await google.colab.kernel.invokeFunction('convertToInteractive',\n",
              "                                                     [key], {});\n",
              "          if (!dataTable) return;\n",
              "\n",
              "          const docLinkHtml = 'Like what you see? Visit the ' +\n",
              "            '<a target=\"_blank\" href=https://colab.research.google.com/notebooks/data_table.ipynb>data table notebook</a>'\n",
              "            + ' to learn more about interactive tables.';\n",
              "          element.innerHTML = '';\n",
              "          dataTable['output_type'] = 'display_data';\n",
              "          await google.colab.output.renderOutput(dataTable, element);\n",
              "          const docLink = document.createElement('div');\n",
              "          docLink.innerHTML = docLinkHtml;\n",
              "          element.appendChild(docLink);\n",
              "        }\n",
              "      </script>\n",
              "    </div>\n",
              "  </div>\n",
              "  "
            ]
          },
          "metadata": {},
          "execution_count": 91
        }
      ]
    },
    {
      "cell_type": "code",
      "source": [
        "# check the number of cast\n",
        "print(f\"The number of cast found is {cast_df.shape[0]}\")"
      ],
      "metadata": {
        "colab": {
          "base_uri": "https://localhost:8080/"
        },
        "id": "htuIyrlT6Yzn",
        "outputId": "bba2e936-3e43-403b-bfa4-f0018ac80761"
      },
      "execution_count": null,
      "outputs": [
        {
          "output_type": "stream",
          "name": "stdout",
          "text": [
            "The number of cast found is 164276\n"
          ]
        }
      ]
    },
    {
      "cell_type": "code",
      "source": [
        "# top 10 actor\n",
        "cast_df.sort_values(by = 'count', ascending=False).head(10)"
      ],
      "metadata": {
        "colab": {
          "base_uri": "https://localhost:8080/",
          "height": 363
        },
        "id": "DER2CwPK67US",
        "outputId": "52ab2149-fca3-4ccf-b730-50cddc8fcdf2"
      },
      "execution_count": null,
      "outputs": [
        {
          "output_type": "execute_result",
          "data": {
            "text/plain": [
              "                    count\n",
              "Not given             545\n",
              "Shakti Kapoor         307\n",
              "Anupam Kher           256\n",
              "Kader Khan            224\n",
              "Gulshan Grover        223\n",
              "Asrani                223\n",
              "Aruna Irani           211\n",
              "Mithun Chakraborty    207\n",
              "Prem Chopra           206\n",
              "Amitabh Bachchan      199"
            ],
            "text/html": [
              "\n",
              "  <div id=\"df-6f58e3aa-60b2-47f2-af93-c0d78a648867\">\n",
              "    <div class=\"colab-df-container\">\n",
              "      <div>\n",
              "<style scoped>\n",
              "    .dataframe tbody tr th:only-of-type {\n",
              "        vertical-align: middle;\n",
              "    }\n",
              "\n",
              "    .dataframe tbody tr th {\n",
              "        vertical-align: top;\n",
              "    }\n",
              "\n",
              "    .dataframe thead th {\n",
              "        text-align: right;\n",
              "    }\n",
              "</style>\n",
              "<table border=\"1\" class=\"dataframe\">\n",
              "  <thead>\n",
              "    <tr style=\"text-align: right;\">\n",
              "      <th></th>\n",
              "      <th>count</th>\n",
              "    </tr>\n",
              "  </thead>\n",
              "  <tbody>\n",
              "    <tr>\n",
              "      <th>Not given</th>\n",
              "      <td>545</td>\n",
              "    </tr>\n",
              "    <tr>\n",
              "      <th>Shakti Kapoor</th>\n",
              "      <td>307</td>\n",
              "    </tr>\n",
              "    <tr>\n",
              "      <th>Anupam Kher</th>\n",
              "      <td>256</td>\n",
              "    </tr>\n",
              "    <tr>\n",
              "      <th>Kader Khan</th>\n",
              "      <td>224</td>\n",
              "    </tr>\n",
              "    <tr>\n",
              "      <th>Gulshan Grover</th>\n",
              "      <td>223</td>\n",
              "    </tr>\n",
              "    <tr>\n",
              "      <th>Asrani</th>\n",
              "      <td>223</td>\n",
              "    </tr>\n",
              "    <tr>\n",
              "      <th>Aruna Irani</th>\n",
              "      <td>211</td>\n",
              "    </tr>\n",
              "    <tr>\n",
              "      <th>Mithun Chakraborty</th>\n",
              "      <td>207</td>\n",
              "    </tr>\n",
              "    <tr>\n",
              "      <th>Prem Chopra</th>\n",
              "      <td>206</td>\n",
              "    </tr>\n",
              "    <tr>\n",
              "      <th>Amitabh Bachchan</th>\n",
              "      <td>199</td>\n",
              "    </tr>\n",
              "  </tbody>\n",
              "</table>\n",
              "</div>\n",
              "      <button class=\"colab-df-convert\" onclick=\"convertToInteractive('df-6f58e3aa-60b2-47f2-af93-c0d78a648867')\"\n",
              "              title=\"Convert this dataframe to an interactive table.\"\n",
              "              style=\"display:none;\">\n",
              "        \n",
              "  <svg xmlns=\"http://www.w3.org/2000/svg\" height=\"24px\"viewBox=\"0 0 24 24\"\n",
              "       width=\"24px\">\n",
              "    <path d=\"M0 0h24v24H0V0z\" fill=\"none\"/>\n",
              "    <path d=\"M18.56 5.44l.94 2.06.94-2.06 2.06-.94-2.06-.94-.94-2.06-.94 2.06-2.06.94zm-11 1L8.5 8.5l.94-2.06 2.06-.94-2.06-.94L8.5 2.5l-.94 2.06-2.06.94zm10 10l.94 2.06.94-2.06 2.06-.94-2.06-.94-.94-2.06-.94 2.06-2.06.94z\"/><path d=\"M17.41 7.96l-1.37-1.37c-.4-.4-.92-.59-1.43-.59-.52 0-1.04.2-1.43.59L10.3 9.45l-7.72 7.72c-.78.78-.78 2.05 0 2.83L4 21.41c.39.39.9.59 1.41.59.51 0 1.02-.2 1.41-.59l7.78-7.78 2.81-2.81c.8-.78.8-2.07 0-2.86zM5.41 20L4 18.59l7.72-7.72 1.47 1.35L5.41 20z\"/>\n",
              "  </svg>\n",
              "      </button>\n",
              "      \n",
              "  <style>\n",
              "    .colab-df-container {\n",
              "      display:flex;\n",
              "      flex-wrap:wrap;\n",
              "      gap: 12px;\n",
              "    }\n",
              "\n",
              "    .colab-df-convert {\n",
              "      background-color: #E8F0FE;\n",
              "      border: none;\n",
              "      border-radius: 50%;\n",
              "      cursor: pointer;\n",
              "      display: none;\n",
              "      fill: #1967D2;\n",
              "      height: 32px;\n",
              "      padding: 0 0 0 0;\n",
              "      width: 32px;\n",
              "    }\n",
              "\n",
              "    .colab-df-convert:hover {\n",
              "      background-color: #E2EBFA;\n",
              "      box-shadow: 0px 1px 2px rgba(60, 64, 67, 0.3), 0px 1px 3px 1px rgba(60, 64, 67, 0.15);\n",
              "      fill: #174EA6;\n",
              "    }\n",
              "\n",
              "    [theme=dark] .colab-df-convert {\n",
              "      background-color: #3B4455;\n",
              "      fill: #D2E3FC;\n",
              "    }\n",
              "\n",
              "    [theme=dark] .colab-df-convert:hover {\n",
              "      background-color: #434B5C;\n",
              "      box-shadow: 0px 1px 3px 1px rgba(0, 0, 0, 0.15);\n",
              "      filter: drop-shadow(0px 1px 2px rgba(0, 0, 0, 0.3));\n",
              "      fill: #FFFFFF;\n",
              "    }\n",
              "  </style>\n",
              "\n",
              "      <script>\n",
              "        const buttonEl =\n",
              "          document.querySelector('#df-6f58e3aa-60b2-47f2-af93-c0d78a648867 button.colab-df-convert');\n",
              "        buttonEl.style.display =\n",
              "          google.colab.kernel.accessAllowed ? 'block' : 'none';\n",
              "\n",
              "        async function convertToInteractive(key) {\n",
              "          const element = document.querySelector('#df-6f58e3aa-60b2-47f2-af93-c0d78a648867');\n",
              "          const dataTable =\n",
              "            await google.colab.kernel.invokeFunction('convertToInteractive',\n",
              "                                                     [key], {});\n",
              "          if (!dataTable) return;\n",
              "\n",
              "          const docLinkHtml = 'Like what you see? Visit the ' +\n",
              "            '<a target=\"_blank\" href=https://colab.research.google.com/notebooks/data_table.ipynb>data table notebook</a>'\n",
              "            + ' to learn more about interactive tables.';\n",
              "          element.innerHTML = '';\n",
              "          dataTable['output_type'] = 'display_data';\n",
              "          await google.colab.output.renderOutput(dataTable, element);\n",
              "          const docLink = document.createElement('div');\n",
              "          docLink.innerHTML = docLinkHtml;\n",
              "          element.appendChild(docLink);\n",
              "        }\n",
              "      </script>\n",
              "    </div>\n",
              "  </div>\n",
              "  "
            ]
          },
          "metadata": {},
          "execution_count": 95
        }
      ]
    },
    {
      "cell_type": "markdown",
      "source": [
        "I guess, this is more like Top 9 Most Popular Actor since 'Not given' is not counted. If you wanna find the 10 most popular actor, just change the `.head(10)` to `.head(11)` and exclude the 'Not given' actor."
      ],
      "metadata": {
        "id": "Pqt2s_Op702a"
      }
    },
    {
      "cell_type": "markdown",
      "source": [
        "### Overview Before and After Cleaning"
      ],
      "metadata": {
        "id": "TCgwiQP0-UVj"
      }
    },
    {
      "cell_type": "code",
      "source": [
        "before_cleaning = pd.read_csv('movie_data.csv', lineterminator='\\n')\n",
        "after_cleaning = df"
      ],
      "metadata": {
        "id": "NxCsD7q810EB"
      },
      "execution_count": null,
      "outputs": []
    },
    {
      "cell_type": "code",
      "source": [
        "# before cleaning\n",
        "before_cleaning.head()"
      ],
      "metadata": {
        "colab": {
          "base_uri": "https://localhost:8080/",
          "height": 722
        },
        "id": "QDBCOra119JU",
        "outputId": "8f77a68d-8925-482a-f654-743c23ef0d66"
      },
      "execution_count": null,
      "outputs": [
        {
          "output_type": "execute_result",
          "data": {
            "text/plain": [
              "   Unnamed: 0  adult                     backdrop_path  movie_id  \\\n",
              "0           0  False  /kQM7o3NIkruIZLoQ9E2XzZQ8Ujl.jpg    783461   \n",
              "1           1  False  /7w06baRS9VPm5RYz8lawTCLiR4j.jpg    592508   \n",
              "2           2  False  /sP9mRWiCxCuy17tUJfV8TpSZpqc.jpg    864692   \n",
              "3           3  False  /vBmmJYv5asJpdJZsyPPc4MMpfBe.jpg   1018228   \n",
              "4           4  False  /u7kuUaySqXBVAtqEl9vkTkAzHV9.jpg     20453   \n",
              "\n",
              "  original_language    original_title  \\\n",
              "0                hi         लूप लपेटा   \n",
              "1                hi      Sooryavanshi   \n",
              "2                hi              पठान   \n",
              "3                hi  चोर निकल के भागा   \n",
              "4                hi          3 Idiots   \n",
              "\n",
              "                                            overview  popularity  \\\n",
              "0  When her boyfriend loses a mobster's cash, Sav...      56.311   \n",
              "1  A fearless, faithful albeit slightly forgetful...      45.077   \n",
              "2  A soldier caught by enemies and presumed dead ...      47.611   \n",
              "3  A flight attendant and her boyfriend must stea...      43.789   \n",
              "4  Rascal. Joker. Dreamer. Genius... You've never...      37.260   \n",
              "\n",
              "                        poster_path release_date                title  video  \\\n",
              "0  /onGdT8sYi89drvSJyEJnft97rOq.jpg   2022-02-04         Looop Lapeta  False   \n",
              "1  /8p3mhjyLjHKtaAv8tFKfvEBtir0.jpg   2021-11-05         Sooryavanshi  False   \n",
              "2  /m1b9toKYyCujHuLoXB5GSDunO9e.jpg   2023-01-25              Pathaan  False   \n",
              "3  /1MIDERaEUMw1rYDM99tGZPY80Ap.jpg   2023-03-24  Chor Nikal Ke Bhaga  False   \n",
              "4  /66A9MqXOyVFCssoloscw79z8Tew.jpg   2009-12-25             3 Idiots  False   \n",
              "\n",
              "   vote_average  vote_count  \\\n",
              "0           6.2          54   \n",
              "1           5.8         133   \n",
              "2           6.7          70   \n",
              "3           7.2          55   \n",
              "4           8.0        2052   \n",
              "\n",
              "                                              genres  \\\n",
              "0  [{'id': 28, 'name': 'Action'}, {'id': 35, 'nam...   \n",
              "1  [{'id': 28, 'name': 'Action'}, {'id': 80, 'nam...   \n",
              "2  [{'id': 28, 'name': 'Action'}, {'id': 12, 'nam...   \n",
              "3  [{'id': 80, 'name': 'Crime'}, {'id': 53, 'name...   \n",
              "4  [{'id': 18, 'name': 'Drama'}, {'id': 35, 'name...   \n",
              "\n",
              "                                            keywords  \\\n",
              "0          ['remake', 'looop lapeta', 'saade saati']   \n",
              "1  ['police', 'sequel', 'police officer', 'cop un...   \n",
              "2  ['spy', 'fake death', 'spy thriller', 'spy uni...   \n",
              "3                    ['heist', 'airplane hijacking']   \n",
              "4  ['suicide', 'suicide attempt', 'college', 'mus...   \n",
              "\n",
              "                                                cast  \\\n",
              "0  [{'adult': False, 'gender': 1, 'id': 550167, '...   \n",
              "1  [{'adult': False, 'gender': 2, 'id': 35070, 'k...   \n",
              "2  [{'adult': False, 'gender': 2, 'id': 35742, 'k...   \n",
              "3  [{'adult': False, 'gender': 1, 'id': 1115720, ...   \n",
              "4  [{'adult': False, 'gender': 2, 'id': 52763, 'k...   \n",
              "\n",
              "                                                crew  \n",
              "0  [{'adult': False, 'gender': 2, 'id': 1071, 'kn...  \n",
              "1  [{'adult': False, 'gender': 2, 'id': 35070, 'k...  \n",
              "2  [{'adult': False, 'gender': 2, 'id': 35771, 'k...  \n",
              "3  [{'adult': False, 'gender': 2, 'id': 102246, '...  \n",
              "4  [{'adult': False, 'gender': 2, 'id': 35779, 'k...  "
            ],
            "text/html": [
              "\n",
              "  <div id=\"df-8830d5b3-acff-4fe7-9b61-c6c97336fb0a\">\n",
              "    <div class=\"colab-df-container\">\n",
              "      <div>\n",
              "<style scoped>\n",
              "    .dataframe tbody tr th:only-of-type {\n",
              "        vertical-align: middle;\n",
              "    }\n",
              "\n",
              "    .dataframe tbody tr th {\n",
              "        vertical-align: top;\n",
              "    }\n",
              "\n",
              "    .dataframe thead th {\n",
              "        text-align: right;\n",
              "    }\n",
              "</style>\n",
              "<table border=\"1\" class=\"dataframe\">\n",
              "  <thead>\n",
              "    <tr style=\"text-align: right;\">\n",
              "      <th></th>\n",
              "      <th>Unnamed: 0</th>\n",
              "      <th>adult</th>\n",
              "      <th>backdrop_path</th>\n",
              "      <th>movie_id</th>\n",
              "      <th>original_language</th>\n",
              "      <th>original_title</th>\n",
              "      <th>overview</th>\n",
              "      <th>popularity</th>\n",
              "      <th>poster_path</th>\n",
              "      <th>release_date</th>\n",
              "      <th>title</th>\n",
              "      <th>video</th>\n",
              "      <th>vote_average</th>\n",
              "      <th>vote_count</th>\n",
              "      <th>genres</th>\n",
              "      <th>keywords</th>\n",
              "      <th>cast</th>\n",
              "      <th>crew</th>\n",
              "    </tr>\n",
              "  </thead>\n",
              "  <tbody>\n",
              "    <tr>\n",
              "      <th>0</th>\n",
              "      <td>0</td>\n",
              "      <td>False</td>\n",
              "      <td>/kQM7o3NIkruIZLoQ9E2XzZQ8Ujl.jpg</td>\n",
              "      <td>783461</td>\n",
              "      <td>hi</td>\n",
              "      <td>लूप लपेटा</td>\n",
              "      <td>When her boyfriend loses a mobster's cash, Sav...</td>\n",
              "      <td>56.311</td>\n",
              "      <td>/onGdT8sYi89drvSJyEJnft97rOq.jpg</td>\n",
              "      <td>2022-02-04</td>\n",
              "      <td>Looop Lapeta</td>\n",
              "      <td>False</td>\n",
              "      <td>6.2</td>\n",
              "      <td>54</td>\n",
              "      <td>[{'id': 28, 'name': 'Action'}, {'id': 35, 'nam...</td>\n",
              "      <td>['remake', 'looop lapeta', 'saade saati']</td>\n",
              "      <td>[{'adult': False, 'gender': 1, 'id': 550167, '...</td>\n",
              "      <td>[{'adult': False, 'gender': 2, 'id': 1071, 'kn...</td>\n",
              "    </tr>\n",
              "    <tr>\n",
              "      <th>1</th>\n",
              "      <td>1</td>\n",
              "      <td>False</td>\n",
              "      <td>/7w06baRS9VPm5RYz8lawTCLiR4j.jpg</td>\n",
              "      <td>592508</td>\n",
              "      <td>hi</td>\n",
              "      <td>Sooryavanshi</td>\n",
              "      <td>A fearless, faithful albeit slightly forgetful...</td>\n",
              "      <td>45.077</td>\n",
              "      <td>/8p3mhjyLjHKtaAv8tFKfvEBtir0.jpg</td>\n",
              "      <td>2021-11-05</td>\n",
              "      <td>Sooryavanshi</td>\n",
              "      <td>False</td>\n",
              "      <td>5.8</td>\n",
              "      <td>133</td>\n",
              "      <td>[{'id': 28, 'name': 'Action'}, {'id': 80, 'nam...</td>\n",
              "      <td>['police', 'sequel', 'police officer', 'cop un...</td>\n",
              "      <td>[{'adult': False, 'gender': 2, 'id': 35070, 'k...</td>\n",
              "      <td>[{'adult': False, 'gender': 2, 'id': 35070, 'k...</td>\n",
              "    </tr>\n",
              "    <tr>\n",
              "      <th>2</th>\n",
              "      <td>2</td>\n",
              "      <td>False</td>\n",
              "      <td>/sP9mRWiCxCuy17tUJfV8TpSZpqc.jpg</td>\n",
              "      <td>864692</td>\n",
              "      <td>hi</td>\n",
              "      <td>पठान</td>\n",
              "      <td>A soldier caught by enemies and presumed dead ...</td>\n",
              "      <td>47.611</td>\n",
              "      <td>/m1b9toKYyCujHuLoXB5GSDunO9e.jpg</td>\n",
              "      <td>2023-01-25</td>\n",
              "      <td>Pathaan</td>\n",
              "      <td>False</td>\n",
              "      <td>6.7</td>\n",
              "      <td>70</td>\n",
              "      <td>[{'id': 28, 'name': 'Action'}, {'id': 12, 'nam...</td>\n",
              "      <td>['spy', 'fake death', 'spy thriller', 'spy uni...</td>\n",
              "      <td>[{'adult': False, 'gender': 2, 'id': 35742, 'k...</td>\n",
              "      <td>[{'adult': False, 'gender': 2, 'id': 35771, 'k...</td>\n",
              "    </tr>\n",
              "    <tr>\n",
              "      <th>3</th>\n",
              "      <td>3</td>\n",
              "      <td>False</td>\n",
              "      <td>/vBmmJYv5asJpdJZsyPPc4MMpfBe.jpg</td>\n",
              "      <td>1018228</td>\n",
              "      <td>hi</td>\n",
              "      <td>चोर निकल के भागा</td>\n",
              "      <td>A flight attendant and her boyfriend must stea...</td>\n",
              "      <td>43.789</td>\n",
              "      <td>/1MIDERaEUMw1rYDM99tGZPY80Ap.jpg</td>\n",
              "      <td>2023-03-24</td>\n",
              "      <td>Chor Nikal Ke Bhaga</td>\n",
              "      <td>False</td>\n",
              "      <td>7.2</td>\n",
              "      <td>55</td>\n",
              "      <td>[{'id': 80, 'name': 'Crime'}, {'id': 53, 'name...</td>\n",
              "      <td>['heist', 'airplane hijacking']</td>\n",
              "      <td>[{'adult': False, 'gender': 1, 'id': 1115720, ...</td>\n",
              "      <td>[{'adult': False, 'gender': 2, 'id': 102246, '...</td>\n",
              "    </tr>\n",
              "    <tr>\n",
              "      <th>4</th>\n",
              "      <td>4</td>\n",
              "      <td>False</td>\n",
              "      <td>/u7kuUaySqXBVAtqEl9vkTkAzHV9.jpg</td>\n",
              "      <td>20453</td>\n",
              "      <td>hi</td>\n",
              "      <td>3 Idiots</td>\n",
              "      <td>Rascal. Joker. Dreamer. Genius... You've never...</td>\n",
              "      <td>37.260</td>\n",
              "      <td>/66A9MqXOyVFCssoloscw79z8Tew.jpg</td>\n",
              "      <td>2009-12-25</td>\n",
              "      <td>3 Idiots</td>\n",
              "      <td>False</td>\n",
              "      <td>8.0</td>\n",
              "      <td>2052</td>\n",
              "      <td>[{'id': 18, 'name': 'Drama'}, {'id': 35, 'name...</td>\n",
              "      <td>['suicide', 'suicide attempt', 'college', 'mus...</td>\n",
              "      <td>[{'adult': False, 'gender': 2, 'id': 52763, 'k...</td>\n",
              "      <td>[{'adult': False, 'gender': 2, 'id': 35779, 'k...</td>\n",
              "    </tr>\n",
              "  </tbody>\n",
              "</table>\n",
              "</div>\n",
              "      <button class=\"colab-df-convert\" onclick=\"convertToInteractive('df-8830d5b3-acff-4fe7-9b61-c6c97336fb0a')\"\n",
              "              title=\"Convert this dataframe to an interactive table.\"\n",
              "              style=\"display:none;\">\n",
              "        \n",
              "  <svg xmlns=\"http://www.w3.org/2000/svg\" height=\"24px\"viewBox=\"0 0 24 24\"\n",
              "       width=\"24px\">\n",
              "    <path d=\"M0 0h24v24H0V0z\" fill=\"none\"/>\n",
              "    <path d=\"M18.56 5.44l.94 2.06.94-2.06 2.06-.94-2.06-.94-.94-2.06-.94 2.06-2.06.94zm-11 1L8.5 8.5l.94-2.06 2.06-.94-2.06-.94L8.5 2.5l-.94 2.06-2.06.94zm10 10l.94 2.06.94-2.06 2.06-.94-2.06-.94-.94-2.06-.94 2.06-2.06.94z\"/><path d=\"M17.41 7.96l-1.37-1.37c-.4-.4-.92-.59-1.43-.59-.52 0-1.04.2-1.43.59L10.3 9.45l-7.72 7.72c-.78.78-.78 2.05 0 2.83L4 21.41c.39.39.9.59 1.41.59.51 0 1.02-.2 1.41-.59l7.78-7.78 2.81-2.81c.8-.78.8-2.07 0-2.86zM5.41 20L4 18.59l7.72-7.72 1.47 1.35L5.41 20z\"/>\n",
              "  </svg>\n",
              "      </button>\n",
              "      \n",
              "  <style>\n",
              "    .colab-df-container {\n",
              "      display:flex;\n",
              "      flex-wrap:wrap;\n",
              "      gap: 12px;\n",
              "    }\n",
              "\n",
              "    .colab-df-convert {\n",
              "      background-color: #E8F0FE;\n",
              "      border: none;\n",
              "      border-radius: 50%;\n",
              "      cursor: pointer;\n",
              "      display: none;\n",
              "      fill: #1967D2;\n",
              "      height: 32px;\n",
              "      padding: 0 0 0 0;\n",
              "      width: 32px;\n",
              "    }\n",
              "\n",
              "    .colab-df-convert:hover {\n",
              "      background-color: #E2EBFA;\n",
              "      box-shadow: 0px 1px 2px rgba(60, 64, 67, 0.3), 0px 1px 3px 1px rgba(60, 64, 67, 0.15);\n",
              "      fill: #174EA6;\n",
              "    }\n",
              "\n",
              "    [theme=dark] .colab-df-convert {\n",
              "      background-color: #3B4455;\n",
              "      fill: #D2E3FC;\n",
              "    }\n",
              "\n",
              "    [theme=dark] .colab-df-convert:hover {\n",
              "      background-color: #434B5C;\n",
              "      box-shadow: 0px 1px 3px 1px rgba(0, 0, 0, 0.15);\n",
              "      filter: drop-shadow(0px 1px 2px rgba(0, 0, 0, 0.3));\n",
              "      fill: #FFFFFF;\n",
              "    }\n",
              "  </style>\n",
              "\n",
              "      <script>\n",
              "        const buttonEl =\n",
              "          document.querySelector('#df-8830d5b3-acff-4fe7-9b61-c6c97336fb0a button.colab-df-convert');\n",
              "        buttonEl.style.display =\n",
              "          google.colab.kernel.accessAllowed ? 'block' : 'none';\n",
              "\n",
              "        async function convertToInteractive(key) {\n",
              "          const element = document.querySelector('#df-8830d5b3-acff-4fe7-9b61-c6c97336fb0a');\n",
              "          const dataTable =\n",
              "            await google.colab.kernel.invokeFunction('convertToInteractive',\n",
              "                                                     [key], {});\n",
              "          if (!dataTable) return;\n",
              "\n",
              "          const docLinkHtml = 'Like what you see? Visit the ' +\n",
              "            '<a target=\"_blank\" href=https://colab.research.google.com/notebooks/data_table.ipynb>data table notebook</a>'\n",
              "            + ' to learn more about interactive tables.';\n",
              "          element.innerHTML = '';\n",
              "          dataTable['output_type'] = 'display_data';\n",
              "          await google.colab.output.renderOutput(dataTable, element);\n",
              "          const docLink = document.createElement('div');\n",
              "          docLink.innerHTML = docLinkHtml;\n",
              "          element.appendChild(docLink);\n",
              "        }\n",
              "      </script>\n",
              "    </div>\n",
              "  </div>\n",
              "  "
            ]
          },
          "metadata": {},
          "execution_count": 97
        }
      ]
    },
    {
      "cell_type": "code",
      "source": [
        "# after cleaning\n",
        "after_cleaning.head()"
      ],
      "metadata": {
        "colab": {
          "base_uri": "https://localhost:8080/",
          "height": 791
        },
        "id": "wCOxnnz__3Dl",
        "outputId": "f9b73edc-d974-4a5d-9ffb-9c47da033835"
      },
      "execution_count": null,
      "outputs": [
        {
          "output_type": "execute_result",
          "data": {
            "text/plain": [
              "   adult  movie_id original_language    original_title  \\\n",
              "0  False    783461                hi         लूप लपेटा   \n",
              "1  False    592508                hi      Sooryavanshi   \n",
              "2  False    864692                hi              पठान   \n",
              "3  False   1018228                hi  चोर निकल के भागा   \n",
              "4  False     20453                hi          3 Idiots   \n",
              "\n",
              "                                            overview  popularity release_date  \\\n",
              "0  When her boyfriend loses a mobster's cash, Sav...      56.311   2022-02-04   \n",
              "1  A fearless, faithful albeit slightly forgetful...      45.077   2021-11-05   \n",
              "2  A soldier caught by enemies and presumed dead ...      47.611   2023-01-25   \n",
              "3  A flight attendant and her boyfriend must stea...      43.789   2023-03-24   \n",
              "4  Rascal. Joker. Dreamer. Genius... You've never...      37.260   2009-12-25   \n",
              "\n",
              "                 title  video  vote_average  vote_count  \\\n",
              "0         Looop Lapeta  False           6.2          54   \n",
              "1         Sooryavanshi  False           5.8         133   \n",
              "2              Pathaan  False           6.7          70   \n",
              "3  Chor Nikal Ke Bhaga  False           7.2          55   \n",
              "4             3 Idiots  False           8.0        2052   \n",
              "\n",
              "                        genres  \\\n",
              "0        Action, Comedy, Crime   \n",
              "1      Action, Crime, Thriller   \n",
              "2  Action, Adventure, Thriller   \n",
              "3              Crime, Thriller   \n",
              "4                Drama, Comedy   \n",
              "\n",
              "                                            keywords  \\\n",
              "0                  remake, looop lapeta, saade saati   \n",
              "1       police, sequel, police officer, cop universe   \n",
              "2  spy, fake death, spy thriller, spy universe, y...   \n",
              "3                          heist, airplane hijacking   \n",
              "4  suicide, suicide attempt, college, musical, sl...   \n",
              "\n",
              "                                                cast  \\\n",
              "0  Taapsee Pannu, Tahir Raj Bhasin, Shreya Dhanwa...   \n",
              "1  Akshay Kumar, Katrina Kaif, Ajay Devgn, Ranvee...   \n",
              "2  Shah Rukh Khan, Deepika Padukone, John Abraham...   \n",
              "3  Yami Gautam, Sunny Kaushal, Sharad Kelkar, Ind...   \n",
              "4  Aamir Khan, Sharman Joshi, Kareena Kapoor Khan...   \n",
              "\n",
              "                                                crew  year     month  \\\n",
              "0  Tom Tykwer, Mukesh Chhabra, Tanuj Garg, Siddha...  2022  February   \n",
              "1  Akshay Kumar, Karan Johar, Bunty Nagi, Hiroo J...  2021  November   \n",
              "2  Aditya Chopra, Siddharth Anand, Siddharth Anan...  2023   January   \n",
              "3  Dinesh Vijan, Raj Kumar Gupta, Ajay Singh, Man...  2023     March   \n",
              "4  Boman Irani, Kareena Kapoor Khan, Manish Malho...  2009  December   \n",
              "\n",
              "         day  \n",
              "0     Friday  \n",
              "1     Friday  \n",
              "2  Wednesday  \n",
              "3     Friday  \n",
              "4     Friday  "
            ],
            "text/html": [
              "\n",
              "  <div id=\"df-96e22836-48b1-4526-888e-70cd2976b87f\">\n",
              "    <div class=\"colab-df-container\">\n",
              "      <div>\n",
              "<style scoped>\n",
              "    .dataframe tbody tr th:only-of-type {\n",
              "        vertical-align: middle;\n",
              "    }\n",
              "\n",
              "    .dataframe tbody tr th {\n",
              "        vertical-align: top;\n",
              "    }\n",
              "\n",
              "    .dataframe thead th {\n",
              "        text-align: right;\n",
              "    }\n",
              "</style>\n",
              "<table border=\"1\" class=\"dataframe\">\n",
              "  <thead>\n",
              "    <tr style=\"text-align: right;\">\n",
              "      <th></th>\n",
              "      <th>adult</th>\n",
              "      <th>movie_id</th>\n",
              "      <th>original_language</th>\n",
              "      <th>original_title</th>\n",
              "      <th>overview</th>\n",
              "      <th>popularity</th>\n",
              "      <th>release_date</th>\n",
              "      <th>title</th>\n",
              "      <th>video</th>\n",
              "      <th>vote_average</th>\n",
              "      <th>vote_count</th>\n",
              "      <th>genres</th>\n",
              "      <th>keywords</th>\n",
              "      <th>cast</th>\n",
              "      <th>crew</th>\n",
              "      <th>year</th>\n",
              "      <th>month</th>\n",
              "      <th>day</th>\n",
              "    </tr>\n",
              "  </thead>\n",
              "  <tbody>\n",
              "    <tr>\n",
              "      <th>0</th>\n",
              "      <td>False</td>\n",
              "      <td>783461</td>\n",
              "      <td>hi</td>\n",
              "      <td>लूप लपेटा</td>\n",
              "      <td>When her boyfriend loses a mobster's cash, Sav...</td>\n",
              "      <td>56.311</td>\n",
              "      <td>2022-02-04</td>\n",
              "      <td>Looop Lapeta</td>\n",
              "      <td>False</td>\n",
              "      <td>6.2</td>\n",
              "      <td>54</td>\n",
              "      <td>Action, Comedy, Crime</td>\n",
              "      <td>remake, looop lapeta, saade saati</td>\n",
              "      <td>Taapsee Pannu, Tahir Raj Bhasin, Shreya Dhanwa...</td>\n",
              "      <td>Tom Tykwer, Mukesh Chhabra, Tanuj Garg, Siddha...</td>\n",
              "      <td>2022</td>\n",
              "      <td>February</td>\n",
              "      <td>Friday</td>\n",
              "    </tr>\n",
              "    <tr>\n",
              "      <th>1</th>\n",
              "      <td>False</td>\n",
              "      <td>592508</td>\n",
              "      <td>hi</td>\n",
              "      <td>Sooryavanshi</td>\n",
              "      <td>A fearless, faithful albeit slightly forgetful...</td>\n",
              "      <td>45.077</td>\n",
              "      <td>2021-11-05</td>\n",
              "      <td>Sooryavanshi</td>\n",
              "      <td>False</td>\n",
              "      <td>5.8</td>\n",
              "      <td>133</td>\n",
              "      <td>Action, Crime, Thriller</td>\n",
              "      <td>police, sequel, police officer, cop universe</td>\n",
              "      <td>Akshay Kumar, Katrina Kaif, Ajay Devgn, Ranvee...</td>\n",
              "      <td>Akshay Kumar, Karan Johar, Bunty Nagi, Hiroo J...</td>\n",
              "      <td>2021</td>\n",
              "      <td>November</td>\n",
              "      <td>Friday</td>\n",
              "    </tr>\n",
              "    <tr>\n",
              "      <th>2</th>\n",
              "      <td>False</td>\n",
              "      <td>864692</td>\n",
              "      <td>hi</td>\n",
              "      <td>पठान</td>\n",
              "      <td>A soldier caught by enemies and presumed dead ...</td>\n",
              "      <td>47.611</td>\n",
              "      <td>2023-01-25</td>\n",
              "      <td>Pathaan</td>\n",
              "      <td>False</td>\n",
              "      <td>6.7</td>\n",
              "      <td>70</td>\n",
              "      <td>Action, Adventure, Thriller</td>\n",
              "      <td>spy, fake death, spy thriller, spy universe, y...</td>\n",
              "      <td>Shah Rukh Khan, Deepika Padukone, John Abraham...</td>\n",
              "      <td>Aditya Chopra, Siddharth Anand, Siddharth Anan...</td>\n",
              "      <td>2023</td>\n",
              "      <td>January</td>\n",
              "      <td>Wednesday</td>\n",
              "    </tr>\n",
              "    <tr>\n",
              "      <th>3</th>\n",
              "      <td>False</td>\n",
              "      <td>1018228</td>\n",
              "      <td>hi</td>\n",
              "      <td>चोर निकल के भागा</td>\n",
              "      <td>A flight attendant and her boyfriend must stea...</td>\n",
              "      <td>43.789</td>\n",
              "      <td>2023-03-24</td>\n",
              "      <td>Chor Nikal Ke Bhaga</td>\n",
              "      <td>False</td>\n",
              "      <td>7.2</td>\n",
              "      <td>55</td>\n",
              "      <td>Crime, Thriller</td>\n",
              "      <td>heist, airplane hijacking</td>\n",
              "      <td>Yami Gautam, Sunny Kaushal, Sharad Kelkar, Ind...</td>\n",
              "      <td>Dinesh Vijan, Raj Kumar Gupta, Ajay Singh, Man...</td>\n",
              "      <td>2023</td>\n",
              "      <td>March</td>\n",
              "      <td>Friday</td>\n",
              "    </tr>\n",
              "    <tr>\n",
              "      <th>4</th>\n",
              "      <td>False</td>\n",
              "      <td>20453</td>\n",
              "      <td>hi</td>\n",
              "      <td>3 Idiots</td>\n",
              "      <td>Rascal. Joker. Dreamer. Genius... You've never...</td>\n",
              "      <td>37.260</td>\n",
              "      <td>2009-12-25</td>\n",
              "      <td>3 Idiots</td>\n",
              "      <td>False</td>\n",
              "      <td>8.0</td>\n",
              "      <td>2052</td>\n",
              "      <td>Drama, Comedy</td>\n",
              "      <td>suicide, suicide attempt, college, musical, sl...</td>\n",
              "      <td>Aamir Khan, Sharman Joshi, Kareena Kapoor Khan...</td>\n",
              "      <td>Boman Irani, Kareena Kapoor Khan, Manish Malho...</td>\n",
              "      <td>2009</td>\n",
              "      <td>December</td>\n",
              "      <td>Friday</td>\n",
              "    </tr>\n",
              "  </tbody>\n",
              "</table>\n",
              "</div>\n",
              "      <button class=\"colab-df-convert\" onclick=\"convertToInteractive('df-96e22836-48b1-4526-888e-70cd2976b87f')\"\n",
              "              title=\"Convert this dataframe to an interactive table.\"\n",
              "              style=\"display:none;\">\n",
              "        \n",
              "  <svg xmlns=\"http://www.w3.org/2000/svg\" height=\"24px\"viewBox=\"0 0 24 24\"\n",
              "       width=\"24px\">\n",
              "    <path d=\"M0 0h24v24H0V0z\" fill=\"none\"/>\n",
              "    <path d=\"M18.56 5.44l.94 2.06.94-2.06 2.06-.94-2.06-.94-.94-2.06-.94 2.06-2.06.94zm-11 1L8.5 8.5l.94-2.06 2.06-.94-2.06-.94L8.5 2.5l-.94 2.06-2.06.94zm10 10l.94 2.06.94-2.06 2.06-.94-2.06-.94-.94-2.06-.94 2.06-2.06.94z\"/><path d=\"M17.41 7.96l-1.37-1.37c-.4-.4-.92-.59-1.43-.59-.52 0-1.04.2-1.43.59L10.3 9.45l-7.72 7.72c-.78.78-.78 2.05 0 2.83L4 21.41c.39.39.9.59 1.41.59.51 0 1.02-.2 1.41-.59l7.78-7.78 2.81-2.81c.8-.78.8-2.07 0-2.86zM5.41 20L4 18.59l7.72-7.72 1.47 1.35L5.41 20z\"/>\n",
              "  </svg>\n",
              "      </button>\n",
              "      \n",
              "  <style>\n",
              "    .colab-df-container {\n",
              "      display:flex;\n",
              "      flex-wrap:wrap;\n",
              "      gap: 12px;\n",
              "    }\n",
              "\n",
              "    .colab-df-convert {\n",
              "      background-color: #E8F0FE;\n",
              "      border: none;\n",
              "      border-radius: 50%;\n",
              "      cursor: pointer;\n",
              "      display: none;\n",
              "      fill: #1967D2;\n",
              "      height: 32px;\n",
              "      padding: 0 0 0 0;\n",
              "      width: 32px;\n",
              "    }\n",
              "\n",
              "    .colab-df-convert:hover {\n",
              "      background-color: #E2EBFA;\n",
              "      box-shadow: 0px 1px 2px rgba(60, 64, 67, 0.3), 0px 1px 3px 1px rgba(60, 64, 67, 0.15);\n",
              "      fill: #174EA6;\n",
              "    }\n",
              "\n",
              "    [theme=dark] .colab-df-convert {\n",
              "      background-color: #3B4455;\n",
              "      fill: #D2E3FC;\n",
              "    }\n",
              "\n",
              "    [theme=dark] .colab-df-convert:hover {\n",
              "      background-color: #434B5C;\n",
              "      box-shadow: 0px 1px 3px 1px rgba(0, 0, 0, 0.15);\n",
              "      filter: drop-shadow(0px 1px 2px rgba(0, 0, 0, 0.3));\n",
              "      fill: #FFFFFF;\n",
              "    }\n",
              "  </style>\n",
              "\n",
              "      <script>\n",
              "        const buttonEl =\n",
              "          document.querySelector('#df-96e22836-48b1-4526-888e-70cd2976b87f button.colab-df-convert');\n",
              "        buttonEl.style.display =\n",
              "          google.colab.kernel.accessAllowed ? 'block' : 'none';\n",
              "\n",
              "        async function convertToInteractive(key) {\n",
              "          const element = document.querySelector('#df-96e22836-48b1-4526-888e-70cd2976b87f');\n",
              "          const dataTable =\n",
              "            await google.colab.kernel.invokeFunction('convertToInteractive',\n",
              "                                                     [key], {});\n",
              "          if (!dataTable) return;\n",
              "\n",
              "          const docLinkHtml = 'Like what you see? Visit the ' +\n",
              "            '<a target=\"_blank\" href=https://colab.research.google.com/notebooks/data_table.ipynb>data table notebook</a>'\n",
              "            + ' to learn more about interactive tables.';\n",
              "          element.innerHTML = '';\n",
              "          dataTable['output_type'] = 'display_data';\n",
              "          await google.colab.output.renderOutput(dataTable, element);\n",
              "          const docLink = document.createElement('div');\n",
              "          docLink.innerHTML = docLinkHtml;\n",
              "          element.appendChild(docLink);\n",
              "        }\n",
              "      </script>\n",
              "    </div>\n",
              "  </div>\n",
              "  "
            ]
          },
          "metadata": {},
          "execution_count": 98
        }
      ]
    },
    {
      "cell_type": "markdown",
      "source": [
        "## Conclusion\n",
        "Data preprocessing involves steps such as Handling Missing Values, Deleting Duplicates, Changing Data Formats, Handling Outliers, and many more.\n",
        "\n",
        "Feel free to leave constructive feedback. I'm still learning in this field, therefore constructive feedback is necessary."
      ],
      "metadata": {
        "id": "l2F739xbAAx6"
      }
    },
    {
      "cell_type": "markdown",
      "source": [
        "## References\n",
        "\n",
        "1. https://www.youtube.com/watch?v=A3gClkblXK8\n",
        "2. https://www.youtube.com/watch?v=KFuEAGR3HS4\n",
        "3. https://medium.com/mlearning-ai/4-easy-ways-to-handle-outliers-in-your-data-47f125a3f779\n",
        "4. https://www.kaggle.com/code/agrawaladitya/step-by-step-data-preprocessing-eda/notebook"
      ],
      "metadata": {
        "id": "KjE9qNTbAD_p"
      }
    }
  ]
}