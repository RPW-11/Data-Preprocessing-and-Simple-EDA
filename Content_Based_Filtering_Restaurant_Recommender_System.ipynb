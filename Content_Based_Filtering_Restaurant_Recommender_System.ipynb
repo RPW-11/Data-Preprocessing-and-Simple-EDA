{
  "nbformat": 4,
  "nbformat_minor": 0,
  "metadata": {
    "colab": {
      "provenance": [],
      "authorship_tag": "ABX9TyPYc5RxlY4Jr4RR452acavh",
      "include_colab_link": true
    },
    "kernelspec": {
      "name": "python3",
      "display_name": "Python 3"
    },
    "language_info": {
      "name": "python"
    }
  },
  "cells": [
    {
      "cell_type": "markdown",
      "metadata": {
        "id": "view-in-github",
        "colab_type": "text"
      },
      "source": [
        "<a href=\"https://colab.research.google.com/github/RPW-11/Data-Preprocessing-and-Simple-EDA/blob/main/Content_Based_Filtering_Restaurant_Recommender_System.ipynb\" target=\"_parent\"><img src=\"https://colab.research.google.com/assets/colab-badge.svg\" alt=\"Open In Colab\"/></a>"
      ]
    },
    {
      "cell_type": "code",
      "execution_count": null,
      "metadata": {
        "id": "3ix_EyTs5QbA",
        "colab": {
          "base_uri": "https://localhost:8080/",
          "height": 55
        },
        "outputId": "97d69cae-8106-430f-e419-2aa80e25119d"
      },
      "outputs": [
        {
          "data": {
            "text/html": [
              "\n",
              "     <input type=\"file\" id=\"files-c75f0419-9433-45aa-a23e-da561a72ae26\" name=\"files[]\" multiple disabled\n",
              "        style=\"border:none\" />\n",
              "     <output id=\"result-c75f0419-9433-45aa-a23e-da561a72ae26\">\n",
              "      Upload widget is only available when the cell has been executed in the\n",
              "      current browser session. Please rerun this cell to enable.\n",
              "      </output>\n",
              "      <script>// Copyright 2017 Google LLC\n",
              "//\n",
              "// Licensed under the Apache License, Version 2.0 (the \"License\");\n",
              "// you may not use this file except in compliance with the License.\n",
              "// You may obtain a copy of the License at\n",
              "//\n",
              "//      http://www.apache.org/licenses/LICENSE-2.0\n",
              "//\n",
              "// Unless required by applicable law or agreed to in writing, software\n",
              "// distributed under the License is distributed on an \"AS IS\" BASIS,\n",
              "// WITHOUT WARRANTIES OR CONDITIONS OF ANY KIND, either express or implied.\n",
              "// See the License for the specific language governing permissions and\n",
              "// limitations under the License.\n",
              "\n",
              "/**\n",
              " * @fileoverview Helpers for google.colab Python module.\n",
              " */\n",
              "(function(scope) {\n",
              "function span(text, styleAttributes = {}) {\n",
              "  const element = document.createElement('span');\n",
              "  element.textContent = text;\n",
              "  for (const key of Object.keys(styleAttributes)) {\n",
              "    element.style[key] = styleAttributes[key];\n",
              "  }\n",
              "  return element;\n",
              "}\n",
              "\n",
              "// Max number of bytes which will be uploaded at a time.\n",
              "const MAX_PAYLOAD_SIZE = 100 * 1024;\n",
              "\n",
              "function _uploadFiles(inputId, outputId) {\n",
              "  const steps = uploadFilesStep(inputId, outputId);\n",
              "  const outputElement = document.getElementById(outputId);\n",
              "  // Cache steps on the outputElement to make it available for the next call\n",
              "  // to uploadFilesContinue from Python.\n",
              "  outputElement.steps = steps;\n",
              "\n",
              "  return _uploadFilesContinue(outputId);\n",
              "}\n",
              "\n",
              "// This is roughly an async generator (not supported in the browser yet),\n",
              "// where there are multiple asynchronous steps and the Python side is going\n",
              "// to poll for completion of each step.\n",
              "// This uses a Promise to block the python side on completion of each step,\n",
              "// then passes the result of the previous step as the input to the next step.\n",
              "function _uploadFilesContinue(outputId) {\n",
              "  const outputElement = document.getElementById(outputId);\n",
              "  const steps = outputElement.steps;\n",
              "\n",
              "  const next = steps.next(outputElement.lastPromiseValue);\n",
              "  return Promise.resolve(next.value.promise).then((value) => {\n",
              "    // Cache the last promise value to make it available to the next\n",
              "    // step of the generator.\n",
              "    outputElement.lastPromiseValue = value;\n",
              "    return next.value.response;\n",
              "  });\n",
              "}\n",
              "\n",
              "/**\n",
              " * Generator function which is called between each async step of the upload\n",
              " * process.\n",
              " * @param {string} inputId Element ID of the input file picker element.\n",
              " * @param {string} outputId Element ID of the output display.\n",
              " * @return {!Iterable<!Object>} Iterable of next steps.\n",
              " */\n",
              "function* uploadFilesStep(inputId, outputId) {\n",
              "  const inputElement = document.getElementById(inputId);\n",
              "  inputElement.disabled = false;\n",
              "\n",
              "  const outputElement = document.getElementById(outputId);\n",
              "  outputElement.innerHTML = '';\n",
              "\n",
              "  const pickedPromise = new Promise((resolve) => {\n",
              "    inputElement.addEventListener('change', (e) => {\n",
              "      resolve(e.target.files);\n",
              "    });\n",
              "  });\n",
              "\n",
              "  const cancel = document.createElement('button');\n",
              "  inputElement.parentElement.appendChild(cancel);\n",
              "  cancel.textContent = 'Cancel upload';\n",
              "  const cancelPromise = new Promise((resolve) => {\n",
              "    cancel.onclick = () => {\n",
              "      resolve(null);\n",
              "    };\n",
              "  });\n",
              "\n",
              "  // Wait for the user to pick the files.\n",
              "  const files = yield {\n",
              "    promise: Promise.race([pickedPromise, cancelPromise]),\n",
              "    response: {\n",
              "      action: 'starting',\n",
              "    }\n",
              "  };\n",
              "\n",
              "  cancel.remove();\n",
              "\n",
              "  // Disable the input element since further picks are not allowed.\n",
              "  inputElement.disabled = true;\n",
              "\n",
              "  if (!files) {\n",
              "    return {\n",
              "      response: {\n",
              "        action: 'complete',\n",
              "      }\n",
              "    };\n",
              "  }\n",
              "\n",
              "  for (const file of files) {\n",
              "    const li = document.createElement('li');\n",
              "    li.append(span(file.name, {fontWeight: 'bold'}));\n",
              "    li.append(span(\n",
              "        `(${file.type || 'n/a'}) - ${file.size} bytes, ` +\n",
              "        `last modified: ${\n",
              "            file.lastModifiedDate ? file.lastModifiedDate.toLocaleDateString() :\n",
              "                                    'n/a'} - `));\n",
              "    const percent = span('0% done');\n",
              "    li.appendChild(percent);\n",
              "\n",
              "    outputElement.appendChild(li);\n",
              "\n",
              "    const fileDataPromise = new Promise((resolve) => {\n",
              "      const reader = new FileReader();\n",
              "      reader.onload = (e) => {\n",
              "        resolve(e.target.result);\n",
              "      };\n",
              "      reader.readAsArrayBuffer(file);\n",
              "    });\n",
              "    // Wait for the data to be ready.\n",
              "    let fileData = yield {\n",
              "      promise: fileDataPromise,\n",
              "      response: {\n",
              "        action: 'continue',\n",
              "      }\n",
              "    };\n",
              "\n",
              "    // Use a chunked sending to avoid message size limits. See b/62115660.\n",
              "    let position = 0;\n",
              "    do {\n",
              "      const length = Math.min(fileData.byteLength - position, MAX_PAYLOAD_SIZE);\n",
              "      const chunk = new Uint8Array(fileData, position, length);\n",
              "      position += length;\n",
              "\n",
              "      const base64 = btoa(String.fromCharCode.apply(null, chunk));\n",
              "      yield {\n",
              "        response: {\n",
              "          action: 'append',\n",
              "          file: file.name,\n",
              "          data: base64,\n",
              "        },\n",
              "      };\n",
              "\n",
              "      let percentDone = fileData.byteLength === 0 ?\n",
              "          100 :\n",
              "          Math.round((position / fileData.byteLength) * 100);\n",
              "      percent.textContent = `${percentDone}% done`;\n",
              "\n",
              "    } while (position < fileData.byteLength);\n",
              "  }\n",
              "\n",
              "  // All done.\n",
              "  yield {\n",
              "    response: {\n",
              "      action: 'complete',\n",
              "    }\n",
              "  };\n",
              "}\n",
              "\n",
              "scope.google = scope.google || {};\n",
              "scope.google.colab = scope.google.colab || {};\n",
              "scope.google.colab._files = {\n",
              "  _uploadFiles,\n",
              "  _uploadFilesContinue,\n",
              "};\n",
              "})(self);\n",
              "</script> "
            ],
            "text/plain": [
              "<IPython.core.display.HTML object>"
            ]
          },
          "metadata": {},
          "output_type": "display_data"
        }
      ],
      "source": [
        "# kaggle API\n",
        "!pip install -q kaggle\n",
        "from google.colab import files\n",
        "files.upload()\n",
        "!mkdir ~/.kaggle\n",
        "! cp kaggle.json ~/.kaggle/\n",
        "! chmod 600 ~/.kaggle/kaggle.json"
      ]
    },
    {
      "cell_type": "code",
      "source": [
        "# download the data set and unzip\n",
        "!kaggle datasets download -d ahmedshahriarsakib/uber-eats-usa-restaurants-menus\n",
        "!unzip /content/uber-eats-usa-restaurants-menus.zip"
      ],
      "metadata": {
        "id": "iDhk1jiT5c0l"
      },
      "execution_count": null,
      "outputs": []
    },
    {
      "cell_type": "code",
      "source": [
        "# libraries\n",
        "import pandas as pd\n",
        "import numpy as np\n",
        "import matplotlib.pyplot as plt\n",
        "import tensorflow as tf\n",
        "from sklearn.preprocessing import StandardScaler, MinMaxScaler\n",
        "from sklearn.model_selection import train_test_split"
      ],
      "metadata": {
        "id": "NkknM9H4501E"
      },
      "execution_count": null,
      "outputs": []
    },
    {
      "cell_type": "code",
      "source": [
        "# load the dataset and preview\n",
        "df = pd.read_csv('/content/restaurants.csv')\n",
        "df.head()"
      ],
      "metadata": {
        "id": "I_53Frkw6und"
      },
      "execution_count": null,
      "outputs": []
    },
    {
      "cell_type": "markdown",
      "source": [
        "## EDA and Preprocessing"
      ],
      "metadata": {
        "id": "v_LCr23I7Mg-"
      }
    },
    {
      "cell_type": "code",
      "source": [
        "df.info()"
      ],
      "metadata": {
        "id": "EVwvRy3364oW"
      },
      "execution_count": null,
      "outputs": []
    },
    {
      "cell_type": "code",
      "source": [
        "# drop unecessary columns\n",
        "df.drop(columns=['position', 'full_address', 'zip_code', 'price_range', 'lat', 'lng'], axis=1, inplace=True)"
      ],
      "metadata": {
        "id": "98ByFGhG9bmO"
      },
      "execution_count": null,
      "outputs": []
    },
    {
      "cell_type": "code",
      "source": [
        "# counting missing value percentage of each column\n",
        "missing_df = (df.isnull().sum() / df.shape[0] * 100).reset_index().rename(columns={0: 'missing %'})\n",
        "missing_df[missing_df['missing %'] > 0]"
      ],
      "metadata": {
        "id": "mJ3d7-ZK7RPQ"
      },
      "execution_count": null,
      "outputs": []
    },
    {
      "cell_type": "code",
      "source": [
        "# handling missing numerical values\n",
        "for cat in ['score', 'ratings']:\n",
        "  df[cat].fillna(df[cat].mean(), inplace=True)"
      ],
      "metadata": {
        "id": "6T23muS67iQt"
      },
      "execution_count": null,
      "outputs": []
    },
    {
      "cell_type": "code",
      "source": [
        "# handling missing categorical value\n",
        "# inspect\n",
        "df[df['category'].isnull()][['name']]"
      ],
      "metadata": {
        "id": "IURKbdl0AMwq"
      },
      "execution_count": null,
      "outputs": []
    },
    {
      "cell_type": "code",
      "source": [
        "# drop na values\n",
        "df.dropna(subset='category', inplace=True)"
      ],
      "metadata": {
        "id": "XGwimqhrB6u8"
      },
      "execution_count": null,
      "outputs": []
    },
    {
      "cell_type": "code",
      "source": [
        "# recheck missing values\n",
        "df.isnull().sum()"
      ],
      "metadata": {
        "id": "SDfKejJ--kbE"
      },
      "execution_count": null,
      "outputs": []
    },
    {
      "cell_type": "markdown",
      "source": [
        "### Picking the top 20 categories"
      ],
      "metadata": {
        "id": "fbM20bB_CdDf"
      }
    },
    {
      "cell_type": "code",
      "source": [
        "# get category unique values\n",
        "cats_dup = df['category'].tolist()\n",
        "cats_list = []\n",
        "for line in cats_dup:\n",
        "  for cat in line.split(', '):\n",
        "    cats_list.append(cat)\n",
        "\n",
        "# inspect the number of categories\n",
        "indexes = pd.value_counts(cats_list).head(30).index\n",
        "pd.value_counts(cats_list).head(30)"
      ],
      "metadata": {
        "id": "yGIe2G9V_1VU"
      },
      "execution_count": null,
      "outputs": []
    },
    {
      "cell_type": "code",
      "source": [
        "# picking top 20 cuisine excluding American and Sandwiches\n",
        "cats_20 = [x for x in indexes[:] if x not in ['American', 'Sandwiches']]\n",
        "cats_20 = cats_20[:20]\n",
        "cats_20"
      ],
      "metadata": {
        "id": "7rXxqAL7ICkE"
      },
      "execution_count": null,
      "outputs": []
    },
    {
      "cell_type": "code",
      "source": [
        "# filtering out restaurants\n",
        "ids = []\n",
        "for cat in cats_20:\n",
        "  ids += df[df['category'].str.contains(cat)].id.tolist()\n",
        "\n",
        "print(f\"The num of list restaurants {len(ids)}\") \n",
        "unique_ids = set(ids)\n",
        "print(f\"The num of unique restaurants {len(unique_ids)}\") "
      ],
      "metadata": {
        "id": "cqPW-bJlDSKC"
      },
      "execution_count": null,
      "outputs": []
    },
    {
      "cell_type": "code",
      "source": [
        "# new dataframe\n",
        "ids = list(unique_ids)\n",
        "df = df.loc[df.id.isin(ids)]\n",
        "df.head()"
      ],
      "metadata": {
        "id": "PFEFojGVNLsi"
      },
      "execution_count": null,
      "outputs": []
    },
    {
      "cell_type": "code",
      "source": [
        "df.info()"
      ],
      "metadata": {
        "id": "duedSTGeoM_N"
      },
      "execution_count": null,
      "outputs": []
    },
    {
      "cell_type": "markdown",
      "source": [
        "### Computing weighted average using bayesian average"
      ],
      "metadata": {
        "id": "EVTHzPs5k7ue"
      }
    },
    {
      "cell_type": "code",
      "source": [
        "# select restaurants that has ratings bigger than 40 percent of the data\n",
        "num_ratings_threshold = df.ratings.quantile(.4)\n",
        "print(f\"the threshold {num_ratings_threshold}\")\n",
        "\n",
        "#filter the data\n",
        "print(\"Filtering...\")\n",
        "print(f\"shape before {df.shape}\")\n",
        "df = df.loc[df.ratings >= num_ratings_threshold]\n",
        "print(f\"shape after {df.shape}\")"
      ],
      "metadata": {
        "id": "_5PXZwMTlBPE"
      },
      "execution_count": null,
      "outputs": []
    },
    {
      "cell_type": "code",
      "source": [
        "# get the average score\n",
        "avg_score = df.score.mean()\n",
        "min_num_rat = df.ratings.min()\n",
        "print(f\"avg score {avg_score} | min ratings {min_num_rat}\")\n",
        "\n",
        "# define the function\n",
        "def bayesian_average(score, avg_score, nratings, min_ratings):\n",
        "  return ((score * nratings) + (avg_score * min_ratings))/(nratings + min_ratings)\n",
        "\n",
        "#invoke the function\n",
        "df['weighted_score'] = df.apply(lambda x: bayesian_average(x['score'], avg_score, x['ratings'], min_num_rat), axis=1)"
      ],
      "metadata": {
        "id": "Weib_wvBl6KJ"
      },
      "execution_count": null,
      "outputs": []
    },
    {
      "cell_type": "code",
      "source": [
        "# check the result\n",
        "df = df.drop(columns=['score', 'ratings'], axis=1)\n",
        "df.iloc[-10:]"
      ],
      "metadata": {
        "id": "NdXOP5d2pmWT"
      },
      "execution_count": null,
      "outputs": []
    },
    {
      "cell_type": "markdown",
      "source": [
        "### One-hot encode the features"
      ],
      "metadata": {
        "id": "cr6xg3N6PSjn"
      }
    },
    {
      "cell_type": "code",
      "source": [
        "# one hot encode\n",
        "for cat in cats_20:\n",
        "  val = df.loc[:,'category'].str.contains(cat).astype(int).tolist()\n",
        "  df.loc[:, cat] = val\n",
        "\n",
        "df.head()"
      ],
      "metadata": {
        "id": "fO93RwIHOHvW"
      },
      "execution_count": null,
      "outputs": []
    },
    {
      "cell_type": "markdown",
      "source": [
        "## Merge with menu dataset"
      ],
      "metadata": {
        "id": "Hk2-J1x1QjhU"
      }
    },
    {
      "cell_type": "code",
      "source": [
        "menu_df = pd.read_csv('/content/restaurant-menus.csv')\n",
        "menu_df.head()"
      ],
      "metadata": {
        "id": "f4cCreaEQGJ-"
      },
      "execution_count": null,
      "outputs": []
    },
    {
      "cell_type": "code",
      "source": [
        "menu_df.info()"
      ],
      "metadata": {
        "id": "IxHsp5dCeA2-"
      },
      "execution_count": null,
      "outputs": []
    },
    {
      "cell_type": "code",
      "source": [
        "# preprocess\n",
        "menu_df['price'] = menu_df['price'].str.replace(\" USD\", \"\")\n",
        "menu_df['price'] = menu_df['price'].astype(float)\n",
        "menu_df.dtypes"
      ],
      "metadata": {
        "id": "63gGMLRzeHbD"
      },
      "execution_count": null,
      "outputs": []
    },
    {
      "cell_type": "code",
      "source": [
        "menu_df.isnull().sum()"
      ],
      "metadata": {
        "id": "pDuGUob1jWiX"
      },
      "execution_count": null,
      "outputs": []
    },
    {
      "cell_type": "code",
      "source": [
        "# get the price range\n",
        "avg_menu = menu_df.groupby('restaurant_id')[['price']].mean().reset_index().rename(columns={'restaurant_id':'id', 'price':'avg_price'})\n",
        "avg_menu.head()"
      ],
      "metadata": {
        "id": "VxhVfuZielz6"
      },
      "execution_count": null,
      "outputs": []
    },
    {
      "cell_type": "code",
      "source": [
        "# merge\n",
        "df = pd.merge(df, avg_menu, on='id')\n",
        "df.info()"
      ],
      "metadata": {
        "id": "Y94qZ8gKgFpF"
      },
      "execution_count": null,
      "outputs": []
    },
    {
      "cell_type": "code",
      "source": [
        "df = df[['id', 'name', 'category', 'weighted_score','avg_price'] + cats_20]\n",
        "df.head()"
      ],
      "metadata": {
        "id": "3aqEWQ62twWG"
      },
      "execution_count": null,
      "outputs": []
    },
    {
      "cell_type": "markdown",
      "source": [
        "## Training The Model"
      ],
      "metadata": {
        "id": "ROyIGDrc3LRi"
      }
    },
    {
      "cell_type": "code",
      "source": [
        "item_df = df[['weighted_score','avg_price'] + cats_20]\n",
        "item_df.head()"
      ],
      "metadata": {
        "id": "cp1GLIrKyDKF"
      },
      "execution_count": null,
      "outputs": []
    },
    {
      "cell_type": "markdown",
      "source": [
        "## Model Architecture"
      ],
      "metadata": {
        "id": "7K17v-e57Qwj"
      }
    },
    {
      "cell_type": "markdown",
      "source": [
        "### Using similarity matrix"
      ],
      "metadata": {
        "id": "QZxTUFXPKD1w"
      }
    },
    {
      "cell_type": "code",
      "source": [
        "X_data = item_df.values\n",
        "# normalize using standard scaler\n",
        "scaler = StandardScaler()\n",
        "X_data = scaler.fit_transform(X_data)\n",
        "\n",
        "# Step 2: Compute Similarity\n",
        "# Convert the data to TensorFlow tensors\n",
        "X_tensor = tf.constant(X_data, dtype=tf.float32)\n",
        "\n",
        "# Compute pairwise using tf.matmul\n",
        "similarity_matrix = tf.matmul(X_tensor, X_tensor, transpose_b=True)\n",
        "\n",
        "# Convert the similarity matrix to a numpy array\n",
        "similarity_matrix_np = similarity_matrix.numpy()\n",
        "\n",
        "# Step 3: Print Similarity Results\n",
        "# Print the similarity matrix\n",
        "print(similarity_matrix_np)"
      ],
      "metadata": {
        "id": "o1dkp0GWvCZG"
      },
      "execution_count": null,
      "outputs": []
    },
    {
      "cell_type": "code",
      "source": [
        "csv = pd.DataFrame(data=similarity_matrix_np)\n",
        "csv.to_csv('cosine_similarity.csv')"
      ],
      "metadata": {
        "id": "5D9v0mhc86w-"
      },
      "execution_count": null,
      "outputs": []
    },
    {
      "cell_type": "code",
      "source": [
        "n = 10\n",
        "target = 0\n",
        "top_n_indices = np.argsort(similarity_matrix_np[target])[-n-1:-1][::-1]\n",
        "top_n_indices"
      ],
      "metadata": {
        "id": "FDcZ4tKjDzFn"
      },
      "execution_count": null,
      "outputs": []
    },
    {
      "cell_type": "code",
      "source": [
        "target = np.array(target)\n",
        "df.iloc[np.concatenate((target.reshape(-1,), top_n_indices), axis=0)]"
      ],
      "metadata": {
        "id": "9H4b-gcED9lh"
      },
      "execution_count": null,
      "outputs": []
    },
    {
      "cell_type": "markdown",
      "source": [
        "### Generating User Dataframe"
      ],
      "metadata": {
        "id": "LSywtFsbOFDT"
      }
    },
    {
      "cell_type": "code",
      "source": [
        "# User\n",
        "n_user = 200\n",
        "limit = df.shape[0]-1\n",
        "user_data = np.array([])\n",
        "for i in range(n_user):\n",
        "  n_res = np.random.randint(50,200)\n",
        "  res_id = np.random.randint(0,limit,(n_res,1))\n",
        "  num_transaction = np.tile(np.random.randint(0,50, 20), (n_res,1))\n",
        "  per_user = np.concatenate((res_id, num_transaction),axis=1)\n",
        "  user_data = np.concatenate((user_data.reshape(-1,21), per_user), axis=0)\n",
        "\n",
        "user_df = pd.DataFrame(data=user_data, columns=['ind'] + cats_20).set_index('ind')\n",
        "print(f\"user_df shape {user_df.shape}\")\n",
        "user_df.head()"
      ],
      "metadata": {
        "id": "2bswQprYOHPx"
      },
      "execution_count": null,
      "outputs": []
    },
    {
      "cell_type": "markdown",
      "source": [
        "### Generating item_df based on user"
      ],
      "metadata": {
        "id": "oSlH0YwiS12E"
      }
    },
    {
      "cell_type": "code",
      "source": [
        "new_df = item_df.merge(user_df, how='inner', left_index=True, right_index=True, suffixes=('','_y'))\n",
        "new_df = new_df[[col for col in new_df.columns if '_y' not in col]]\n",
        "print(f\"item shape: {new_df.shape}\")\n",
        "new_df.head()"
      ],
      "metadata": {
        "id": "Woq4kvoVOROX"
      },
      "execution_count": null,
      "outputs": []
    },
    {
      "cell_type": "code",
      "source": [
        "# y labels (actual ratings from the user)\n",
        "y = (5-1)* np.random.random_sample((new_df.shape[0],)) + 1"
      ],
      "metadata": {
        "id": "IM1FgwQ8wj0e"
      },
      "execution_count": null,
      "outputs": []
    },
    {
      "cell_type": "code",
      "source": [
        "# Scale the training data\n",
        "item_df = new_df\n",
        "# scale training data\n",
        "item_train_unscaled = item_df\n",
        "user_train_unscaled = user_df\n",
        "y_train_unscaled    = y\n",
        "\n",
        "scalerItem = StandardScaler()\n",
        "scalerItem.fit(item_df)\n",
        "item_train = scalerItem.transform(item_df)\n",
        "\n",
        "scalerUser = StandardScaler()\n",
        "scalerUser.fit(user_df)\n",
        "user_train = scalerUser.transform(user_df)\n",
        "\n",
        "scalerTarget = MinMaxScaler((-1, 1))\n",
        "scalerTarget.fit(y.reshape(-1, 1))\n",
        "y_train = scalerTarget.transform(y.reshape(-1, 1))"
      ],
      "metadata": {
        "id": "Q5KKCY9jwV4u"
      },
      "execution_count": null,
      "outputs": []
    },
    {
      "cell_type": "code",
      "source": [
        "# split the dataset\n",
        "item_train, item_test = train_test_split(item_train, train_size=0.80, shuffle=True, random_state=1)\n",
        "user_train, user_test = train_test_split(user_train, train_size=0.80, shuffle=True, random_state=1)\n",
        "y_train, y_test       = train_test_split(y_train,    train_size=0.80, shuffle=True, random_state=1)\n",
        "print(f\"movie/item training data shape: {item_train.shape}\")\n",
        "print(f\"movie/item test data shape: {item_test.shape}\")"
      ],
      "metadata": {
        "id": "A12tawDsxX1-"
      },
      "execution_count": null,
      "outputs": []
    },
    {
      "cell_type": "code",
      "source": [
        "# MODEL ARCHITECTURE\n",
        "num_outputs = 16\n",
        "tf.random.set_seed(1)\n",
        "user_NN = tf.keras.models.Sequential([\n",
        "    tf.keras.layers.Dense(128, activation='relu'),\n",
        "    tf.keras.layers.Dense(64, activation='relu'),\n",
        "    tf.keras.layers.Dense(num_outputs, activation='linear')\n",
        "])\n",
        "\n",
        "item_NN = tf.keras.models.Sequential([\n",
        "    tf.keras.layers.Dense(128, activation='relu'),\n",
        "    tf.keras.layers.Dense(64, activation='relu'),\n",
        "    tf.keras.layers.Dense(num_outputs, activation='linear')\n",
        "])\n",
        "\n",
        "# create the user input and point to the base network\n",
        "input_user = tf.keras.layers.Input(shape=(user_train.shape[1]))\n",
        "vu = user_NN(input_user)\n",
        "vu = tf.linalg.l2_normalize(vu, axis=1)\n",
        "\n",
        "# create the item input and point to the base network\n",
        "input_item = tf.keras.layers.Input(shape=(item_train.shape[1]))\n",
        "vm = item_NN(input_item)\n",
        "vm = tf.linalg.l2_normalize(vm, axis=1)\n",
        "\n",
        "# compute the dot product of the two vectors vu and vm\n",
        "output = tf.keras.layers.Dot(axes=1)([vu, vm])\n",
        "\n",
        "# specify the inputs and output of the model\n",
        "model = tf.keras.Model([input_user, input_item], output)\n",
        "\n",
        "model.summary()"
      ],
      "metadata": {
        "id": "K-BAElrhPACH"
      },
      "execution_count": null,
      "outputs": []
    },
    {
      "cell_type": "code",
      "source": [
        "tf.random.set_seed(1)\n",
        "cost_fn = tf.keras.losses.MeanSquaredError()\n",
        "opt = tf.keras.optimizers.Adam(learning_rate=0.01)\n",
        "model.compile(optimizer=opt,\n",
        "              loss=cost_fn)"
      ],
      "metadata": {
        "id": "xBB02qOXxxGT"
      },
      "execution_count": null,
      "outputs": []
    },
    {
      "cell_type": "code",
      "source": [
        "tf.random.set_seed(1)\n",
        "model.fit([user_train, item_train], y_train, epochs=30)"
      ],
      "metadata": {
        "id": "WtwrLGa2x3ax"
      },
      "execution_count": null,
      "outputs": []
    },
    {
      "cell_type": "code",
      "source": [
        "model.evaluate([user_test, item_test], y_test)"
      ],
      "metadata": {
        "id": "sfPSFaYmyDKz"
      },
      "execution_count": null,
      "outputs": []
    },
    {
      "cell_type": "code",
      "source": [
        "# generate and replicate the user vector to match the number movies in the data set.\n",
        "pref = np.random.randint(0,50,20)\n",
        "user_vecs = np.tile(pref, (df.shape[0],1))\n",
        "\n",
        "# scale our user and item vectors\n",
        "suser_vecs = scalerUser.transform(user_vecs)\n",
        "sitem_vecs = scalerItem.transform(df[item_df.columns])\n",
        "\n",
        "# make a prediction\n",
        "y_p = model.predict([suser_vecs, sitem_vecs])\n",
        "\n",
        "# unscale y prediction \n",
        "y_pu = scalerTarget.inverse_transform(y_p)\n",
        "\n",
        "# sort the results, highest prediction first\n",
        "sorted_index = np.argsort(-y_pu,axis=0).reshape(-1).tolist()  #negate to get largest rating first\n",
        "sorted_ypu   = y_pu[sorted_index]\n",
        "sorted_items = df.iloc[sorted_index]  #using unscaled vectors for display"
      ],
      "metadata": {
        "id": "Jzr016AtyMeV"
      },
      "execution_count": null,
      "outputs": []
    },
    {
      "cell_type": "code",
      "source": [
        "print(pref)\n",
        "print(sorted_ypu[:10].reshape(-1,))\n",
        "sorted_items[['name','category']].head(10)"
      ],
      "metadata": {
        "id": "htZSvkLLznqw"
      },
      "execution_count": null,
      "outputs": []
    },
    {
      "cell_type": "code",
      "source": [
        "model.save('restaurant_prediction')"
      ],
      "metadata": {
        "id": "c9BI4_VrAMlj"
      },
      "execution_count": null,
      "outputs": []
    },
    {
      "cell_type": "code",
      "source": [],
      "metadata": {
        "id": "YyKlMj3yJGrq"
      },
      "execution_count": null,
      "outputs": []
    }
  ]
}